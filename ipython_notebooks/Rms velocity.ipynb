{
 "metadata": {
  "name": ""
 },
 "nbformat": 3,
 "nbformat_minor": 0,
 "worksheets": [
  {
   "cells": [
    {
     "cell_type": "code",
     "collapsed": false,
     "input": [
      "def vrms_n (n, vi, twt):\n",
      "    \"\"\" \n",
      "    RMS velocity from layer 0 to layer n\n",
      "    \n",
      "    * n : int\n",
      "        layer index to where vrms will be calculated\n",
      "    * vi : ndarray\n",
      "        interval velocity array\n",
      "    * twt : ndarray\n",
      "        two way time for each layer vi\n",
      "    \n",
      "    \"\"\"\n",
      "    vrms_n = 0.\n",
      "    t0 = 0.\n",
      "    for i in xrange(n):\n",
      "        vrms_n += twt[i]*vi[i]**2\n",
      "        t0 += twt[i]\n",
      "        \n",
      "    return np.sqrt(vrms_n/t0)\n",
      "\n",
      "def vrms(vi, ds):\n",
      "    \"\"\"\n",
      "    Calculate RMS velocity from:\n",
      "\n",
      "    * vi : ndarray\n",
      "        interval velocity array size\n",
      "    * ds : ndarray\n",
      "        layer size\n",
      "\n",
      "    return Rms velocity array\n",
      "    \"\"\"\n",
      "    twt = 2*(ds/vi) # two way time\n",
      "    return [ vrms_n(i, vi, twt) for i in xrange(1,len(vi)+1) ]"
     ],
     "language": "python",
     "metadata": {},
     "outputs": [],
     "prompt_number": 7
    },
    {
     "cell_type": "code",
     "collapsed": false,
     "input": [
      "import numpy as np\n",
      "# vrms calculation from intervalar velocity and\n",
      "# layer size (Parana basin case 1300 meters)\n",
      "vi = np.array([ 1000.0, 4900.0, 3500.0 ])\n",
      "ds = np.array([ 300.0, 700.0, 300.0 ])    "
     ],
     "language": "python",
     "metadata": {},
     "outputs": [],
     "prompt_number": 2
    },
    {
     "cell_type": "code",
     "collapsed": false,
     "input": [
      "vrms(vi, ds)\n"
     ],
     "language": "python",
     "metadata": {},
     "outputs": [
      {
       "metadata": {},
       "output_type": "pyout",
       "prompt_number": 3,
       "text": [
        "[1000.0, 2902.1682661695017, 3007.1985706373371]"
       ]
      }
     ],
     "prompt_number": 3
    },
    {
     "cell_type": "code",
     "collapsed": false,
     "input": [
      "twt = 2*(ds/vi) # two way time"
     ],
     "language": "python",
     "metadata": {},
     "outputs": [],
     "prompt_number": 49
    },
    {
     "cell_type": "code",
     "collapsed": false,
     "input": [
      "twt"
     ],
     "language": "python",
     "metadata": {},
     "outputs": [
      {
       "output_type": "pyout",
       "prompt_number": 51,
       "text": [
        "array([ 0.6       ,  0.28571429,  0.17142857])"
       ]
      }
     ],
     "prompt_number": 51
    },
    {
     "cell_type": "code",
     "collapsed": false,
     "input": [
      "np.sum(twt)"
     ],
     "language": "python",
     "metadata": {},
     "outputs": [
      {
       "output_type": "pyout",
       "prompt_number": 50,
       "text": [
        "1.0571428571428572"
       ]
      }
     ],
     "prompt_number": 50
    },
    {
     "cell_type": "code",
     "collapsed": false,
     "input": [
      "data = np.random.rand(100)*1000\n",
      "ds = np.ones(100)*25"
     ],
     "language": "python",
     "metadata": {},
     "outputs": [],
     "prompt_number": 4
    },
    {
     "cell_type": "code",
     "collapsed": false,
     "input": [
      "vrms(data, ds)"
     ],
     "language": "python",
     "metadata": {},
     "outputs": [
      {
       "metadata": {},
       "output_type": "pyout",
       "prompt_number": 8,
       "text": [
        "[156.71092385126207,\n",
        " 96.844765842858564,\n",
        " 103.32028776553301,\n",
        " 127.52977264497041,\n",
        " 128.13688323899663,\n",
        " 152.46945488072797,\n",
        " 181.57521860353563,\n",
        " 192.59764060646023,\n",
        " 182.71294203998781,\n",
        " 221.06198596201753,\n",
        " 244.3198079661679,\n",
        " 261.79612763464542,\n",
        " 280.67052403601053,\n",
        " 254.14044023881064,\n",
        " 267.54239542242834,\n",
        " 262.2595676904088,\n",
        " 279.29057386096804,\n",
        " 276.63933075510175,\n",
        " 256.14960743344693,\n",
        " 261.54137768621632,\n",
        " 268.99384949669292,\n",
        " 271.41867127508169,\n",
        " 278.16753482748237,\n",
        " 281.17939276602647,\n",
        " 294.03124260141431,\n",
        " 290.36950471485477,\n",
        " 255.74531767831721,\n",
        " 254.45765682781914,\n",
        " 255.67085020782466,\n",
        " 263.40078563377961,\n",
        " 262.68309631324081,\n",
        " 261.65530393718234,\n",
        " 265.96654594516264,\n",
        " 272.58756814183903,\n",
        " 269.55901145103275,\n",
        " 277.87519077757543,\n",
        " 280.48975423782571,\n",
        " 283.82277692125899,\n",
        " 284.73062550028527,\n",
        " 289.0729623319574,\n",
        " 286.90307664757529,\n",
        " 287.26986238816409,\n",
        " 294.58027441835742,\n",
        " 298.32343301507075,\n",
        " 298.48738813554246,\n",
        " 298.8157042696015,\n",
        " 303.04691660327654,\n",
        " 306.82419274554786,\n",
        " 311.32176433183554,\n",
        " 309.1938560144917,\n",
        " 314.29765442298151,\n",
        " 315.2901617590814,\n",
        " 314.34682642523273,\n",
        " 294.73389364183771,\n",
        " 296.4705524154403,\n",
        " 299.18227149541599,\n",
        " 304.03928219901644,\n",
        " 308.52662532394623,\n",
        " 312.0335853740483,\n",
        " 313.57721483822132,\n",
        " 317.39144998651631,\n",
        " 322.02642905639948,\n",
        " 320.08641857334129,\n",
        " 322.59287301595344,\n",
        " 323.87791412084817,\n",
        " 325.86822673246701,\n",
        " 327.70366684342304,\n",
        " 326.36788241431884,\n",
        " 330.74522217932656,\n",
        " 330.44245981996607,\n",
        " 334.01008180473121,\n",
        " 338.28326437469792,\n",
        " 337.962392920269,\n",
        " 337.63317655914824,\n",
        " 339.43060262825611,\n",
        " 343.10153933436283,\n",
        " 345.61720634352997,\n",
        " 346.89443344943936,\n",
        " 340.50605950395635,\n",
        " 341.60107548238432,\n",
        " 341.13236638166188,\n",
        " 339.88428517213868,\n",
        " 337.76000434705776,\n",
        " 339.06555691485261,\n",
        " 341.21170116428249,\n",
        " 344.0834740903033,\n",
        " 307.45701960241564,\n",
        " 310.24986242831392,\n",
        " 313.16394923507443,\n",
        " 314.93872569287618,\n",
        " 313.69283975989777,\n",
        " 314.71307744655473,\n",
        " 317.60181298331383,\n",
        " 318.32363008676106,\n",
        " 320.46711226330615,\n",
        " 322.3849333919415,\n",
        " 325.37556975837271,\n",
        " 326.83146540605424,\n",
        " 329.07178045677421,\n",
        " 331.57205258976626]"
       ]
      }
     ],
     "prompt_number": 8
    },
    {
     "cell_type": "code",
     "collapsed": false,
     "input": [],
     "language": "python",
     "metadata": {},
     "outputs": []
    }
   ],
   "metadata": {}
  }
 ]
}