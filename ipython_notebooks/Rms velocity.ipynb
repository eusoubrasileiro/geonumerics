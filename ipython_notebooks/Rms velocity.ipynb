{
 "metadata": {
  "name": "Rms velocity"
 },
 "nbformat": 3,
 "nbformat_minor": 0,
 "worksheets": [
  {
   "cells": [
    {
     "cell_type": "code",
     "collapsed": false,
     "input": [
      "def vrms_n (n, vi, twt):\n",
      "    \"\"\" \n",
      "    RMS velocity from layer 0 to layer n\n",
      "    \n",
      "    * n : int\n",
      "        layer index to where vrms will be calculated\n",
      "    * vi : ndarray\n",
      "        interval velocity array\n",
      "    * twt : ndarray\n",
      "        two way time for each layer vi\n",
      "    \n",
      "    \"\"\"\n",
      "    vrms_n = 0.\n",
      "    t0 = 0.\n",
      "    for i in range(n):\n",
      "        vrms_n += twt[i]*vi[i]**2\n",
      "        t0 += twt[i]\n",
      "        \n",
      "    return np.sqrt(vrms_n/t0)\n",
      "\n",
      "def vrms(vi, ds):\n",
      "    \"\"\"\n",
      "    Calculate RMS velocity from:\n",
      "\n",
      "    * vi : ndarray\n",
      "        interval velocity array size\n",
      "    * ds : ndarray\n",
      "        layer size\n",
      "\n",
      "    return Rms velocity array\n",
      "    \"\"\"\n",
      "    twt = 2*(ds/vi) # two way time\n",
      "    return [ vrms_n(i, vi, twt) for i in range(1,len(vi)+1) ]"
     ],
     "language": "python",
     "metadata": {},
     "outputs": [],
     "prompt_number": 45
    },
    {
     "cell_type": "code",
     "collapsed": false,
     "input": [
      "import numpy as np\n",
      "# vrms calculation from intervalar velocity and\n",
      "# layer size (Parana basin case 1300 meters)\n",
      "vi = np.array([ 1000.0, 4900.0, 3500.0 ])\n",
      "ds = np.array([ 300.0, 700.0, 300.0 ])    "
     ],
     "language": "python",
     "metadata": {},
     "outputs": [],
     "prompt_number": 47
    },
    {
     "cell_type": "code",
     "collapsed": false,
     "input": [
      "vrms(vi, ds)\n"
     ],
     "language": "python",
     "metadata": {},
     "outputs": [
      {
       "output_type": "pyout",
       "prompt_number": 48,
       "text": [
        "[1000.0, 2902.1682661695017, 3007.1985706373371]"
       ]
      }
     ],
     "prompt_number": 48
    },
    {
     "cell_type": "code",
     "collapsed": false,
     "input": [
      "twt = 2*(ds/vi) # two way time"
     ],
     "language": "python",
     "metadata": {},
     "outputs": [],
     "prompt_number": 49
    },
    {
     "cell_type": "code",
     "collapsed": false,
     "input": [
      "twt"
     ],
     "language": "python",
     "metadata": {},
     "outputs": [
      {
       "output_type": "pyout",
       "prompt_number": 51,
       "text": [
        "array([ 0.6       ,  0.28571429,  0.17142857])"
       ]
      }
     ],
     "prompt_number": 51
    },
    {
     "cell_type": "code",
     "collapsed": false,
     "input": [
      "np.sum(twt)"
     ],
     "language": "python",
     "metadata": {},
     "outputs": [
      {
       "output_type": "pyout",
       "prompt_number": 50,
       "text": [
        "1.0571428571428572"
       ]
      }
     ],
     "prompt_number": 50
    },
    {
     "cell_type": "code",
     "collapsed": false,
     "input": [],
     "language": "python",
     "metadata": {},
     "outputs": []
    }
   ],
   "metadata": {}
  }
 ]
}