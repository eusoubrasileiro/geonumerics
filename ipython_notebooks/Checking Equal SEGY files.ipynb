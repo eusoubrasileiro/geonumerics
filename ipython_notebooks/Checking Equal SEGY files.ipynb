{
 "metadata": {
  "name": ""
 },
 "nbformat": 3,
 "nbformat_minor": 0,
 "worksheets": [
  {
   "cells": [
    {
     "cell_type": "markdown",
     "metadata": {},
     "source": [
      "Checando se as linhas reenviadas parte 02 possuem vers\u00e3o POSM e PSTM id\u00eanticas exceto pelo cabe\u00e7alho\n",
      "\n",
      "Utilizando folder:\n",
      "/media/sf_Dados/MIGRADAS-PRE-POS-LOTES-01-09-PARTE-02\n",
      "\n",
      "Cont\u00e9m estrutura:\n",
      "\n",
      "1. BACIA-AMAZONAS\n",
      "\n",
      "    1.1 SEG-Y-PSTM\n",
      "    \n",
      "        file0-PSTM.SGY\n",
      "        \n",
      "    1.2 SEG-Y-POSTSTM'\n",
      "\n",
      "        file0-POSTSTM.SGY\n",
      "\n",
      "2. BACIA-MARAJO\n",
      "\n",
      "    1.1 etc..."
     ]
    },
    {
     "cell_type": "code",
     "collapsed": false,
     "input": [
      "%cd '/media/sf_Dados/MIGRADAS-PRE-POS-LOTES-01-09-PARTE-02'"
     ],
     "language": "python",
     "metadata": {},
     "outputs": [
      {
       "output_type": "stream",
       "stream": "stdout",
       "text": [
        "/media/sf_Dados/MIGRADAS-PRE-POS-LOTES-01-09-PARTE-02\n"
       ]
      }
     ],
     "prompt_number": 27
    },
    {
     "cell_type": "code",
     "collapsed": false,
     "input": [
      "import os"
     ],
     "language": "python",
     "metadata": {},
     "outputs": [],
     "prompt_number": 28
    },
    {
     "cell_type": "code",
     "collapsed": false,
     "input": [
      "t = os.listdir('.')\n",
      "print t"
     ],
     "language": "python",
     "metadata": {},
     "outputs": [
      {
       "output_type": "stream",
       "stream": "stdout",
       "text": [
        "['BACIA-AMAZONAS', 'BACIA-MARAJO', 'BACIA-PARANA', 'BACIA-PARNAIBA', 'BACIA-SAO_LUIZ', 'BACIA-SOLIMOES']\n"
       ]
      }
     ],
     "prompt_number": 29
    },
    {
     "cell_type": "code",
     "collapsed": false,
     "input": [
      "os.getcwd()"
     ],
     "language": "python",
     "metadata": {},
     "outputs": [
      {
       "metadata": {},
       "output_type": "pyout",
       "prompt_number": 30,
       "text": [
        "'/media/sf_Dados/MIGRADAS-PRE-POS-LOTES-01-09-PARTE-02'"
       ]
      }
     ],
     "prompt_number": 30
    },
    {
     "cell_type": "code",
     "collapsed": false,
     "input": [
      "for folder in os.listdir('.'):\n",
      "    os.chdir(folder)      \n",
      "    os.chdir('SEG-Y-PSTM')    \n",
      "    files_pstm = os.listdir('.')\n",
      "    for file_pstm in files_pstm:\n",
      "        file = file_pstm.split('PSTM')[0]\n",
      "        file += 'POSTSTM.SGY'\n",
      "        cmd = 'cmp -i 3600 '+ file_pstm + ' ../SEG-Y-POSTSTM/' + file \n",
      "        result = os.system(cmd)\n",
      "        #print cmd, result\n",
      "        if result == 0:\n",
      "            print(folder + ' Linha ' + file)\n",
      "    os.chdir('../..')"
     ],
     "language": "python",
     "metadata": {},
     "outputs": [
      {
       "output_type": "stream",
       "stream": "stdout",
       "text": [
        "BACIA-AMAZONAS Linha 0078-0019-FINAL-MIGRATION-POSTSTM.SGY\n",
        "BACIA-AMAZONAS Linha 0098-0003-FINAL-MIGRATION-POSTSTM.SGY"
       ]
      },
      {
       "output_type": "stream",
       "stream": "stdout",
       "text": [
        "\n",
        "BACIA-AMAZONAS Linha 0202-0003A-FINAL-MIGRATION-POSTSTM.SGY"
       ]
      },
      {
       "output_type": "stream",
       "stream": "stdout",
       "text": [
        "\n",
        "BACIA-AMAZONAS Linha 0202-0022-FINAL-MIGRATION-POSTSTM.SGY"
       ]
      },
      {
       "output_type": "stream",
       "stream": "stdout",
       "text": [
        "\n",
        "BACIA-PARANA Linha 0065-0098-FINAL-MIGRATION-POSTSTM.SGY"
       ]
      },
      {
       "output_type": "stream",
       "stream": "stdout",
       "text": [
        "\n",
        "BACIA-PARANA Linha 0065-0106-FINAL-MIGRATION-POSTSTM.SGY"
       ]
      },
      {
       "output_type": "stream",
       "stream": "stdout",
       "text": [
        "\n",
        "BACIA-PARANA Linha 0065-0110-FINAL-MIGRATION-POSTSTM.SGY"
       ]
      },
      {
       "output_type": "stream",
       "stream": "stdout",
       "text": [
        "\n",
        "BACIA-PARANA Linha 0065-0117-FINAL-MIGRATION-POSTSTM.SGY"
       ]
      },
      {
       "output_type": "stream",
       "stream": "stdout",
       "text": [
        "\n",
        "BACIA-PARANA Linha 0065-0118-FINAL-MIGRATION-POSTSTM.SGY"
       ]
      },
      {
       "output_type": "stream",
       "stream": "stdout",
       "text": [
        "\n",
        "BACIA-PARANA Linha 0065-0119-FINAL-MIGRATION-POSTSTM.SGY"
       ]
      },
      {
       "output_type": "stream",
       "stream": "stdout",
       "text": [
        "\n",
        "BACIA-PARANA Linha 0065-0122-FINAL-MIGRATION-POSTSTM.SGY"
       ]
      },
      {
       "output_type": "stream",
       "stream": "stdout",
       "text": [
        "\n",
        "BACIA-PARANA Linha 0120-0026-FINAL-MIGRATION-POSTSTM.SGY"
       ]
      },
      {
       "output_type": "stream",
       "stream": "stdout",
       "text": [
        "\n",
        "BACIA-PARNAIBA Linha 0127-0325-FINAL-MIGRATION-POSTSTM.SGY"
       ]
      },
      {
       "output_type": "stream",
       "stream": "stdout",
       "text": [
        "\n",
        "BACIA-SAO_LUIZ Linha 0031-0234-FINAL-MIGRATION-POSTSTM.SGY"
       ]
      },
      {
       "output_type": "stream",
       "stream": "stdout",
       "text": [
        "\n",
        "BACIA-SOLIMOES Linha 0069-0062-FINAL-MIGRATION-POSTSTM.SGY"
       ]
      },
      {
       "output_type": "stream",
       "stream": "stdout",
       "text": [
        "\n"
       ]
      }
     ],
     "prompt_number": 31
    },
    {
     "cell_type": "markdown",
     "metadata": {},
     "source": [
      "Checando se as linhas reenviadas parte 01 possuem vers\u00e3o POSM e PSTM id\u00eanticas exceto pelo cabe\u00e7alho\n",
      "\n",
      "Utilizando folder:\n",
      "/media/sf_Dados/MIGRADAS-PRE-POS-LOTES-01-09-PARTE-01\n",
      "\n",
      "Cont\u00e9m estrutura:\n",
      "\n",
      "1. BACIA-AMAZONAS\n",
      "\n",
      "    1.1 SEG-Y-POSTSTM-CM-63\n",
      "    \n",
      "        file0-PSTM.SGY\n",
      "        \n",
      "    1.2 SEG-Y-PSTM-CM-63\n",
      "\n",
      "        file0-POSTSTM.SGY\n",
      "    \n",
      "    1.3 SEGY-POSTSTM-CM-53\n",
      "    \n",
      "        ...\n",
      "        \n",
      "        \n",
      "2. BACIA-MARAJO\n",
      "\n",
      "    1.1 etc..."
     ]
    },
    {
     "cell_type": "code",
     "collapsed": false,
     "input": [
      "import os\n",
      "print os.getcwd()\n",
      "os.chdir('/media/sf_Dados/MIGRADAS-PRE-POS-LOTES-01-09-PARTE-01/')\n",
      "print os.getcwd()"
     ],
     "language": "python",
     "metadata": {},
     "outputs": [
      {
       "output_type": "stream",
       "stream": "stdout",
       "text": [
        "/media/sf_Dados/MIGRADAS-PRE-POS-LOTES-01-09-PARTE-02\n",
        "/media/sf_Dados/MIGRADAS-PRE-POS-LOTES-01-09-PARTE-01\n"
       ]
      }
     ],
     "prompt_number": 32
    },
    {
     "cell_type": "code",
     "collapsed": false,
     "input": [
      "for folder in os.listdir('.'):    \n",
      "    os.chdir(folder)  \n",
      "    sgy_folders = os.listdir('.')    \n",
      "    for sgy_folder in sgy_folders:\n",
      "        if sgy_folder.find('PSTM') == -1: \n",
      "            continue        \n",
      "        string = sgy_folder.split('PSTM')\n",
      "        postm_folder = string[0] + 'POSTSTM' + string[1]                      \n",
      "        os.chdir(sgy_folder)\n",
      "        files_pstm = os.listdir('.')\n",
      "        for file_pstm in files_pstm:\n",
      "            file = file_pstm.split('PSTM')[0]\n",
      "            file += 'POSTSTM.SGY'\n",
      "            cmd = 'cmp -i 3600 '+ file_pstm + ' ../'+ postm_folder +'/' + file \n",
      "            result = os.system(cmd)\n",
      "            #print cmd, result\n",
      "            if result == 0:\n",
      "                print(folder + ' Linha ' + file)\n",
      "        os.chdir('..')\n",
      "    os.chdir('..')"
     ],
     "language": "python",
     "metadata": {},
     "outputs": [
      {
       "output_type": "stream",
       "stream": "stdout",
       "text": [
        "BACIA-SAO_LUIZ Linha 0031-0263-FINAL-MIGRATION-POSTSTM.SGY\n"
       ]
      }
     ],
     "prompt_number": 33
    },
    {
     "cell_type": "code",
     "collapsed": false,
     "input": [
      "lcd '/media/sf_Dados/MIGRADAS-PRE-POS-LOTES-01-09-PARTE-01/'"
     ],
     "language": "python",
     "metadata": {},
     "outputs": [
      {
       "output_type": "stream",
       "stream": "stdout",
       "text": [
        "/media/sf_Dados/MIGRADAS-PRE-POS-LOTES-01-09-PARTE-01\n"
       ]
      }
     ],
     "prompt_number": 88
    },
    {
     "cell_type": "code",
     "collapsed": false,
     "input": [],
     "language": "python",
     "metadata": {},
     "outputs": [
      {
       "metadata": {},
       "output_type": "pyout",
       "prompt_number": 28,
       "text": [
        "'/media/sf_Dados/MIGRADAS-PRE-POS-LOTES-01-09-PARTE-01'"
       ]
      }
     ],
     "prompt_number": 28
    },
    {
     "cell_type": "code",
     "collapsed": false,
     "input": [],
     "language": "python",
     "metadata": {},
     "outputs": []
    }
   ],
   "metadata": {}
  }
 ]
}