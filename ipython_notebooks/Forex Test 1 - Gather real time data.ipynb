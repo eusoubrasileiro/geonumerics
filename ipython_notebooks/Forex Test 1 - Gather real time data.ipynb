{
 "cells": [
  {
   "cell_type": "markdown",
   "metadata": {},
   "source": [
    "## Gathering real time Forex data from TrueFx ##\n",
    "\n",
    "It works throught the free website TrueFx that provides real time access to the major currency pairs.\n",
    "\n",
    "It makes a request every n seconds and stores the *ask price* data in a pandas DataFrame.\n",
    "\n",
    "It stores in the same dataframe multiple currency pairs, since the website provide real time information for multiple currency pairs at once.\n",
    "\n",
    "It doesnt care for bid, open, high, close prices. It only stores **ask** prices.\n",
    "\n",
    "It stores every time resquest ask price in columns, one colum per curreny pair:\n",
    "\n",
    "['request time', 'currency-pair ask price 0', 'currency-pair ask price 1'... etc ] \n",
    "\n",
    "e. g.\n",
    "\n",
    "                                time \tEUR/USD \tAUD/USD \tGBP/USD \tUSD/JPY \tUSD/CAD\n",
    "    \n",
    "    \"0 \t2016-05-27 19:33:29.035429 \t1.11125 \t0.71885 \t1.46109 \t110.0035 \t1.30293\"\n",
    "\n",
    "    \"1 \t2016-05-27 19:33:59.392546 \t1.11125 \t0.71885 \t1.46109 \t110.0035 \t1.30293\"\n",
    "\n",
    "\n",
    "\n",
    "\n",
    "\n"
   ]
  },
  {
   "cell_type": "markdown",
   "metadata": {},
   "source": [
    "### \"Principal Quotes\" True Fx ###\n",
    "Anonymous can download\n",
    "\n",
    "1. EUR/USD\n",
    "2. USD/JPY\n",
    "3. GBP/USD\n",
    "4. EUR/GBP\n",
    "5. USD/CHF\n",
    "6. EUR/JPY\n",
    "7. EUR/CHF\n",
    "8. USD/CAD\n",
    "9. AUD/USD\n",
    "10. GBP/JPY"
   ]
  },
  {
   "cell_type": "markdown",
   "metadata": {},
   "source": [
    "### Important to know Forex Market Times ### \n",
    "\n",
    "Is it close? Is it on its more stable hours?\n",
    "\n",
    "http://forex.timezoneconverter.com/?timezone=America/Sao_Paulo;"
   ]
  },
  {
   "cell_type": "code",
   "execution_count": 2,
   "metadata": {
    "collapsed": false
   },
   "outputs": [
    {
     "name": "stdout",
     "output_type": "stream",
     "text": [
      "Populating the interactive namespace from numpy and matplotlib\n"
     ]
    }
   ],
   "source": [
    "from matplotlib import pyplot\n",
    "%pylab inline\n",
    "import urllib.request\n",
    "import re\n",
    "import pandas\n",
    "import datetime\n",
    "import time\n",
    "import seaborn as sns"
   ]
  },
  {
   "cell_type": "markdown",
   "metadata": {},
   "source": [
    "The **ask/offer** is the buying price and **bid** is the selling price\n",
    "\n",
    "Since what matters most in my case ups and dows is the ask price I'll gather just this for evaluation of trends.\n",
    "\n",
    "I'll **store only ASK prices**, for my quotes."
   ]
  },
  {
   "cell_type": "markdown",
   "metadata": {},
   "source": [
    "**Python 3.0 work**"
   ]
  },
  {
   "cell_type": "markdown",
   "metadata": {},
   "source": [
    "Connect"
   ]
  },
  {
   "cell_type": "code",
   "execution_count": 3,
   "metadata": {
    "collapsed": false
   },
   "outputs": [
    {
     "name": "stdout",
     "output_type": "stream",
     "text": [
      "aflopes7:gig1684:ozrates:1464902552927\n"
     ]
    }
   ],
   "source": [
    "quotes=['EUR/USD', 'AUD/USD', 'GBP/USD', 'EUR/GBP', \n",
    "        'USD/CHF', 'USD/CAD', 'EUR/CHF', 'EUR/AUD', \n",
    "        'AUD/JPY', 'USD/NOK', 'GBP/JPY']\n",
    "login ='u=aflopes7&p=gig1684&q=ozrates&c='+','.join(quotes)+'&f=csv&s=y'\n",
    "pgtrfx = 'http://webrates.truefx.com/rates/connect.html?'   \n",
    "\n",
    "response = urllib.request.urlopen(pgtrfx+login)\n",
    "session = response.read().decode().strip()\n",
    "print(session)"
   ]
  },
  {
   "cell_type": "markdown",
   "metadata": {},
   "source": [
    "Request"
   ]
  },
  {
   "cell_type": "code",
   "execution_count": 4,
   "metadata": {
    "collapsed": false
   },
   "outputs": [],
   "source": [
    "#quotes=['EUR/USD','AUD/USD']\n",
    "#quotes = ['time' ] + quotes\n",
    "#print(quotes)"
   ]
  },
  {
   "cell_type": "code",
   "execution_count": null,
   "metadata": {
    "collapsed": false
   },
   "outputs": [],
   "source": [
    "def record_quotes_real_time(quotes=['EUR/USD','AUD/USD'], sample_interval=15):\n",
    "    #columns = ['time', 'AUD/USD' etc..]\n",
    "    # one colum per currency forex pair ONLY ASK PRICE stored\n",
    "    data_askquotes = pandas.DataFrame(columns=['time']+quotes) \n",
    "    \n",
    "    # requesting page TrueFx\n",
    "    #quotes = 'AUD/USD,USD/JPY' # requested quotes separated by comma\n",
    "    #', '.join(quotes)\n",
    "    login ='u=aflopes7&p=gig1684&q=ozrates&c='+','.join(quotes)+'&f=csv&s=y'\n",
    "    pgtrfx = 'http://webrates.truefx.com/rates/connect.html?'    \n",
    "    #print(login)\n",
    "    #print(pgtrfx)\n",
    "\n",
    "    # first connection create session\n",
    "    response = urllib.request.urlopen(pgtrfx+login)\n",
    "    session = response.read().decode().strip()\n",
    "    \n",
    "    # to read the txt response (only float values)\n",
    "    rx = re.compile(\"[-+]?\\d*\\.\\d+|\\d+\", re.VERBOSE) \n",
    "    \n",
    "    i = 0\n",
    "    while True:\n",
    "        try:\n",
    "            # after connection\n",
    "            # request the cote, it is page response in bytes that needs to be converted to 'str'\n",
    "            pgreturn = urllib.request.urlopen(pgtrfx+'id='+session).read().decode()\n",
    "            pgreturn = pgreturn.split('\\n') # each line is a quote (currency pair)\n",
    "            quotes_ask = [None] * len(quotes) # empty list of ask price for each cote (currency pair)     \n",
    "            for p in range(len(quotes)): # for each cote read/store its respective line                 \n",
    "                # ignore first decimal number is timestamp and high open etc...\n",
    "                bid, bidpt, ask, askpt = list(map(float, rx.findall(pgreturn[p])))[1:5]\n",
    "                bid, ask = bid+bidpt*0.00001, ask+askpt*0.00001 \n",
    "                # price is divided in two parts points + ticks\n",
    "                quotes_ask[p] = (bid+ask)/2 # like IQ option average between two\n",
    "            dit = dict(zip(['time'] + quotes, [ datetime.datetime.now() ] + quotes_ask))\n",
    "            data_askquotes = data_askquotes.append(dit, ignore_index=True)               \n",
    "            data_askquotes.to_pickle('real_time_quotes.pandas')\n",
    "        except: # reconnect dont increment\n",
    "            response = urllib.request.urlopen(pgtrfx+login)\n",
    "            session = response.read().decode().strip()\n",
    "        else: # increment and wait time delay\n",
    "            time.sleep(sample_interval)\n",
    "            i = i+1     "
   ]
  },
  {
   "cell_type": "code",
   "execution_count": null,
   "metadata": {
    "collapsed": false
   },
   "outputs": [],
   "source": [
    "# every 15 s, 120 samples per hour x N hours\n",
    "dt=10;  \n",
    "record_quotes_real_time(quotes=quotes, sample_interval=dt) \n",
    "#dfdata = dfdata.set_index(pandas.DatetimeIndex(dfdata['time']))"
   ]
  },
  {
   "cell_type": "code",
   "execution_count": 9,
   "metadata": {
    "collapsed": false
   },
   "outputs": [],
   "source": [
    "# every 30 s, 120 samples per hour x N hours\n",
    "#dt=30; smph=120; nh=8;  \n",
    "#dfdata = record_quotes(quotes=quotes, sample_interval=dt, nsamples=smph*nh) \n",
    "#dfdata = dfdata.set_index(pandas.DatetimeIndex(dfdata['time']))\n",
    "#del dfdata['time'] #not need anymore\n",
    "dfdata.to_pickle('quotes_22hs_30_may_16_6hours.pandas')"
   ]
  },
  {
   "cell_type": "code",
   "execution_count": 14,
   "metadata": {
    "collapsed": false
   },
   "outputs": [
    {
     "data": {
      "text/html": [
       "<div>\n",
       "<table border=\"1\" class=\"dataframe\">\n",
       "  <thead>\n",
       "    <tr style=\"text-align: right;\">\n",
       "      <th></th>\n",
       "      <th>time</th>\n",
       "      <th>EUR/USD</th>\n",
       "      <th>AUD/USD</th>\n",
       "      <th>GBP/USD</th>\n",
       "      <th>EUR/GBP</th>\n",
       "      <th>USD/CHF</th>\n",
       "      <th>USD/CAD</th>\n",
       "    </tr>\n",
       "  </thead>\n",
       "  <tbody>\n",
       "    <tr>\n",
       "      <th>0</th>\n",
       "      <td>2016-05-30 14:47:51.944203</td>\n",
       "      <td>1.11383</td>\n",
       "      <td>0.71863</td>\n",
       "      <td>1.46362</td>\n",
       "      <td>0.76111</td>\n",
       "      <td>0.99234</td>\n",
       "      <td>1.30592</td>\n",
       "    </tr>\n",
       "  </tbody>\n",
       "</table>\n",
       "</div>"
      ],
      "text/plain": [
       "                        time  EUR/USD  AUD/USD  GBP/USD  EUR/GBP  USD/CHF  \\\n",
       "0 2016-05-30 14:47:51.944203  1.11383  0.71863  1.46362  0.76111  0.99234   \n",
       "\n",
       "   USD/CAD  \n",
       "0  1.30592  "
      ]
     },
     "execution_count": 14,
     "metadata": {},
     "output_type": "execute_result"
    }
   ],
   "source": [
    "#plot(dfdata['EUR/USD'].values)"
   ]
  },
  {
   "cell_type": "code",
   "execution_count": 15,
   "metadata": {
    "collapsed": false
   },
   "outputs": [],
   "source": [
    "df = pandas.read_pickle('quotes_14hs_30_may_16_6hours.pandas')\n",
    "quotes=['EUR/USD', 'AUD/USD', 'GBP/USD', 'EUR/GBP', 'USD/CHF', 'USD/CAD']"
   ]
  },
  {
   "cell_type": "code",
   "execution_count": 23,
   "metadata": {
    "collapsed": false
   },
   "outputs": [],
   "source": [
    "#df = df.set_index(pandas.DatetimeIndex(df['time']))\n",
    "#df.to_pickle('quotes_14hs_30_may_16_6hours.pandas')"
   ]
  },
  {
   "cell_type": "code",
   "execution_count": 20,
   "metadata": {
    "collapsed": false
   },
   "outputs": [],
   "source": [
    "# remove this collumn that is flat?\n",
    "#del df['USD/JPY']"
   ]
  }
 ],
 "metadata": {
  "kernelspec": {
   "display_name": "Python 3",
   "language": "python",
   "name": "python3"
  },
  "language_info": {
   "codemirror_mode": {
    "name": "ipython",
    "version": 3
   },
   "file_extension": ".py",
   "mimetype": "text/x-python",
   "name": "python",
   "nbconvert_exporter": "python",
   "pygments_lexer": "ipython3",
   "version": "3.5.1"
  }
 },
 "nbformat": 4,
 "nbformat_minor": 0
}
