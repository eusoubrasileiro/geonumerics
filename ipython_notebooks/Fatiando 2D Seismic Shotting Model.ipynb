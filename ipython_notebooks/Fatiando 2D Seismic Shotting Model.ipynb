{
 "metadata": {
  "name": "",
  "signature": "sha256:7096a0bbe3b1217214a39f89dd2087afc018cf32dd7ad3ea4dcd050615718bdd"
 },
 "nbformat": 3,
 "nbformat_minor": 0,
 "worksheets": [
  {
   "cells": [
    {
     "cell_type": "code",
     "collapsed": false,
     "input": [
      "%cd Fatiando\n",
      "%cd .."
     ],
     "language": "python",
     "metadata": {},
     "outputs": [
      {
       "output_type": "stream",
       "stream": "stdout",
       "text": [
        "(bookmark:Fatiando) -> /home/andre/PycharmProjects/fatiando\n",
        "/home/andre/PycharmProjects/fatiando\n",
        "/home/andre/PycharmProjects\n"
       ]
      }
     ],
     "prompt_number": 3
    },
    {
     "cell_type": "code",
     "collapsed": false,
     "input": [
      "from PIL import Image\n",
      "import numpy as np\n",
      "img = Image.open('wedge.tif')\n",
      "img.load()\n",
      "img = img.convert('I') # gray scale, convert format\n",
      "data  = np.asarray(img, dtype=np.float32)\n",
      "data[:][data[:] == 255.] = 2500.0 # overburden\n",
      "data[:][data[:] == 0. ] = 3500 # the triangle\n",
      "data[:][data[:] == 146.] = 2300.0 # the first slab bellow the triangle\n",
      "data[:][data[:] == 36.] = 2700.0 # the last slab\n",
      "cshape = data.shape\n",
      "print cshape"
     ],
     "language": "python",
     "metadata": {},
     "outputs": [
      {
       "output_type": "stream",
       "stream": "stdout",
       "text": [
        "(160, 400)\n"
       ]
      }
     ],
     "prompt_number": 4
    },
    {
     "cell_type": "code",
     "collapsed": false,
     "input": [
      "%pylab inline\n",
      "imshow(data)"
     ],
     "language": "python",
     "metadata": {},
     "outputs": [
      {
       "output_type": "stream",
       "stream": "stdout",
       "text": [
        "Populating the interactive namespace from numpy and matplotlib\n"
       ]
      },
      {
       "metadata": {},
       "output_type": "pyout",
       "prompt_number": 5,
       "text": [
        "<matplotlib.image.AxesImage at 0x7f17964be150>"
       ]
      },
      {
       "metadata": {},
       "output_type": "display_data",
       "png": "[encoded data removed]",
       "text": [
        "<matplotlib.figure.Figure at 0x7f17ac414550>"
       ]
      }
     ],
     "prompt_number": 5
    },
    {
     "cell_type": "markdown",
     "metadata": {},
     "source": [
      "### Simulation parameters ###\n",
      "\n",
      "To guarantee stability we have to avoid:\n",
      "\n",
      "1. Spatial alias\n",
      "\n",
      "In the simulation the maximum wave number is defined as $k_{max}$, from plane waves $ v =\\lambda f$\n",
      "\n",
      "$$ k_{max}(f,v) = \\frac{f_{max}}{v_{min}} $$\n",
      "\n",
      "So the maximum source frequency allowed to avoid spatial alias should be, from $k_{nyquest} = \\frac{1}{2ds}$:\n",
      "\n",
      "$$ f_{max} \\leq v_{min} . \\min\\left( \\frac{1}{2dz}, \\frac{1}{2dx} \\right) $$\n",
      "\n",
      "We can garantee that with $\\epsilon \\leq 1. $ and \n",
      "\n",
      "$$ f_{max} = \\epsilon . v_{min} . \\min\\left( \\frac{1}{2dz}, \\frac{1}{2dx} \\right) $$\n",
      "\n",
      "2. Alford et al. recommends for less numerical dispersion (2nd order time and 4th space) that the number\n",
      "\n",
      "of points to describe the smaller wave lenght be always greater than five.\n",
      "\n",
      "$$ P_{\\lambda} = \\frac{v_{min}}{f_{max} \\max(dx, dz)} \\geq 5.0$$\n",
      "\n",
      "Joining stuff togueter we get:\n",
      "\n",
      "$$ \\epsilon \\leq \\frac{1}{5.0 \\max(dx, dz)\\min\\left( \\frac{1}{2dz}, \\frac{1}{2dx} \\right)} $$\n",
      "\n",
      "So works for:\n",
      "\n",
      "$$ \\epsilon = 0.98 \\frac{1}{5.0 \\max(dx, dz)\\min\\left( \\frac{1}{2dz}, \\frac{1}{2dx} \\right)} $$\n",
      "\n",
      "\n",
      "\n"
     ]
    },
    {
     "cell_type": "code",
     "collapsed": false,
     "input": [
      "%cd Fatiando\n",
      "from fatiando.seismic import wavefd\n",
      "# Set the parameters of the finite difference grid\n",
      "dx = 50. # spacing\n",
      "dz = 25.\n",
      "velocity = data\n",
      "# avoiding spatial alias and less numerical dispersion based on plane waves v=l*f and Alford et al.\n",
      "# we are using 5 instead\n",
      "eps = 0.98*1./(5*max(dx, dz)*min(1./(2*dx),1./(2*dz)))\n",
      "fc = eps*np.min(velocity)/(max(2*dx, 2*dz))  \n",
      "sim = wavefd.Scalar(velocity, (dx, dz))\n",
      "sim.add_point_source((100, 0), wavefd.Gauss(1., fc))\n",
      "print fc, np.min(velocity)/(fc*max(dx,dx)), eps, sim.dt\n",
      "print velocity.shape"
     ],
     "language": "python",
     "metadata": {},
     "outputs": [
      {
       "output_type": "stream",
       "stream": "stdout",
       "text": [
        "(bookmark:Fatiando) -> /home/andre/PycharmProjects/fatiando\n",
        "/home/andre/PycharmProjects/fatiando\n",
        "9.016"
       ]
      },
      {
       "output_type": "stream",
       "stream": "stdout",
       "text": [
        " 5.10204081633 0.392 0.00433034793813\n",
        "(160, 400)\n"
       ]
      }
     ],
     "prompt_number": 4
    },
    {
     "cell_type": "code",
     "collapsed": false,
     "input": [
      "sim.run(100)"
     ],
     "language": "python",
     "metadata": {},
     "outputs": [
      {
       "output_type": "stream",
       "stream": "stderr",
       "text": [
        "|--------------------------------------------------|  0%"
       ]
      },
      {
       "output_type": "stream",
       "stream": "stderr",
       "text": [
        "\r",
        "|#-------------------------------------------------|  1%"
       ]
      },
      {
       "output_type": "stream",
       "stream": "stderr",
       "text": [
        "\r",
        "|##------------------------------------------------|  3%"
       ]
      },
      {
       "output_type": "stream",
       "stream": "stderr",
       "text": [
        "\r",
        "|###-----------------------------------------------|  5%"
       ]
      },
      {
       "output_type": "stream",
       "stream": "stderr",
       "text": [
        "\r",
        "|####----------------------------------------------|  7%"
       ]
      },
      {
       "output_type": "stream",
       "stream": "stderr",
       "text": [
        "\r",
        "|#####---------------------------------------------|  9%"
       ]
      },
      {
       "output_type": "stream",
       "stream": "stderr",
       "text": [
        "\r",
        "|######--------------------------------------------| 11%"
       ]
      },
      {
       "output_type": "stream",
       "stream": "stderr",
       "text": [
        "\r",
        "|#######-------------------------------------------| 13%"
       ]
      },
      {
       "output_type": "stream",
       "stream": "stderr",
       "text": [
        "\r",
        "|########------------------------------------------| 15%"
       ]
      },
      {
       "output_type": "stream",
       "stream": "stderr",
       "text": [
        "\r",
        "|#########-----------------------------------------| 17%"
       ]
      },
      {
       "output_type": "stream",
       "stream": "stderr",
       "text": [
        "\r",
        "|##########----------------------------------------| 19%"
       ]
      },
      {
       "output_type": "stream",
       "stream": "stderr",
       "text": [
        "\r",
        "|###########---------------------------------------| 21%"
       ]
      },
      {
       "output_type": "stream",
       "stream": "stderr",
       "text": [
        "\r",
        "|############--------------------------------------| 23%"
       ]
      },
      {
       "output_type": "stream",
       "stream": "stderr",
       "text": [
        "\r",
        "|#############-------------------------------------| 25%"
       ]
      },
      {
       "output_type": "stream",
       "stream": "stderr",
       "text": [
        "\r",
        "|##############------------------------------------| 27%"
       ]
      },
      {
       "output_type": "stream",
       "stream": "stderr",
       "text": [
        "\r",
        "|###############-----------------------------------| 30%"
       ]
      },
      {
       "output_type": "stream",
       "stream": "stderr",
       "text": [
        "\r",
        "|################----------------------------------| 31%"
       ]
      },
      {
       "output_type": "stream",
       "stream": "stderr",
       "text": [
        "\r",
        "|#################---------------------------------| 33%"
       ]
      },
      {
       "output_type": "stream",
       "stream": "stderr",
       "text": [
        "\r",
        "|##################--------------------------------| 35%"
       ]
      },
      {
       "output_type": "stream",
       "stream": "stderr",
       "text": [
        "\r",
        "|###################-------------------------------| 37%"
       ]
      },
      {
       "output_type": "stream",
       "stream": "stderr",
       "text": [
        "\r",
        "|####################------------------------------| 39%"
       ]
      },
      {
       "output_type": "stream",
       "stream": "stderr",
       "text": [
        "\r",
        "|#####################-----------------------------| 41%"
       ]
      },
      {
       "output_type": "stream",
       "stream": "stderr",
       "text": [
        "\r",
        "|######################----------------------------| 43%"
       ]
      },
      {
       "output_type": "stream",
       "stream": "stderr",
       "text": [
        "\r",
        "|#######################---------------------------| 45%"
       ]
      },
      {
       "output_type": "stream",
       "stream": "stderr",
       "text": [
        "\r",
        "|########################--------------------------| 47%"
       ]
      },
      {
       "output_type": "stream",
       "stream": "stderr",
       "text": [
        "\r",
        "|#########################-------------------------| 49%"
       ]
      },
      {
       "output_type": "stream",
       "stream": "stderr",
       "text": [
        "\r",
        "|##########################------------------------| 51%"
       ]
      },
      {
       "output_type": "stream",
       "stream": "stderr",
       "text": [
        "\r",
        "|###########################-----------------------| 53%"
       ]
      },
      {
       "output_type": "stream",
       "stream": "stderr",
       "text": [
        "\r",
        "|############################----------------------| 55%"
       ]
      },
      {
       "output_type": "stream",
       "stream": "stderr",
       "text": [
        "\r",
        "|#############################---------------------| 57%"
       ]
      },
      {
       "output_type": "stream",
       "stream": "stderr",
       "text": [
        "\r",
        "|##############################--------------------| 59%"
       ]
      },
      {
       "output_type": "stream",
       "stream": "stderr",
       "text": [
        "\r",
        "|###############################-------------------| 61%"
       ]
      },
      {
       "output_type": "stream",
       "stream": "stderr",
       "text": [
        "\r",
        "|################################------------------| 63%"
       ]
      },
      {
       "output_type": "stream",
       "stream": "stderr",
       "text": [
        "\r",
        "|#################################-----------------| 65%"
       ]
      },
      {
       "output_type": "stream",
       "stream": "stderr",
       "text": [
        "\r",
        "|##################################----------------| 67%"
       ]
      },
      {
       "output_type": "stream",
       "stream": "stderr",
       "text": [
        "\r",
        "|###################################---------------| 69%"
       ]
      },
      {
       "output_type": "stream",
       "stream": "stderr",
       "text": [
        "\r",
        "|####################################--------------| 71%"
       ]
      },
      {
       "output_type": "stream",
       "stream": "stderr",
       "text": [
        "\r",
        "|#####################################-------------| 73%"
       ]
      },
      {
       "output_type": "stream",
       "stream": "stderr",
       "text": [
        "\r",
        "|######################################------------| 75%"
       ]
      },
      {
       "output_type": "stream",
       "stream": "stderr",
       "text": [
        "\r",
        "|#######################################-----------| 77%"
       ]
      },
      {
       "output_type": "stream",
       "stream": "stderr",
       "text": [
        "\r",
        "|########################################----------| 79%"
       ]
      },
      {
       "output_type": "stream",
       "stream": "stderr",
       "text": [
        "\r",
        "|#########################################---------| 81%"
       ]
      },
      {
       "output_type": "stream",
       "stream": "stderr",
       "text": [
        "\r",
        "|##########################################--------| 83%"
       ]
      },
      {
       "output_type": "stream",
       "stream": "stderr",
       "text": [
        "\r",
        "|###########################################-------| 85%"
       ]
      },
      {
       "output_type": "stream",
       "stream": "stderr",
       "text": [
        "\r",
        "|############################################------| 87%"
       ]
      },
      {
       "output_type": "stream",
       "stream": "stderr",
       "text": [
        "\r",
        "|#############################################-----| 89%"
       ]
      },
      {
       "output_type": "stream",
       "stream": "stderr",
       "text": [
        "\r",
        "|##############################################----| 91%"
       ]
      },
      {
       "output_type": "stream",
       "stream": "stderr",
       "text": [
        "\r",
        "|###############################################---| 93%"
       ]
      },
      {
       "output_type": "stream",
       "stream": "stderr",
       "text": [
        "\r",
        "|################################################--| 95%"
       ]
      },
      {
       "output_type": "stream",
       "stream": "stderr",
       "text": [
        "\r",
        "|#################################################-| 97%"
       ]
      },
      {
       "output_type": "stream",
       "stream": "stderr",
       "text": [
        "\r",
        "|##################################################| 99%"
       ]
      },
      {
       "output_type": "stream",
       "stream": "stderr",
       "text": [
        "\r",
        "|##################################################|100% Ran 100 iterations in 2.48602 seconds."
       ]
      }
     ],
     "prompt_number": 9
    },
    {
     "cell_type": "code",
     "collapsed": false,
     "input": [
      "sim.explore()"
     ],
     "language": "python",
     "metadata": {},
     "outputs": [
      {
       "metadata": {},
       "output_type": "display_data",
       "png": "[encoded data removed]",
       "text": [
        "<IPython.core.display.Image at 0x7ff3fd65b490>"
       ]
      },
      {
       "metadata": {},
       "output_type": "pyout",
       "prompt_number": 10,
       "text": [
        "<function fatiando.seismic.wavefd.plot>"
       ]
      }
     ],
     "prompt_number": 10
    },
    {
     "cell_type": "heading",
     "level": 1,
     "metadata": {},
     "source": [
      "import matplotlib.pylab as pylab\n",
      "pylab.rcParams['figure.figsize'] = 15, 15 # that's default image size for this interactive session\n",
      "\n",
      "def pstep(iter):\n",
      "    figure()\n",
      "    background = (velocity-3500)*10**(-6.0)    \n",
      "    imshow((-background+sim[iter])[::-1], cmap=mpl.cm.gray_r, vmin=-.004, vmax=.004, origin='lower')\n",
      "\n",
      "pstep(504)\n",
      "pstep(400)"
     ]
    },
    {
     "cell_type": "markdown",
     "metadata": {},
     "source": [
      "The numerical dispersion not very present anymore!\n",
      "\n",
      "In the future try high order finite diferences in time and space like lax wendroff.\n",
      "\n",
      "Plot the resulting shot getting it from seismograms at every position"
     ]
    },
    {
     "cell_type": "markdown",
     "metadata": {},
     "source": [
      "## the simulation class througth the hdf5 file stores every iteration time step ##"
     ]
    },
    {
     "cell_type": "code",
     "collapsed": false,
     "input": [
      "sim[:].shape"
     ],
     "language": "python",
     "metadata": {},
     "outputs": [
      {
       "metadata": {},
       "output_type": "pyout",
       "prompt_number": 6,
       "text": [
        "(600, 160, 400)"
       ]
      }
     ],
     "prompt_number": 6
    },
    {
     "cell_type": "code",
     "collapsed": false,
     "input": [
      "# if I want 400 I just could have those but I just want 100\n",
      "shot = np.zeros((600, 100))\n",
      "for i in xrange(100):\n",
      "    shot[:, i] = sim[:, 2, 150+i]"
     ],
     "language": "python",
     "metadata": {},
     "outputs": []
    },
    {
     "cell_type": "code",
     "collapsed": false,
     "input": [
      "sx=100\n",
      "bg=sx-1-2*np.arange(35)\n",
      "ed=sx+1+2*np.arange(35)\n",
      "st=np.append(bg,ed)\n",
      "st.sort()\n",
      "mv = sim[:, 0, st]\n",
      "imshow(mv, aspect=0.1, vmin=-0.004, vmax=0.004)\n",
      "mv.shape"
     ],
     "language": "python",
     "metadata": {},
     "outputs": [
      {
       "metadata": {},
       "output_type": "pyout",
       "prompt_number": 19,
       "text": [
        "(600, 70)"
       ]
      },
      {
       "metadata": {},
       "output_type": "display_data",
       "png": "[encoded data removed]",
       "text": [
        "<matplotlib.figure.Figure at 0x7f1d58e70710>"
       ]
      }
     ],
     "prompt_number": 19
    },
    {
     "cell_type": "code",
     "collapsed": false,
     "input": [
      "imshow(shot, aspect=0.12, origin='upper', cmap=mpl.cm.gray_r, vmin=-.001, vmax=.001)\n",
      "print \"maxtime \", len(shot[0])*sim.dt"
     ],
     "language": "python",
     "metadata": {},
     "outputs": []
    },
    {
     "cell_type": "markdown",
     "metadata": {},
     "source": [
      "##*Lets make some shots.*##\n",
      "\n",
      "Always split spread\n",
      "Stack array: Shotting between stations\n",
      "\n",
      "Dsource = 100//dx = 2\n",
      "Dstations = 100.0//dx = 2\n",
      "\n",
      "(z160, x400)\n",
      "\n",
      "Starting shotting at x=5000//dx = 100\n",
      "Shotting 100 shots\n",
      "\n",
      "70 stations \n",
      "30 fold\n",
      "\n",
      "3500 max offset each side"
     ]
    },
    {
     "cell_type": "heading",
     "level": 5,
     "metadata": {},
     "source": [
      "%cd Fatiando\n",
      "from fatiando.seismic import wavefd\n",
      "# Set the parameters of the finite difference grid\n",
      "dx = 50. # spacing\n",
      "dz = 25.\n",
      "velocity = data\n",
      "# avoiding spatial alias and less numerical dispersion based on plane waves v=l*f and Alford et al.\n",
      "# we are using 5 instead\n",
      "eps = 0.98*1./(5*max(dx, dz)*min(1./(2*dx),1./(2*dz)))\n",
      "fc = eps*np.min(velocity)/(max(2*dx, 2*dz))  \n",
      "\n",
      "shots = [] \n",
      "# Making 100 shots\n",
      "for j in xrange(100):\n",
      "    sx, sz = (100 + 2*dx*i, 0.0)\n",
      "    st0 = sx - 1 #first station (Stack Array)\n",
      "    stations = [[ st0 + 2*dx*i, 50.0] for i in xrange(70)]\n",
      "    \n",
      "    sim = wavefd.Scalar(velocity, (dx, dz))\n",
      "    sim.add_point_source((200, 0), wavefd.Gauss(1., fc))\n",
      "    print fc, np.min(velocity)/(fc*max(dx,dx)), eps, sim.dt\n",
      "    print velocity.shape\n",
      "\n",
      "    \n",
      "    # run the simulation\n",
      "    for t, u, seismograms in simulation:        \n",
      "        sys.stdout.write(\"\\rprogressing .. %.1f%% time %.3f\"%(100.0*float(t)/maxit, (dt*t)))\n",
      "        sys.stdout.flush()\n",
      "    sys.stdout.write(\"\\n simulation %d \\n\"%(j))\n",
      "    \n",
      "    # convert seismograms in a trace matrix\n",
      "    shot = np.zeros((len(seismograms), len(seismograms[0]))) \n",
      "    for i in xrange(len(seismograms)):\n",
      "        shot[i,:] = np.array(seismograms[i])\n",
      "    shot = shot.transpose()\n",
      "    \n",
      "    # store every shot information discard Z coordinates\n",
      "    shots.append([sx, [stations[i][0] for i in range(70)], shot])  "
     ]
    },
    {
     "cell_type": "markdown",
     "metadata": {},
     "source": [
      "####Plotting one of 100th shots####"
     ]
    },
    {
     "cell_type": "code",
     "collapsed": false,
     "input": [
      "imshow(shots[50][2], aspect=0.12, origin='upper', cmap=mpl.cm.gray_r, vmin=-.05, vmax=.05)\n",
      "print \"maxtime \", len(seismograms[0])*dt"
     ],
     "language": "python",
     "metadata": {},
     "outputs": []
    },
    {
     "cell_type": "markdown",
     "metadata": {},
     "source": [
      "##Creating pseudo zero-offset section##\n",
      "\n",
      "using trace closer to source"
     ]
    },
    {
     "cell_type": "code",
     "collapsed": false,
     "input": [
      "zeroffset = np.zeros((917, 100))\n",
      "for i in range(100):\n",
      "    zeroffset[:,i] =  (shots[i][2])[:, 35]"
     ],
     "language": "python",
     "metadata": {},
     "outputs": []
    },
    {
     "cell_type": "code",
     "collapsed": false,
     "input": [
      "imshow(zeroffset, aspect=0.12, origin='upper', cmap=mpl.cm.gray_r, vmin=-.1, vmax=.1)"
     ],
     "language": "python",
     "metadata": {},
     "outputs": []
    },
    {
     "cell_type": "markdown",
     "metadata": {},
     "source": [
      "*Getting shots to save*"
     ]
    },
    {
     "cell_type": "code",
     "collapsed": false,
     "input": [
      "arrayshots = np.zeros((100, 917, 70))\n",
      "for i in range(100):\n",
      "    arrayshots[i] = shots[i][2]"
     ],
     "language": "python",
     "metadata": {},
     "outputs": []
    },
    {
     "cell_type": "code",
     "collapsed": false,
     "input": [
      "imshow(arrayshots[:, :, 35], aspect=4.12, origin='upper', cmap=mpl.cm.gray_r, vmin=-.1, vmax=.1)"
     ],
     "language": "python",
     "metadata": {},
     "outputs": []
    },
    {
     "cell_type": "code",
     "collapsed": false,
     "input": [
      "np.save('arrayshots_70s', arrayshots)"
     ],
     "language": "python",
     "metadata": {},
     "outputs": []
    },
    {
     "cell_type": "code",
     "collapsed": false,
     "input": [],
     "language": "python",
     "metadata": {},
     "outputs": []
    }
   ],
   "metadata": {}
  }
 ]
}