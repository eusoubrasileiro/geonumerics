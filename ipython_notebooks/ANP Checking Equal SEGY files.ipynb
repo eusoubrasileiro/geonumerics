{
 "cells": [
  {
   "cell_type": "markdown",
   "metadata": {},
   "source": [
    "Checando se as linhas reenviadas parte 02 possuem versão POSM e PSTM idênticas exceto pelo cabeçalho\n",
    "\n",
    "Utilizando folder:\n",
    "/media/sf_Dados/MIGRADAS-PRE-POS-LOTES-01-09-PARTE-02\n",
    "\n",
    "Contém estrutura:\n",
    "\n",
    "1. BACIA-AMAZONAS\n",
    "\n",
    "    1.1 SEG-Y-PSTM\n",
    "    \n",
    "        file0-PSTM.SGY\n",
    "        \n",
    "    1.2 SEG-Y-POSTSTM'\n",
    "\n",
    "        file0-POSTSTM.SGY\n",
    "\n",
    "2. BACIA-MARAJO\n",
    "\n",
    "    1.1 etc..."
   ]
  },
  {
   "cell_type": "code",
   "execution_count": 27,
   "metadata": {
    "collapsed": false
   },
   "outputs": [
    {
     "name": "stdout",
     "output_type": "stream",
     "text": [
      "/media/sf_Dados/MIGRADAS-PRE-POS-LOTES-01-09-PARTE-02\n"
     ]
    }
   ],
   "source": [
    "%cd '/media/sf_Dados/MIGRADAS-PRE-POS-LOTES-01-09-PARTE-02'"
   ]
  },
  {
   "cell_type": "code",
   "execution_count": 28,
   "metadata": {
    "collapsed": false
   },
   "outputs": [],
   "source": [
    "import os"
   ]
  },
  {
   "cell_type": "code",
   "execution_count": 29,
   "metadata": {
    "collapsed": false
   },
   "outputs": [
    {
     "name": "stdout",
     "output_type": "stream",
     "text": [
      "['BACIA-AMAZONAS', 'BACIA-MARAJO', 'BACIA-PARANA', 'BACIA-PARNAIBA', 'BACIA-SAO_LUIZ', 'BACIA-SOLIMOES']\n"
     ]
    }
   ],
   "source": [
    "t = os.listdir('.')\n",
    "print t"
   ]
  },
  {
   "cell_type": "code",
   "execution_count": 30,
   "metadata": {
    "collapsed": false
   },
   "outputs": [
    {
     "data": {
      "text/plain": [
       "'/media/sf_Dados/MIGRADAS-PRE-POS-LOTES-01-09-PARTE-02'"
      ]
     },
     "execution_count": 30,
     "metadata": {},
     "output_type": "execute_result"
    }
   ],
   "source": [
    "os.getcwd()"
   ]
  },
  {
   "cell_type": "code",
   "execution_count": 31,
   "metadata": {
    "collapsed": false
   },
   "outputs": [
    {
     "name": "stdout",
     "output_type": "stream",
     "text": [
      "BACIA-AMAZONAS Linha 0078-0019-FINAL-MIGRATION-POSTSTM.SGY\n",
      "BACIA-AMAZONAS Linha 0098-0003-FINAL-MIGRATION-POSTSTM.SGY\n",
      "BACIA-AMAZONAS Linha 0202-0003A-FINAL-MIGRATION-POSTSTM.SGY\n",
      "BACIA-AMAZONAS Linha 0202-0022-FINAL-MIGRATION-POSTSTM.SGY\n",
      "BACIA-PARANA Linha 0065-0098-FINAL-MIGRATION-POSTSTM.SGY\n",
      "BACIA-PARANA Linha 0065-0106-FINAL-MIGRATION-POSTSTM.SGY\n",
      "BACIA-PARANA Linha 0065-0110-FINAL-MIGRATION-POSTSTM.SGY\n",
      "BACIA-PARANA Linha 0065-0117-FINAL-MIGRATION-POSTSTM.SGY\n",
      "BACIA-PARANA Linha 0065-0118-FINAL-MIGRATION-POSTSTM.SGY\n",
      "BACIA-PARANA Linha 0065-0119-FINAL-MIGRATION-POSTSTM.SGY\n",
      "BACIA-PARANA Linha 0065-0122-FINAL-MIGRATION-POSTSTM.SGY\n",
      "BACIA-PARANA Linha 0120-0026-FINAL-MIGRATION-POSTSTM.SGY\n",
      "BACIA-PARNAIBA Linha 0127-0325-FINAL-MIGRATION-POSTSTM.SGY\n",
      "BACIA-SAO_LUIZ Linha 0031-0234-FINAL-MIGRATION-POSTSTM.SGY\n",
      "BACIA-SOLIMOES Linha 0069-0062-FINAL-MIGRATION-POSTSTM.SGY\n"
     ]
    }
   ],
   "source": [
    "for folder in os.listdir('.'):\n",
    "    os.chdir(folder)      \n",
    "    os.chdir('SEG-Y-PSTM')    \n",
    "    files_pstm = os.listdir('.')\n",
    "    for file_pstm in files_pstm:\n",
    "        file = file_pstm.split('PSTM')[0]\n",
    "        file += 'POSTSTM.SGY'\n",
    "        cmd = 'cmp -i 3600 '+ file_pstm + ' ../SEG-Y-POSTSTM/' + file \n",
    "        result = os.system(cmd)\n",
    "        #print cmd, result\n",
    "        if result == 0:\n",
    "            print(folder + ' Linha ' + file)\n",
    "    os.chdir('../..')"
   ]
  },
  {
   "cell_type": "markdown",
   "metadata": {},
   "source": [
    "Checando se as linhas reenviadas parte 01 possuem versão POSM e PSTM idênticas exceto pelo cabeçalho\n",
    "\n",
    "Utilizando folder:\n",
    "/media/sf_Dados/MIGRADAS-PRE-POS-LOTES-01-09-PARTE-01\n",
    "\n",
    "Contém estrutura:\n",
    "\n",
    "1. BACIA-AMAZONAS\n",
    "\n",
    "    1.1 SEG-Y-POSTSTM-CM-63\n",
    "    \n",
    "        file0-PSTM.SGY\n",
    "        \n",
    "    1.2 SEG-Y-PSTM-CM-63\n",
    "\n",
    "        file0-POSTSTM.SGY\n",
    "    \n",
    "    1.3 SEGY-POSTSTM-CM-53\n",
    "    \n",
    "        ...\n",
    "        \n",
    "        \n",
    "2. BACIA-MARAJO\n",
    "\n",
    "    1.1 etc..."
   ]
  },
  {
   "cell_type": "code",
   "execution_count": 32,
   "metadata": {
    "collapsed": false
   },
   "outputs": [
    {
     "name": "stdout",
     "output_type": "stream",
     "text": [
      "/media/sf_Dados/MIGRADAS-PRE-POS-LOTES-01-09-PARTE-02\n",
      "/media/sf_Dados/MIGRADAS-PRE-POS-LOTES-01-09-PARTE-01\n"
     ]
    }
   ],
   "source": [
    "import os\n",
    "print os.getcwd()\n",
    "os.chdir('/media/sf_Dados/MIGRADAS-PRE-POS-LOTES-01-09-PARTE-01/')\n",
    "print os.getcwd()"
   ]
  },
  {
   "cell_type": "code",
   "execution_count": 33,
   "metadata": {
    "collapsed": false
   },
   "outputs": [
    {
     "name": "stdout",
     "output_type": "stream",
     "text": [
      "BACIA-SAO_LUIZ Linha 0031-0263-FINAL-MIGRATION-POSTSTM.SGY\n"
     ]
    }
   ],
   "source": [
    "for folder in os.listdir('.'):    \n",
    "    os.chdir(folder)  \n",
    "    sgy_folders = os.listdir('.')    \n",
    "    for sgy_folder in sgy_folders:\n",
    "        if sgy_folder.find('PSTM') == -1: \n",
    "            continue        \n",
    "        string = sgy_folder.split('PSTM')\n",
    "        postm_folder = string[0] + 'POSTSTM' + string[1]                      \n",
    "        os.chdir(sgy_folder)\n",
    "        files_pstm = os.listdir('.')\n",
    "        for file_pstm in files_pstm:\n",
    "            file = file_pstm.split('PSTM')[0]\n",
    "            file += 'POSTSTM.SGY'\n",
    "            cmd = 'cmp -i 3600 '+ file_pstm + ' ../'+ postm_folder +'/' + file \n",
    "            result = os.system(cmd)\n",
    "            #print cmd, result\n",
    "            if result == 0:\n",
    "                print(folder + ' Linha ' + file)\n",
    "        os.chdir('..')\n",
    "    os.chdir('..')"
   ]
  },
  {
   "cell_type": "code",
   "execution_count": 88,
   "metadata": {
    "collapsed": false
   },
   "outputs": [
    {
     "name": "stdout",
     "output_type": "stream",
     "text": [
      "/media/sf_Dados/MIGRADAS-PRE-POS-LOTES-01-09-PARTE-01\n"
     ]
    }
   ],
   "source": [
    "lcd '/media/sf_Dados/MIGRADAS-PRE-POS-LOTES-01-09-PARTE-01/'"
   ]
  },
  {
   "cell_type": "code",
   "execution_count": 28,
   "metadata": {
    "collapsed": false
   },
   "outputs": [
    {
     "data": {
      "text/plain": [
       "'/media/sf_Dados/MIGRADAS-PRE-POS-LOTES-01-09-PARTE-01'"
      ]
     },
     "execution_count": 28,
     "metadata": {},
     "output_type": "execute_result"
    }
   ],
   "source": []
  },
  {
   "cell_type": "code",
   "execution_count": null,
   "metadata": {
    "collapsed": false
   },
   "outputs": [],
   "source": []
  }
 ],
 "metadata": {
  "kernelspec": {
   "display_name": "Python 2",
   "language": "python",
   "name": "python2"
  },
  "language_info": {
   "codemirror_mode": {
    "name": "ipython",
    "version": 2
   },
   "file_extension": ".py",
   "mimetype": "text/x-python",
   "name": "python",
   "nbconvert_exporter": "python",
   "pygments_lexer": "ipython2",
   "version": "2.7.6"
  }
 },
 "nbformat": 4,
 "nbformat_minor": 0
}
