{
 "cells": [
  {
   "cell_type": "code",
   "execution_count": 1,
   "metadata": {
    "collapsed": false
   },
   "outputs": [
    {
     "name": "stdout",
     "output_type": "stream",
     "text": [
      "Populating the interactive namespace from numpy and matplotlib\n"
     ]
    }
   ],
   "source": [
    "from matplotlib import pyplot\n",
    "%pylab inline\n",
    "import urllib.request\n",
    "import re\n",
    "import pandas as pd\n",
    "import datetime\n",
    "import time\n",
    "import seaborn as sns"
   ]
  },
  {
   "cell_type": "markdown",
   "metadata": {},
   "source": [
    "### Read the dataframe being created by the other notebook ###"
   ]
  },
  {
   "cell_type": "code",
   "execution_count": 2,
   "metadata": {
    "collapsed": false,
    "scrolled": true
   },
   "outputs": [
    {
     "name": "stdout",
     "output_type": "stream",
     "text": [
      "/home/andre/PycharmProjects/geonumerics/ipython_notebooks\n"
     ]
    }
   ],
   "source": [
    "%cd /home/andre/PycharmProjects/geonumerics/ipython_notebooks"
   ]
  },
  {
   "cell_type": "code",
   "execution_count": 3,
   "metadata": {
    "collapsed": false
   },
   "outputs": [
    {
     "name": "stdout",
     "output_type": "stream",
     "text": [
      "4689\n",
      "CPU times: user 1.35 ms, sys: 3.7 ms, total: 5.05 ms\n",
      "Wall time: 4.72 ms\n"
     ]
    }
   ],
   "source": [
    "%%time\n",
    "\n",
    "try:\n",
    "    dfdata = pd.read_pickle('real_time_quotes.pandas')\n",
    "    dfdata = dfdata.set_index(pd.DatetimeIndex(dfdata['time']))\n",
    "    dfdata.drop('time', axis='columns', inplace=True) #not need anymore\n",
    "except:\n",
    "    pass\n",
    "\n",
    "print(len(dfdata))"
   ]
  },
  {
   "cell_type": "markdown",
   "metadata": {},
   "source": [
    "### RANDOM TARGET VARIABLE ###"
   ]
  },
  {
   "cell_type": "code",
   "execution_count": 4,
   "metadata": {
    "collapsed": false
   },
   "outputs": [
    {
     "name": "stdout",
     "output_type": "stream",
     "text": [
      "AUD/JPY\n"
     ]
    }
   ],
   "source": [
    "#targeti = np.random.randint(0, len(dfdata.columns))\n",
    "#target_quote = 'AUD/USD' # TARGET VARIABLE\n",
    "#target_quote = 'EUR/AUD' # TARGET VARIABLE\n",
    "#target_quote = 'EUR/USD' # TARGET VARIABLE\n",
    "#target_quote = 'GBP/USD' # TARGET VARIABLE\n",
    "#target_quote = 'USD/CAD' # TARGET VARIABLE\n",
    "#target_quote = 'USD/NOK' # TARGET VARIABLE\n",
    "target_quote = 'AUD/JPY' # TARGET VARIABLE\n",
    "#target_quote = dfdata.columns[targeti]\n",
    "print(target_quote)"
   ]
  },
  {
   "cell_type": "code",
   "execution_count": 5,
   "metadata": {
    "collapsed": false,
    "scrolled": true
   },
   "outputs": [
    {
     "data": {
      "image/png": "[encoded data removed]",
      "text/plain": [
       "<matplotlib.figure.Figure at 0x7ff904d59b38>"
      ]
     },
     "metadata": {},
     "output_type": "display_data"
    }
   ],
   "source": [
    "pyplot.figure(figsize(15,3))\n",
    "dfdata[target_quote].plot()\n",
    "# store this serie for use at the end\n",
    "serie_target = dfdata[target_quote]"
   ]
  },
  {
   "cell_type": "markdown",
   "metadata": {},
   "source": [
    "### AFTER QUICK LOOK DATA, CHOOSE THE AMOUNT OF DATA TO USE ###"
   ]
  },
  {
   "cell_type": "code",
   "execution_count": 6,
   "metadata": {
    "collapsed": false
   },
   "outputs": [],
   "source": [
    "# just last 500 samples too much data\n",
    "#dt = 10. # seconds\n",
    "dt = pd.Timedelta(10, unit='s')\n",
    "# one hour samples\n",
    "#onehour = int(60*1./dt)\n",
    "# two hour samples\n",
    "#twohour = int(120*1./dt)\n",
    "#dfdata = dfdata.tail(onehour)"
   ]
  },
  {
   "cell_type": "code",
   "execution_count": 7,
   "metadata": {
    "collapsed": false
   },
   "outputs": [
    {
     "name": "stdout",
     "output_type": "stream",
     "text": [
      "/home/andre/PycharmProjects/geonumerics/source/python/Forex\n"
     ]
    },
    {
     "name": "stderr",
     "output_type": "stream",
     "text": [
      "/home/andre/anaconda3/lib/python3.5/site-packages/IPython/html.py:14: ShimWarning: The `IPython.html` package has been deprecated. You should import from `notebook` instead. `IPython.html.widgets` has moved to `ipywidgets`.\n",
      "  \"`IPython.html.widgets` has moved to `ipywidgets`.\", ShimWarning)\n"
     ]
    }
   ],
   "source": [
    "%cd /home/andre/PycharmProjects/geonumerics/source/python/Forex\n",
    "import RF_Forex\n",
    "#%reload(RF_Forex)"
   ]
  },
  {
   "cell_type": "markdown",
   "metadata": {},
   "source": [
    "### set the price variation to calculate zig_zag patern ###\n",
    "\n",
    "Beware that depending on the price variation it may give \n",
    "an error bellow not being able to plot or calculate zig-zag"
   ]
  },
  {
   "cell_type": "code",
   "execution_count": null,
   "metadata": {
    "collapsed": true
   },
   "outputs": [],
   "source": [
    "# zzdeltas, serie_pivots = RF_Forex.create_binary_zig_zag_class(dfdata, target_quote, 0.00005, plot=True)\n",
    "# create the binary classification class \"du\"\n",
    "series_data_du = dfdata['du'] # save a copy for future use"
   ]
  },
  {
   "cell_type": "code",
   "execution_count": 9,
   "metadata": {
    "collapsed": false
   },
   "outputs": [
    {
     "name": "stdout",
     "output_type": "stream",
     "text": [
      "number of samples shifted  970\n"
     ]
    },
    {
     "data": {
      "image/png": "[encoded data removed]",
      "text/plain": [
       "<matplotlib.figure.Figure at 0x7ff8fb7a5cc0>"
      ]
     },
     "metadata": {},
     "output_type": "display_data"
    }
   ],
   "source": [
    "# shifting 2 samples, set NAN for the last two samples that are future \n",
    "# values we dont know YET. We will predict then\n",
    "# since mean is of 22 minutes = 22*6 samples for prediction\n",
    "#shift = 2\n",
    "shift = round(zzdeltas[0].total_seconds()/dt.total_seconds()) # zzdeltas[0] mean delta time\n",
    "print('number of samples shifted ', shift)\n",
    "series_data_dup = RF_Forex.make_shift_binary_class(dfdata, shift) "
   ]
  },
  {
   "cell_type": "code",
   "execution_count": 10,
   "metadata": {
    "collapsed": false
   },
   "outputs": [],
   "source": [
    "# time of the last valid sample for traininig\n",
    "# and last sample recorded\n",
    "time_index_training = series_data_dup.dropna(inplace=False).index  \n",
    "last_time_real = series_data_dup.index[-1] \n",
    "last_time_training = series_data_dup.dropna(inplace=False).index[-1] "
   ]
  },
  {
   "cell_type": "code",
   "execution_count": 11,
   "metadata": {
    "collapsed": false
   },
   "outputs": [],
   "source": [
    "# remove the target_quote/target_variable and create many indicators\n",
    "# can improve here with new indicators, RSI discrete\n",
    "RF_Forex.create_indicators(dfdata, target_quote);"
   ]
  },
  {
   "cell_type": "code",
   "execution_count": 18,
   "metadata": {
    "collapsed": false
   },
   "outputs": [
    {
     "data": {
      "text/html": [
       "<div>\n",
       "<table border=\"1\" class=\"dataframe\">\n",
       "  <thead>\n",
       "    <tr style=\"text-align: right;\">\n",
       "      <th></th>\n",
       "      <th>EUR/USD</th>\n",
       "      <th>AUD/USD</th>\n",
       "      <th>EUR/GBP</th>\n",
       "      <th>USD/CHF</th>\n",
       "      <th>USD/CAD</th>\n",
       "      <th>EUR/CHF</th>\n",
       "      <th>EUR/AUD</th>\n",
       "      <th>USD/NOK</th>\n",
       "      <th>GBP/JPY</th>\n",
       "      <th>ema_5 EUR/USD</th>\n",
       "      <th>...</th>\n",
       "      <th>EUR/USD+AUD/USD</th>\n",
       "      <th>AUD/USD+GBP/USD</th>\n",
       "      <th>GBP/USD+EUR/GBP</th>\n",
       "      <th>EUR/GBP+USD/CHF</th>\n",
       "      <th>USD/CHF+USD/CAD</th>\n",
       "      <th>EUR/CHF+EUR/AUD</th>\n",
       "      <th>EUR/AUD+USD/NOK</th>\n",
       "      <th>USD/NOK+GBP/JPY</th>\n",
       "      <th>target_variable_dup</th>\n",
       "      <th>UpDown</th>\n",
       "    </tr>\n",
       "  </thead>\n",
       "  <tbody>\n",
       "    <tr>\n",
       "      <th>3</th>\n",
       "      <td>0.704698</td>\n",
       "      <td>0.207399</td>\n",
       "      <td>0.651709</td>\n",
       "      <td>0.385542</td>\n",
       "      <td>0.712662</td>\n",
       "      <td>0.536913</td>\n",
       "      <td>0.829917</td>\n",
       "      <td>0.443923</td>\n",
       "      <td>0.006012</td>\n",
       "      <td>0.727041</td>\n",
       "      <td>...</td>\n",
       "      <td>0.267803</td>\n",
       "      <td>0.250163</td>\n",
       "      <td>0.527574</td>\n",
       "      <td>0.462203</td>\n",
       "      <td>0.605027</td>\n",
       "      <td>0.815385</td>\n",
       "      <td>0.576365</td>\n",
       "      <td>0.011535</td>\n",
       "      <td>1.0</td>\n",
       "      <td>1.0</td>\n",
       "    </tr>\n",
       "  </tbody>\n",
       "</table>\n",
       "<p>1 rows × 65 columns</p>\n",
       "</div>"
      ],
      "text/plain": [
       "    EUR/USD   AUD/USD   EUR/GBP   USD/CHF   USD/CAD   EUR/CHF   EUR/AUD  \\\n",
       "3  0.704698  0.207399  0.651709  0.385542  0.712662  0.536913  0.829917   \n",
       "\n",
       "    USD/NOK   GBP/JPY  ema_5 EUR/USD   ...    EUR/USD+AUD/USD  \\\n",
       "3  0.443923  0.006012       0.727041   ...           0.267803   \n",
       "\n",
       "   AUD/USD+GBP/USD  GBP/USD+EUR/GBP  EUR/GBP+USD/CHF  USD/CHF+USD/CAD  \\\n",
       "3         0.250163         0.527574         0.462203         0.605027   \n",
       "\n",
       "   EUR/CHF+EUR/AUD  EUR/AUD+USD/NOK  USD/NOK+GBP/JPY  target_variable_dup  \\\n",
       "3         0.815385         0.576365         0.011535                  1.0   \n",
       "\n",
       "   UpDown  \n",
       "3     1.0  \n",
       "\n",
       "[1 rows x 65 columns]"
      ]
     },
     "execution_count": 18,
     "metadata": {},
     "output_type": "execute_result"
    }
   ],
   "source": [
    "# normalize 0 to 1\n",
    "dfdata = dfdata.apply(lambda x: (x - np.min(x)) / (np.max(x) - np.min(x)))\n",
    "dfdata.head(1)"
   ]
  },
  {
   "cell_type": "code",
   "execution_count": 13,
   "metadata": {
    "collapsed": false
   },
   "outputs": [
    {
     "name": "stdout",
     "output_type": "stream",
     "text": [
      "ema_10 USD/CHF    0.385016\n",
      "ema_5 USD/CHF     0.384985\n",
      "ema_15 USD/CHF    0.384905\n",
      "USD/CHF           0.384107\n",
      "ema_15 EUR/CHF    0.295225\n",
      "Name: target_variable_dup, dtype: float64\n",
      "ema_5 GBP/USD     0.003077\n",
      "dema_5 GBP/JPY    0.002944\n",
      "ema_10 GBP/USD    0.002591\n",
      "ema_15 GBP/USD    0.001964\n",
      "rsi_20 GBP/JPY    0.001960\n",
      "Name: target_variable_dup, dtype: float64\n"
     ]
    }
   ],
   "source": [
    "RF_Forex.calculate_corr_and_remove(dfdata, series_data_dup)\n",
    "# 5 first and 5 last correlations"
   ]
  },
  {
   "cell_type": "code",
   "execution_count": 14,
   "metadata": {
    "collapsed": false
   },
   "outputs": [
    {
     "data": {
      "text/html": [
       "<div>\n",
       "<table border=\"1\" class=\"dataframe\">\n",
       "  <thead>\n",
       "    <tr style=\"text-align: right;\">\n",
       "      <th></th>\n",
       "      <th>EUR/USD</th>\n",
       "      <th>AUD/USD</th>\n",
       "      <th>EUR/GBP</th>\n",
       "      <th>USD/CHF</th>\n",
       "      <th>USD/CAD</th>\n",
       "      <th>EUR/CHF</th>\n",
       "      <th>EUR/AUD</th>\n",
       "      <th>USD/NOK</th>\n",
       "      <th>GBP/JPY</th>\n",
       "      <th>ema_5 EUR/USD</th>\n",
       "      <th>...</th>\n",
       "      <th>ema_15 GBP/JPY</th>\n",
       "      <th>EUR/USD+AUD/USD</th>\n",
       "      <th>AUD/USD+GBP/USD</th>\n",
       "      <th>GBP/USD+EUR/GBP</th>\n",
       "      <th>EUR/GBP+USD/CHF</th>\n",
       "      <th>USD/CHF+USD/CAD</th>\n",
       "      <th>EUR/CHF+EUR/AUD</th>\n",
       "      <th>EUR/AUD+USD/NOK</th>\n",
       "      <th>USD/NOK+GBP/JPY</th>\n",
       "      <th>target_variable_dup</th>\n",
       "    </tr>\n",
       "  </thead>\n",
       "  <tbody>\n",
       "    <tr>\n",
       "      <th>0</th>\n",
       "      <td>0.14963</td>\n",
       "      <td>-0.223857</td>\n",
       "      <td>-0.007029</td>\n",
       "      <td>-0.165189</td>\n",
       "      <td>0.187551</td>\n",
       "      <td>-0.041482</td>\n",
       "      <td>0.294898</td>\n",
       "      <td>-0.07911</td>\n",
       "      <td>-0.305315</td>\n",
       "      <td>0.154606</td>\n",
       "      <td>...</td>\n",
       "      <td>-0.305157</td>\n",
       "      <td>-0.135596</td>\n",
       "      <td>-0.074324</td>\n",
       "      <td>0.136305</td>\n",
       "      <td>-0.156291</td>\n",
       "      <td>0.04363</td>\n",
       "      <td>0.293703</td>\n",
       "      <td>0.024366</td>\n",
       "      <td>-0.301586</td>\n",
       "      <td>1.0</td>\n",
       "    </tr>\n",
       "  </tbody>\n",
       "</table>\n",
       "<p>1 rows × 64 columns</p>\n",
       "</div>"
      ],
      "text/plain": [
       "   EUR/USD   AUD/USD   EUR/GBP   USD/CHF   USD/CAD   EUR/CHF   EUR/AUD  \\\n",
       "0  0.14963 -0.223857 -0.007029 -0.165189  0.187551 -0.041482  0.294898   \n",
       "\n",
       "   USD/NOK   GBP/JPY  ema_5 EUR/USD         ...           ema_15 GBP/JPY  \\\n",
       "0 -0.07911 -0.305315       0.154606         ...                -0.305157   \n",
       "\n",
       "   EUR/USD+AUD/USD  AUD/USD+GBP/USD  GBP/USD+EUR/GBP  EUR/GBP+USD/CHF  \\\n",
       "0        -0.135596        -0.074324         0.136305        -0.156291   \n",
       "\n",
       "   USD/CHF+USD/CAD  EUR/CHF+EUR/AUD  EUR/AUD+USD/NOK  USD/NOK+GBP/JPY  \\\n",
       "0          0.04363         0.293703         0.024366        -0.301586   \n",
       "\n",
       "   target_variable_dup  \n",
       "0                  1.0  \n",
       "\n",
       "[1 rows x 64 columns]"
      ]
     },
     "execution_count": 14,
     "metadata": {},
     "output_type": "execute_result"
    }
   ],
   "source": [
    "# remove time index to make it possible through sckit-learn\n",
    "dfdata.reset_index(inplace=True, drop=True)\n",
    "series_data_dup.reset_index(inplace=True, drop=True)\n",
    "dfdata['target_variable_dup'] = pd.Series(series_data_dup, index=dfdata.index)\n",
    "dfdata.head(1)"
   ]
  },
  {
   "cell_type": "markdown",
   "metadata": {},
   "source": [
    " ### Separate variables for PREDICTION and TRAINING ###"
   ]
  },
  {
   "cell_type": "code",
   "execution_count": 15,
   "metadata": {
    "collapsed": false
   },
   "outputs": [
    {
     "name": "stderr",
     "output_type": "stream",
     "text": [
      "/home/andre/anaconda3/lib/python3.5/site-packages/ipykernel/__main__.py:3: SettingWithCopyWarning: \n",
      "A value is trying to be set on a copy of a slice from a DataFrame\n",
      "\n",
      "See the caveats in the documentation: http://pandas.pydata.org/pandas-docs/stable/indexing.html#indexing-view-versus-copy\n",
      "  app.launch_new_instance()\n"
     ]
    }
   ],
   "source": [
    "df2predict = dfdata[ pd.isnull(dfdata['target_variable_dup']) ] \n",
    "dfdata.dropna(inplace=True)\n",
    "df2predict.drop('target_variable_dup', axis='columns', inplace=True)"
   ]
  },
  {
   "cell_type": "code",
   "execution_count": 16,
   "metadata": {
    "collapsed": false
   },
   "outputs": [
    {
     "name": "stdout",
     "output_type": "stream",
     "text": [
      "3715\n"
     ]
    }
   ],
   "source": [
    "# should use everything all samples otherwise I choose a different \n",
    "# number of samples in the begining \n",
    "print(len(dfdata))\n",
    "X_train, y_train = RF_Forex.prepareDataForClassification(dfdata) # index of sample to split"
   ]
  },
  {
   "cell_type": "markdown",
   "metadata": {},
   "source": [
    "### QUICK ANALYSIS OF ALL DATA ###"
   ]
  },
  {
   "cell_type": "code",
   "execution_count": 17,
   "metadata": {
    "collapsed": false
   },
   "outputs": [
    {
     "name": "stdout",
     "output_type": "stream",
     "text": [
      "Size train set:  (3715, 63)\n",
      "samples in each window:  60\n",
      "number of analysis:  46\n"
     ]
    },
    {
     "ename": "KeyboardInterrupt",
     "evalue": "",
     "output_type": "error",
     "traceback": [
      "\u001b[1;31m---------------------------------------------------------------------------\u001b[0m",
      "\u001b[1;31mKeyboardInterrupt\u001b[0m                         Traceback (most recent call last)",
      "\u001b[1;32m<ipython-input-17-68bd3c2cb803>\u001b[0m in \u001b[0;36m<module>\u001b[1;34m()\u001b[0m\n\u001b[0;32m      1\u001b[0m \u001b[1;31m#%timeit\u001b[0m\u001b[1;33m\u001b[0m\u001b[1;33m\u001b[0m\u001b[0m\n\u001b[1;32m----> 2\u001b[1;33m \u001b[0maccuracies\u001b[0m\u001b[1;33m,\u001b[0m \u001b[0mclfmodel\u001b[0m \u001b[1;33m=\u001b[0m \u001b[0mRF_Forex\u001b[0m\u001b[1;33m.\u001b[0m\u001b[0mperformCV_analysis\u001b[0m\u001b[1;33m(\u001b[0m\u001b[0mX_train\u001b[0m\u001b[1;33m,\u001b[0m \u001b[0my_train\u001b[0m\u001b[1;33m,\u001b[0m \u001b[1;36m60\u001b[0m\u001b[1;33m,\u001b[0m \u001b[0mnvalidate\u001b[0m\u001b[1;33m=\u001b[0m\u001b[0mshift\u001b[0m\u001b[1;33m)\u001b[0m\u001b[1;33m\u001b[0m\u001b[0m\n\u001b[0m",
      "\u001b[1;32m/home/andre/PycharmProjects/geonumerics/source/python/Forex/RF_Forex.py\u001b[0m in \u001b[0;36mperformCV_analysis\u001b[1;34m(X_train, y_train, windown, nanalysis, nvalidate, algorithm)\u001b[0m\n\u001b[0;32m    327\u001b[0m         \u001b[0my_testFold\u001b[0m \u001b[1;33m=\u001b[0m \u001b[0my_train\u001b[0m\u001b[1;33m[\u001b[0m\u001b[0mi\u001b[0m\u001b[1;33m+\u001b[0m\u001b[0mwindown\u001b[0m\u001b[1;33m+\u001b[0m\u001b[1;36m1\u001b[0m\u001b[1;33m:\u001b[0m\u001b[0mi\u001b[0m\u001b[1;33m+\u001b[0m\u001b[0mwindown\u001b[0m\u001b[1;33m+\u001b[0m\u001b[0mnvalidate\u001b[0m\u001b[1;33m]\u001b[0m\u001b[1;33m\u001b[0m\u001b[0m\n\u001b[0;32m    328\u001b[0m \u001b[1;33m\u001b[0m\u001b[0m\n\u001b[1;32m--> 329\u001b[1;33m         \u001b[0mclf\u001b[0m\u001b[1;33m.\u001b[0m\u001b[0mfit\u001b[0m\u001b[1;33m(\u001b[0m\u001b[0mX_trainFolds\u001b[0m\u001b[1;33m,\u001b[0m \u001b[0my_trainFolds\u001b[0m\u001b[1;33m)\u001b[0m\u001b[1;33m\u001b[0m\u001b[0m\n\u001b[0m\u001b[0;32m    330\u001b[0m         \u001b[0maccuracies\u001b[0m\u001b[1;33m[\u001b[0m\u001b[0mj\u001b[0m\u001b[1;33m]\u001b[0m \u001b[1;33m=\u001b[0m \u001b[0mclf\u001b[0m\u001b[1;33m.\u001b[0m\u001b[0mscore\u001b[0m\u001b[1;33m(\u001b[0m\u001b[0mX_testFold\u001b[0m\u001b[1;33m,\u001b[0m \u001b[0my_testFold\u001b[0m\u001b[1;33m)\u001b[0m\u001b[1;33m\u001b[0m\u001b[0m\n\u001b[0;32m    331\u001b[0m         \u001b[0miaccuracies\u001b[0m\u001b[1;33m[\u001b[0m\u001b[0mj\u001b[0m\u001b[1;33m]\u001b[0m \u001b[1;33m=\u001b[0m \u001b[0mi\u001b[0m\u001b[1;33m+\u001b[0m\u001b[0mwindown\u001b[0m\u001b[1;33m\u001b[0m\u001b[0m\n",
      "\u001b[1;32m/home/andre/anaconda3/lib/python3.5/site-packages/sklearn/ensemble/forest.py\u001b[0m in \u001b[0;36mfit\u001b[1;34m(self, X, y, sample_weight)\u001b[0m\n\u001b[0;32m    288\u001b[0m                     \u001b[0mt\u001b[0m\u001b[1;33m,\u001b[0m \u001b[0mself\u001b[0m\u001b[1;33m,\u001b[0m \u001b[0mX\u001b[0m\u001b[1;33m,\u001b[0m \u001b[0my\u001b[0m\u001b[1;33m,\u001b[0m \u001b[0msample_weight\u001b[0m\u001b[1;33m,\u001b[0m \u001b[0mi\u001b[0m\u001b[1;33m,\u001b[0m \u001b[0mlen\u001b[0m\u001b[1;33m(\u001b[0m\u001b[0mtrees\u001b[0m\u001b[1;33m)\u001b[0m\u001b[1;33m,\u001b[0m\u001b[1;33m\u001b[0m\u001b[0m\n\u001b[0;32m    289\u001b[0m                     verbose=self.verbose, class_weight=self.class_weight)\n\u001b[1;32m--> 290\u001b[1;33m                 for i, t in enumerate(trees))\n\u001b[0m\u001b[0;32m    291\u001b[0m \u001b[1;33m\u001b[0m\u001b[0m\n\u001b[0;32m    292\u001b[0m             \u001b[1;31m# Collect newly grown trees\u001b[0m\u001b[1;33m\u001b[0m\u001b[1;33m\u001b[0m\u001b[0m\n",
      "\u001b[1;32m/home/andre/anaconda3/lib/python3.5/site-packages/sklearn/externals/joblib/parallel.py\u001b[0m in \u001b[0;36m__call__\u001b[1;34m(self, iterable)\u001b[0m\n\u001b[0;32m    808\u001b[0m                 \u001b[1;31m# consumption.\u001b[0m\u001b[1;33m\u001b[0m\u001b[1;33m\u001b[0m\u001b[0m\n\u001b[0;32m    809\u001b[0m                 \u001b[0mself\u001b[0m\u001b[1;33m.\u001b[0m\u001b[0m_iterating\u001b[0m \u001b[1;33m=\u001b[0m \u001b[1;32mFalse\u001b[0m\u001b[1;33m\u001b[0m\u001b[0m\n\u001b[1;32m--> 810\u001b[1;33m             \u001b[0mself\u001b[0m\u001b[1;33m.\u001b[0m\u001b[0mretrieve\u001b[0m\u001b[1;33m(\u001b[0m\u001b[1;33m)\u001b[0m\u001b[1;33m\u001b[0m\u001b[0m\n\u001b[0m\u001b[0;32m    811\u001b[0m             \u001b[1;31m# Make sure that we get a last message telling us we are done\u001b[0m\u001b[1;33m\u001b[0m\u001b[1;33m\u001b[0m\u001b[0m\n\u001b[0;32m    812\u001b[0m             \u001b[0melapsed_time\u001b[0m \u001b[1;33m=\u001b[0m \u001b[0mtime\u001b[0m\u001b[1;33m.\u001b[0m\u001b[0mtime\u001b[0m\u001b[1;33m(\u001b[0m\u001b[1;33m)\u001b[0m \u001b[1;33m-\u001b[0m \u001b[0mself\u001b[0m\u001b[1;33m.\u001b[0m\u001b[0m_start_time\u001b[0m\u001b[1;33m\u001b[0m\u001b[0m\n",
      "\u001b[1;32m/home/andre/anaconda3/lib/python3.5/site-packages/sklearn/externals/joblib/parallel.py\u001b[0m in \u001b[0;36mretrieve\u001b[1;34m(self)\u001b[0m\n\u001b[0;32m    725\u001b[0m                 \u001b[0mjob\u001b[0m \u001b[1;33m=\u001b[0m \u001b[0mself\u001b[0m\u001b[1;33m.\u001b[0m\u001b[0m_jobs\u001b[0m\u001b[1;33m.\u001b[0m\u001b[0mpop\u001b[0m\u001b[1;33m(\u001b[0m\u001b[1;36m0\u001b[0m\u001b[1;33m)\u001b[0m\u001b[1;33m\u001b[0m\u001b[0m\n\u001b[0;32m    726\u001b[0m             \u001b[1;32mtry\u001b[0m\u001b[1;33m:\u001b[0m\u001b[1;33m\u001b[0m\u001b[0m\n\u001b[1;32m--> 727\u001b[1;33m                 \u001b[0mself\u001b[0m\u001b[1;33m.\u001b[0m\u001b[0m_output\u001b[0m\u001b[1;33m.\u001b[0m\u001b[0mextend\u001b[0m\u001b[1;33m(\u001b[0m\u001b[0mjob\u001b[0m\u001b[1;33m.\u001b[0m\u001b[0mget\u001b[0m\u001b[1;33m(\u001b[0m\u001b[1;33m)\u001b[0m\u001b[1;33m)\u001b[0m\u001b[1;33m\u001b[0m\u001b[0m\n\u001b[0m\u001b[0;32m    728\u001b[0m             \u001b[1;32mexcept\u001b[0m \u001b[0mtuple\u001b[0m\u001b[1;33m(\u001b[0m\u001b[0mself\u001b[0m\u001b[1;33m.\u001b[0m\u001b[0mexceptions\u001b[0m\u001b[1;33m)\u001b[0m \u001b[1;32mas\u001b[0m \u001b[0mexception\u001b[0m\u001b[1;33m:\u001b[0m\u001b[1;33m\u001b[0m\u001b[0m\n\u001b[0;32m    729\u001b[0m                 \u001b[1;31m# Stop dispatching any new job in the async callback thread\u001b[0m\u001b[1;33m\u001b[0m\u001b[1;33m\u001b[0m\u001b[0m\n",
      "\u001b[1;32m/home/andre/anaconda3/lib/python3.5/multiprocessing/pool.py\u001b[0m in \u001b[0;36mget\u001b[1;34m(self, timeout)\u001b[0m\n\u001b[0;32m    600\u001b[0m \u001b[1;33m\u001b[0m\u001b[0m\n\u001b[0;32m    601\u001b[0m     \u001b[1;32mdef\u001b[0m \u001b[0mget\u001b[0m\u001b[1;33m(\u001b[0m\u001b[0mself\u001b[0m\u001b[1;33m,\u001b[0m \u001b[0mtimeout\u001b[0m\u001b[1;33m=\u001b[0m\u001b[1;32mNone\u001b[0m\u001b[1;33m)\u001b[0m\u001b[1;33m:\u001b[0m\u001b[1;33m\u001b[0m\u001b[0m\n\u001b[1;32m--> 602\u001b[1;33m         \u001b[0mself\u001b[0m\u001b[1;33m.\u001b[0m\u001b[0mwait\u001b[0m\u001b[1;33m(\u001b[0m\u001b[0mtimeout\u001b[0m\u001b[1;33m)\u001b[0m\u001b[1;33m\u001b[0m\u001b[0m\n\u001b[0m\u001b[0;32m    603\u001b[0m         \u001b[1;32mif\u001b[0m \u001b[1;32mnot\u001b[0m \u001b[0mself\u001b[0m\u001b[1;33m.\u001b[0m\u001b[0mready\u001b[0m\u001b[1;33m(\u001b[0m\u001b[1;33m)\u001b[0m\u001b[1;33m:\u001b[0m\u001b[1;33m\u001b[0m\u001b[0m\n\u001b[0;32m    604\u001b[0m             \u001b[1;32mraise\u001b[0m \u001b[0mTimeoutError\u001b[0m\u001b[1;33m\u001b[0m\u001b[0m\n",
      "\u001b[1;32m/home/andre/anaconda3/lib/python3.5/multiprocessing/pool.py\u001b[0m in \u001b[0;36mwait\u001b[1;34m(self, timeout)\u001b[0m\n\u001b[0;32m    597\u001b[0m \u001b[1;33m\u001b[0m\u001b[0m\n\u001b[0;32m    598\u001b[0m     \u001b[1;32mdef\u001b[0m \u001b[0mwait\u001b[0m\u001b[1;33m(\u001b[0m\u001b[0mself\u001b[0m\u001b[1;33m,\u001b[0m \u001b[0mtimeout\u001b[0m\u001b[1;33m=\u001b[0m\u001b[1;32mNone\u001b[0m\u001b[1;33m)\u001b[0m\u001b[1;33m:\u001b[0m\u001b[1;33m\u001b[0m\u001b[0m\n\u001b[1;32m--> 599\u001b[1;33m         \u001b[0mself\u001b[0m\u001b[1;33m.\u001b[0m\u001b[0m_event\u001b[0m\u001b[1;33m.\u001b[0m\u001b[0mwait\u001b[0m\u001b[1;33m(\u001b[0m\u001b[0mtimeout\u001b[0m\u001b[1;33m)\u001b[0m\u001b[1;33m\u001b[0m\u001b[0m\n\u001b[0m\u001b[0;32m    600\u001b[0m \u001b[1;33m\u001b[0m\u001b[0m\n\u001b[0;32m    601\u001b[0m     \u001b[1;32mdef\u001b[0m \u001b[0mget\u001b[0m\u001b[1;33m(\u001b[0m\u001b[0mself\u001b[0m\u001b[1;33m,\u001b[0m \u001b[0mtimeout\u001b[0m\u001b[1;33m=\u001b[0m\u001b[1;32mNone\u001b[0m\u001b[1;33m)\u001b[0m\u001b[1;33m:\u001b[0m\u001b[1;33m\u001b[0m\u001b[0m\n",
      "\u001b[1;32m/home/andre/anaconda3/lib/python3.5/threading.py\u001b[0m in \u001b[0;36mwait\u001b[1;34m(self, timeout)\u001b[0m\n\u001b[0;32m    547\u001b[0m             \u001b[0msignaled\u001b[0m \u001b[1;33m=\u001b[0m \u001b[0mself\u001b[0m\u001b[1;33m.\u001b[0m\u001b[0m_flag\u001b[0m\u001b[1;33m\u001b[0m\u001b[0m\n\u001b[0;32m    548\u001b[0m             \u001b[1;32mif\u001b[0m \u001b[1;32mnot\u001b[0m \u001b[0msignaled\u001b[0m\u001b[1;33m:\u001b[0m\u001b[1;33m\u001b[0m\u001b[0m\n\u001b[1;32m--> 549\u001b[1;33m                 \u001b[0msignaled\u001b[0m \u001b[1;33m=\u001b[0m \u001b[0mself\u001b[0m\u001b[1;33m.\u001b[0m\u001b[0m_cond\u001b[0m\u001b[1;33m.\u001b[0m\u001b[0mwait\u001b[0m\u001b[1;33m(\u001b[0m\u001b[0mtimeout\u001b[0m\u001b[1;33m)\u001b[0m\u001b[1;33m\u001b[0m\u001b[0m\n\u001b[0m\u001b[0;32m    550\u001b[0m             \u001b[1;32mreturn\u001b[0m \u001b[0msignaled\u001b[0m\u001b[1;33m\u001b[0m\u001b[0m\n\u001b[0;32m    551\u001b[0m \u001b[1;33m\u001b[0m\u001b[0m\n",
      "\u001b[1;32m/home/andre/anaconda3/lib/python3.5/threading.py\u001b[0m in \u001b[0;36mwait\u001b[1;34m(self, timeout)\u001b[0m\n\u001b[0;32m    291\u001b[0m         \u001b[1;32mtry\u001b[0m\u001b[1;33m:\u001b[0m    \u001b[1;31m# restore state no matter what (e.g., KeyboardInterrupt)\u001b[0m\u001b[1;33m\u001b[0m\u001b[0m\n\u001b[0;32m    292\u001b[0m             \u001b[1;32mif\u001b[0m \u001b[0mtimeout\u001b[0m \u001b[1;32mis\u001b[0m \u001b[1;32mNone\u001b[0m\u001b[1;33m:\u001b[0m\u001b[1;33m\u001b[0m\u001b[0m\n\u001b[1;32m--> 293\u001b[1;33m                 \u001b[0mwaiter\u001b[0m\u001b[1;33m.\u001b[0m\u001b[0macquire\u001b[0m\u001b[1;33m(\u001b[0m\u001b[1;33m)\u001b[0m\u001b[1;33m\u001b[0m\u001b[0m\n\u001b[0m\u001b[0;32m    294\u001b[0m                 \u001b[0mgotit\u001b[0m \u001b[1;33m=\u001b[0m \u001b[1;32mTrue\u001b[0m\u001b[1;33m\u001b[0m\u001b[0m\n\u001b[0;32m    295\u001b[0m             \u001b[1;32melse\u001b[0m\u001b[1;33m:\u001b[0m\u001b[1;33m\u001b[0m\u001b[0m\n",
      "\u001b[1;31mKeyboardInterrupt\u001b[0m: "
     ]
    }
   ],
   "source": [
    "#%timeit\n",
    "accuracies, clfmodel = RF_Forex.performCV_analysis(X_train, y_train, 60, nvalidate=shift)"
   ]
  },
  {
   "cell_type": "code",
   "execution_count": null,
   "metadata": {
    "collapsed": false
   },
   "outputs": [],
   "source": [
    "accuracies_index = np.array([time_index_training[i] for i in accuracies[0]])\n",
    "pdaccuracies = pd.DataFrame(accuracies[1], columns=['accuracy'],\n",
    "                        index=accuracies_index)"
   ]
  },
  {
   "cell_type": "code",
   "execution_count": null,
   "metadata": {
    "collapsed": false
   },
   "outputs": [],
   "source": [
    "print(np.mean(accuracies[1]))\n",
    "print(target_quote)\n",
    "fig, axr = pyplot.subplots(1, sharex=True, figsize=(15,4))\n",
    "# average 8\n",
    "pdaccuracies['mean'] = pdaccuracies.accuracy.ewm(span=8).mean()\n",
    "pdaccuracies['perc45'] = pd.Series(np.ones(len(accuracies[1]))*0.6897, index=pdaccuracies.index) # 45%\n",
    "pdaccuracies['perc70'] = pd.Series(np.ones(len(accuracies[1]))*0.5882, index=pdaccuracies.index) # 70%\n",
    "pdaccuracies['perc80'] = pd.Series(np.ones(len(accuracies[1]))*0.5556, index=pdaccuracies.index) # 80%\n",
    "pdaccuracies.plot(ax=axr, ylim=(-0.5, 1.5))"
   ]
  },
  {
   "cell_type": "markdown",
   "metadata": {},
   "source": [
    "### Create special window do validate training and see if it will go up  or down ###\n",
    "\n",
    "1. Use the last samples to visually see if it is still predicting correctly\n",
    "2. Plot over or among the original price chart the predictions"
   ]
  },
  {
   "cell_type": "code",
   "execution_count": null,
   "metadata": {
    "collapsed": false
   },
   "outputs": [],
   "source": [
    "from sklearn.ensemble import RandomForestClassifier, ExtraTreesClassifier\n",
    "\n",
    "def see_prediction(serie_target, average_delta, serie_pivots, serie_du,\n",
    "                   clfmodel, data2predict, shift, dt):\n",
    "    # plot the last samples corresponding to 5 mean zig zag values\n",
    "    nsee=7\n",
    "    fig, axr = plt.subplots(2, sharex=True, figsize=(15,4))\n",
    "    serie_target[ serie_target.index > (serie_target.index[-1] - zzdeltas[0]*nsee) ].plot(ax=axr[0])\n",
    "    selection = serie_pivots[ serie_pivots.index > (serie_pivots.index[-1] - zzdeltas[0]*nsee) ]\n",
    "    serie_target[selection.index].plot(ax=axr[0], style='ok--')\n",
    "    serie_du[serie_du.index > (serie_du.index[-1] - zzdeltas[0]*nsee)].plot(ax=axr[1], style='k--')\n",
    "    # prediction        \n",
    "    # original position of the predictor sample\n",
    "    serie_prediction_orig = pd.Series(np.ones(data2predict.index.size)*0.5, \n",
    "                                      index=serie_target.index[data2predict.index]) \n",
    "    serie_prediction_orig.plot(ax=axr[1], style='.g')\n",
    "    \n",
    "    # those are predictions need to have the corresponding shift in time\n",
    "    fst_predict_time = serie_target.index[data2predict.index[0]]+dt*shift\n",
    "    serie_prediction = pd.Series(clfmodel.predict(data2predict), \n",
    "                                 index=pd.date_range(fst_predict_time, \n",
    "                                                     periods=data2predict.index.size, freq=dt))\n",
    "    serie_prediction.plot(ax=axr[1], style='.g-')\n",
    "    #print(serie_prediction.values)\n",
    "    #ax.axvline(pd.to_datetime('2015-11-01'), color='r', linestyle='--', lw=2)\n",
    "    #ax.axvline(pd.to_datetime('2015-11-01'), color='r', linestyle='--', lw=2)"
   ]
  },
  {
   "cell_type": "code",
   "execution_count": null,
   "metadata": {
    "collapsed": false
   },
   "outputs": [],
   "source": [
    "see_prediction(serie_target, zzdeltas[0], serie_pivots, series_data_du,\n",
    "               clfmodel, df2predict, shift, dt)\n",
    "#print(last_time_training)\n",
    "print(last_time_real)"
   ]
  },
  {
   "cell_type": "code",
   "execution_count": null,
   "metadata": {
    "collapsed": true
   },
   "outputs": [],
   "source": [
    "deltas = pd.Series([serie_pivots.index[i+1]-serie_pivots.index[i] for i in range(serie_pivots.index.size-1)])"
   ]
  },
  {
   "cell_type": "code",
   "execution_count": null,
   "metadata": {
    "collapsed": false
   },
   "outputs": [],
   "source": [
    "deltas = deltas.apply(lambda x : x.total_seconds()/60.)"
   ]
  },
  {
   "cell_type": "code",
   "execution_count": null,
   "metadata": {
    "collapsed": false
   },
   "outputs": [],
   "source": [
    "deltas.hist(bins=80)"
   ]
  },
  {
   "cell_type": "code",
   "execution_count": null,
   "metadata": {
    "collapsed": false
   },
   "outputs": [],
   "source": [
    "t = plt.hist(np.log(deltas), bins=40);"
   ]
  },
  {
   "cell_type": "code",
   "execution_count": null,
   "metadata": {
    "collapsed": true
   },
   "outputs": [],
   "source": []
  }
 ],
 "metadata": {
  "kernelspec": {
   "display_name": "Python 3",
   "language": "python",
   "name": "python3"
  },
  "language_info": {
   "codemirror_mode": {
    "name": "ipython",
    "version": 3
   },
   "file_extension": ".py",
   "mimetype": "text/x-python",
   "name": "python",
   "nbconvert_exporter": "python",
   "pygments_lexer": "ipython3",
   "version": "3.5.1"
  }
 },
 "nbformat": 4,
 "nbformat_minor": 0
}
