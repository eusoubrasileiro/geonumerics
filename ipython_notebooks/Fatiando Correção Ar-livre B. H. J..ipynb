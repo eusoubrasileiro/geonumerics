{
 "metadata": {
  "name": "",
  "signature": "sha256:b0feeaf20b76f1cdfa080b208759e30cef92ce10f9fbd6fd233584e528dd22c0"
 },
 "nbformat": 3,
 "nbformat_minor": 0,
 "worksheets": [
  {
   "cells": [
    {
     "cell_type": "code",
     "collapsed": false,
     "input": [
      "%pylab inline\n",
      "import numpy"
     ],
     "language": "python",
     "metadata": {},
     "outputs": []
    },
    {
     "cell_type": "markdown",
     "metadata": {},
     "source": [
      "###Load csv data###\n",
      "\n",
      "From bahia norte marine acquisiton just csv file \n",
      "\n",
      "~/Documents/grav_mag\n",
      "\n",
      "or\n",
      "\n",
      "/media/sf_VBShared/GRAVIMETRIA_MAGNETOMETRIA/"
     ]
    },
    {
     "cell_type": "code",
     "collapsed": false,
     "input": [
      "import pandas\n",
      "%cd ~/Documents/grav_mag\n",
      "data = pandas.read_csv('J_csv_potenciais.csv')\n",
      "%cd Fatiando"
     ],
     "language": "python",
     "metadata": {},
     "outputs": []
    },
    {
     "cell_type": "code",
     "collapsed": false,
     "input": [
      "data.columns"
     ],
     "language": "python",
     "metadata": {},
     "outputs": []
    },
    {
     "cell_type": "markdown",
     "metadata": {},
     "source": [
      "####Number of seismic lines / surveys of grav/mag####\n",
      "\n",
      "####Get the number of seismic lines in this data set####\n",
      "\n",
      "**And its line name numbers**"
     ]
    },
    {
     "cell_type": "code",
     "collapsed": false,
     "input": [
      "data['lin'].unique()\n",
      "print data['lin'].nunique()"
     ],
     "language": "python",
     "metadata": {},
     "outputs": []
    },
    {
     "cell_type": "markdown",
     "metadata": {},
     "source": [
      "Just reviewing the field names by Ribamar\n",
      "\n",
      "* eq : equisition team\n",
      "* line : line number\n",
      "* pt : shot point\n",
      "* cotabati : seabottom depth\n",
      "* magbruto : mag readings instrument\n",
      "* magigrf : igrf correctiong for mag\n",
      "* maganomn : mag anomally \n",
      "* grvbruta : raw gravity readings instrument\n",
      "* grvobser : raw gravity value\n",
      "* creotvos : etvos correction\n",
      "* crlatitu : normal gravity model correction\n",
      "* Anom. Ar-livre : free air anomally\n",
      "* crboug2d : corre\u00e7\u00e3o Bouguer por modelagem 2D\n",
      "* grvbougc : gravidade Bouguer calculada\n",
      "* grvbouga : gravidade Bouguer nivelada\n",
      "* longsad69 : longitude in SAD60 datum\n",
      "* latsad69 : latitude in SAD60 datum"
     ]
    },
    {
     "cell_type": "code",
     "collapsed": false,
     "input": [
      "print data[data['lin'] == 202.][:5]"
     ],
     "language": "python",
     "metadata": {},
     "outputs": []
    },
    {
     "cell_type": "markdown",
     "metadata": {},
     "source": [
      "#### Overview of data, removing gross outliers ####\n",
      "\n",
      "*Remove the entire line to avoid use of any of those informations alone*\n",
      "\n",
      "#### After summing eotvos correction ####\n",
      "Correct the gravity summing its eotvos correction\n",
      "\n",
      "* latitude correction is useless"
     ]
    },
    {
     "cell_type": "code",
     "collapsed": false,
     "input": [
      "pylab.figure(figsize=(15,2))\n",
      "#plot(data['grvbruta'], 'k') # i cant use it\n",
      "plot(data['grvobser'], 'b,') # raw observed gravity\n",
      "ylabel('measured gravity (mGal)')\n",
      "# removing 974000 less values (fast clean)\n",
      "pylab.figure(figsize=(15,2))\n",
      "# remove all avoid problems with those coordinates\n",
      "data[ np.abs(data['grvobser']) < 974000] = numpy.nan\n",
      "plot(data['grvobser'], 'b,') # raw observed gravity\n",
      "ylabel('measured gravity clean (mGal)')\n",
      "pylab.figure(figsize=(15,2))\n",
      "plot(data['creotvos'], 'g,') # etvos correction\n",
      "ylabel('eotvos correction (mGal)')\n",
      "#plot(data['crlatitu'], 'r') useless\n",
      "#plot(data['Anom. Ar-livre'],'y')\n",
      "#plot(data['grvbougc'], 'b')\n",
      "#plot(data['grvbouga'], 'g')\n",
      "pylab.figure(figsize=(15,2))\n",
      "plot(data['latsad69'],'k,')\n",
      "ylabel('latitude (degrees)')\n",
      "pylab.figure(figsize=(15,2))\n",
      "plot(data['longsad69'], 'k,')\n",
      "ylabel('longitude (degrees)')\n",
      "# create eotvos corrected gravity \n",
      "data['eotvos gravity'] = data['grvobser'] + data['creotvos']\n",
      "pylab.figure(figsize=(15,2))\n",
      "plot(data['eotvos gravity'], 'b,')\n",
      "ylabel('eotvos gravity (mGal)')"
     ],
     "language": "python",
     "metadata": {},
     "outputs": []
    },
    {
     "cell_type": "markdown",
     "metadata": {},
     "source": [
      "### make the normal earth correction ###\n",
      "\n",
      "Since this data is all marine it's equivalent to **Free-air anomaly**\n",
      "\n",
      "Compare with the free-air from the original data. It's identical means we might be okay.\n",
      "\n",
      "*Have to make coordinate transformation of my data SAD69.\n",
      "It's SAD 69 while normal gravity in fatiando uses WGS84*"
     ]
    },
    {
     "cell_type": "code",
     "collapsed": false,
     "input": [
      "%cd Fatiando\n",
      "from fatiando.gravmag import normal_gravity\n",
      "# We'll do this using the closed form of the normal gravity for the WGS84, at sea-leavel\n",
      "# create normal earth correction gravity \n",
      "data['gamma'] = normal_gravity.gamma_closed_form(data['latsad69'].values, numpy.zeros(len(data)))\n",
      "pylab.figure(figsize=(15,2))\n",
      "plot(data['gamma'])\n",
      "ylabel('normal gravity correction (mGal)')\n",
      "# correct data\n",
      "data['freeair gravity'] = data['eotvos gravity'] - data['gamma'] \n",
      "pylab.figure(figsize=(15,2))\n",
      "plot(data['freeair gravity'],'b')\n",
      "plot(data['Anom. Ar-livre'], 'r')\n",
      "ylabel('gravity gamma corrected (mGal)')"
     ],
     "language": "python",
     "metadata": {},
     "outputs": []
    },
    {
     "cell_type": "markdown",
     "metadata": {},
     "source": [
      "**Make analysis by lines**\n",
      "\n",
      "lines bellow\n"
     ]
    },
    {
     "cell_type": "code",
     "collapsed": false,
     "input": [
      "data['lin'].unique()"
     ],
     "language": "python",
     "metadata": {},
     "outputs": []
    },
    {
     "cell_type": "markdown",
     "metadata": {},
     "source": [
      "don't run it due many pictures. To avoid saving it on the notebook too many."
     ]
    },
    {
     "cell_type": "code",
     "collapsed": false,
     "input": [
      "#for line in data['lin'].unique():    \n",
      "#    figure(figsize(15,1))\n",
      "#    df = data.ix[data['lin'] == line, 'freeair gravity']\n",
      "#    plot(df.index, df.values,'.b')\n",
      "#    ylabel(str(line))"
     ],
     "language": "python",
     "metadata": {},
     "outputs": []
    },
    {
     "cell_type": "markdown",
     "metadata": {},
     "source": [
      "Gross spike/staircase problems with lines:\n",
      "* 192[1400:1450]\n",
      "* 181[3825:3875]\n",
      "* 149[9820:9860] \n",
      "* 143[10640:10680] #stair\n",
      "\n",
      "Remove 'em"
     ]
    },
    {
     "cell_type": "code",
     "collapsed": false,
     "input": [
      "data.ix[1400:1450, 'freeair gravity'] = numpy.nan \n",
      "data.ix[3825:3875, 'freeair gravity'] = numpy.nan \n",
      "data.ix[9820:9860, 'freeair gravity'] = numpy.nan \n",
      "data.ix[10640:10680, 'freeair gravity'] = numpy.nan \n",
      "# due equivalent layer\n",
      "data.ix[1400:1450, 'eotvos gravity'] = numpy.nan \n",
      "data.ix[3825:3875, 'eotvos gravity'] = numpy.nan \n",
      "data.ix[9820:9860, 'eotvos gravity'] = numpy.nan \n",
      "data.ix[10640:10680, 'eotvos gravity'] = numpy.nan "
     ],
     "language": "python",
     "metadata": {},
     "outputs": []
    },
    {
     "cell_type": "markdown",
     "metadata": {},
     "source": [
      "And lets use also a moving average size 50\n",
      "\n",
      "I am not using due the fact ???"
     ]
    },
    {
     "cell_type": "code",
     "collapsed": false,
     "input": [
      "for line in data['lin'].unique():    \n",
      "    #figure(figsize(15,1))       \n",
      "    mvags = data.ix[data['lin'] == line, 'freeair gravity']    \n",
      "    mvags = pandas.rolling_mean(mvags, 50)\n",
      "    data.ix[data['lin'] == line, 'freeair gravity smooth'] = mvags\n",
      "    #df = data.ix[data['lin'] == line, 'freeair gravity']\n",
      "    #plot(df.index, df.values,'.b')\n",
      "    #ylabel(str(line))"
     ],
     "language": "python",
     "metadata": {},
     "outputs": []
    },
    {
     "cell_type": "markdown",
     "metadata": {},
     "source": [
      "**Before making maps remove the cells with nan values**\n",
      "\n",
      "Removed before due outliers\n",
      "\n",
      "isnull only on `freeair gravity`"
     ]
    },
    {
     "cell_type": "code",
     "collapsed": false,
     "input": [
      "df = data[ ~data['freeair gravity'].isnull()]"
     ],
     "language": "python",
     "metadata": {},
     "outputs": []
    },
    {
     "cell_type": "markdown",
     "metadata": {},
     "source": [
      "**Project data to SAD69 UTM24S**"
     ]
    },
    {
     "cell_type": "code",
     "collapsed": false,
     "input": [
      "from pyproj import Proj\n",
      "\n",
      "myProj = Proj(init='EPSG:29194') # SAD69 UTM 24S\n",
      "utmx, utmy = myProj(df['longsad69'].values, df['latsad69'].values)\n",
      "area = (np.min(utmx), np.max(utmx), np.min(utmy), np.max(utmy))\n",
      "\n",
      "print area\n",
      "print 'x size (km)', (area[1]-area[0])*0.001, 'y size (km)', (area[3]-area[2])*0.001"
     ],
     "language": "python",
     "metadata": {},
     "outputs": []
    },
    {
     "cell_type": "markdown",
     "metadata": {},
     "source": [
      "**Rotation just to garantee 40 anti-clockwise**"
     ]
    },
    {
     "cell_type": "code",
     "collapsed": false,
     "input": [
      "utmxw = utmx*cos(numpy.pi*((40.+90)/180.)) -  utmy*sin(numpy.pi*((40.+90)/180.))\n",
      "utmyw = utmx*sin(numpy.pi*((40.+90)/180.)) + utmy*cos(numpy.pi*((40.+90)/180.))\n",
      "utmx = utmxw\n",
      "utmy = utmyw\n",
      "area = (np.min(utmx), np.max(utmx), np.min(utmy), np.max(utmy))"
     ],
     "language": "python",
     "metadata": {},
     "outputs": []
    },
    {
     "cell_type": "markdown",
     "metadata": {},
     "source": [
      "**Second clip just a small subset, testing PEL**"
     ]
    },
    {
     "cell_type": "code",
     "collapsed": false,
     "input": [
      "df['utmx'] = utmx\n",
      "df['utmy'] = utmy\n",
      "df = df[ df['utmx'] > -7000000 ]\n",
      "utmx = df['utmx'].values\n",
      "utmy = df['utmy'].values\n",
      "area = (np.min(utmx), np.max(utmx), np.min(utmy), np.max(utmy))"
     ],
     "language": "python",
     "metadata": {},
     "outputs": []
    },
    {
     "cell_type": "code",
     "collapsed": false,
     "input": [
      "figure(figsize=(12, 10))\n",
      "\n",
      "colors = (df['freeair gravity'].values)\n",
      "pylab.scatter(utmx, utmy, c=colors, marker='<', edgecolor='none', cmap=mpl.cm.RdBu_r, vmin=-40, vmax=40)\n",
      "colorbar()\n",
      "ylabel('gravity (mGal)')"
     ],
     "language": "python",
     "metadata": {},
     "outputs": []
    },
    {
     "cell_type": "code",
     "collapsed": false,
     "input": [
      "def cmap_discretize(cmap, N):\n",
      "    \"\"\"Return a discrete colormap from the continuous colormap cmap.\n",
      "    \n",
      "        cmap: colormap instance, eg. cm.jet. \n",
      "        N: number of colors.\n",
      "    \n",
      "    Example\n",
      "        x = resize(arange(100), (5,100))\n",
      "        djet = cmap_discretize(cm.jet, 5)\n",
      "        imshow(x, cmap=djet)\n",
      "    \"\"\"\n",
      "\n",
      "    if type(cmap) == str:\n",
      "        cmap = get_cmap(cmap)\n",
      "    colors_i = concatenate((linspace(0, 1., N), (0.,0.,0.,0.)))\n",
      "    colors_rgba = cmap(colors_i)\n",
      "    indices = linspace(0, 1., N+1)\n",
      "    cdict = {}\n",
      "    for ki,key in enumerate(('red','green','blue')):\n",
      "        cdict[key] = [ (indices[i], colors_rgba[i-1,ki], colors_rgba[i,ki]) for i in xrange(N+1) ]\n",
      "    # Return colormap object.\n",
      "    return matplotlib.colors.LinearSegmentedColormap(cmap.name + \"_%d\"%N, cdict, 1024)"
     ],
     "language": "python",
     "metadata": {},
     "outputs": []
    },
    {
     "cell_type": "code",
     "collapsed": false,
     "input": [
      "import scipy\n",
      "from scipy.interpolate import Rbf\n",
      "import matplotlib\n",
      "from mpl_toolkits.axes_grid1 import make_axes_locatable\n",
      "\n",
      "x = np.linspace(area[0], area[1], 150) # lon, lon\n",
      "y = np.linspace(area[2], area[3], 150) # lat, lat\n",
      "xv, yv = meshgrid(x, y)\n",
      "\n",
      "gridded = scipy.interpolate.griddata((utmx, utmy), df['freeair gravity'].values, (xv, yv), method='linear')\n",
      "#rbfi = Rbf(lon, lat, df['freeair gravity'].values, function='linear')  # radial basis function interpolator instance\n",
      "#gridded = rbfi(x, y)   # interpolated values\n",
      "\n",
      "zz = ma.masked_where(isnan(gridded), gridded)\n",
      "xv = ma.masked_where(isnan(gridded), xv)\n",
      "yv = ma.masked_where(isnan(gridded), yv)\n",
      "\n",
      "fig = figure(figsize=(10, 10))\n",
      "ax1 = fig.add_subplot(111)\n",
      "\n",
      "cNorm = matplotlib.colors.Normalize(vmin=131, vmax=202)\n",
      "\n",
      "im1 = ax1.pcolormesh(xv, yv, zz, cmap=mpl.cm.RdBu_r, vmin=-45, vmax=45) # shading='gouraud' mpl.cm.jet_r\n",
      "\n",
      "ylim = im1.axes.get_ylim()\n",
      "xlim = im1.axes.get_xlim()\n",
      "\n",
      "divider = make_axes_locatable(ax1)\n",
      "cax1 = divider.append_axes(\"bottom\", \"5%\", pad=\"5%\")\n",
      "cb1 = colorbar(im1, orientation='horizontal', cax=cax1)\n",
      "cb1.set_label('free-air gravity (mGal)')\n",
      "\n",
      "im2 = ax1.scatter(utmx, utmy, s=2, c=df['lin'], norm=cNorm, edgecolors='none', cmap=cmap_discretize(mpl.cm.jet, 32))\n",
      "\n",
      "cax2 = divider.append_axes(\"bottom\", \"5%\", pad=\"6%\")\n",
      "cb2 = colorbar(im2, orientation='horizontal', cax=cax2)\n",
      "cb2.set_label('seismic line number')\n",
      "\n",
      "im2.axes.set_ylim(ylim)\n",
      "im2.axes.set_xlim(xlim)\n",
      "\n",
      "tight_layout()"
     ],
     "language": "python",
     "metadata": {},
     "outputs": []
    },
    {
     "cell_type": "markdown",
     "metadata": {},
     "source": [
      "###Setting up the eq. layer###"
     ]
    },
    {
     "cell_type": "code",
     "collapsed": false,
     "input": [
      "# from PRACTICAL PROCEDURES!\n",
      "Lx = (area[1]-area[0])*0.001\n",
      "Ly = (area[3]-area[2])*0.001\n",
      "print 'x size (km)', Lx, 'y size (km)', Ly\n",
      "# Ls is the parameter that controls everything in here (coarse or fine smooth interpolation)\n",
      "Ls = 20. # my interpretation in km smaller wavelenght (square size of a window)\n",
      "Qx = numpy.ceil(Lx/Ls)\n",
      "Qy = numpy.ceil(Ly/Ls)\n",
      "N = size(df['freeair gravity']) # gravity observations\n",
      "print 'n eq. sources windows (Qx, Qy)', (Qx, Qy)\n",
      "print 'n eq. sources windows total ', Qx*Qy\n",
      "m = numpy.ceil(sqrt(N/(Qx*Qy)))\n",
      "print 'n eq. sources each layer ', m**2\n",
      "print 'number of observations ', N, ' total eq. source ',  Qx*Qy*m**2\n",
      "print 'Eq. Layer point grid dimensions are (nx, ny) ', (Qx*m , Qy*m)\n",
      "# I've an average error of 5 mGals and so what?\n",
      "eqshape = (int(Qy*m), int(Qx*m)) # eq. layer dimensions\n",
      "eqwindows = (int(Qy), int(Qx)) # number of windows "
     ],
     "language": "python",
     "metadata": {},
     "outputs": []
    },
    {
     "cell_type": "markdown",
     "metadata": {},
     "source": [
      "###Use fatiando equivalent layer (of sources) to interpolate the data###"
     ]
    },
    {
     "cell_type": "code",
     "collapsed": false,
     "input": [
      "from fatiando.gravmag.eqlayer import PELGravity, PELSmoothness\n",
      "from fatiando import gridder, utils, mesher\n",
      "\n",
      "shape=eqshape # (ny, nx) \n",
      "# invert fatiando convention (contrary to utm) (y0 y1 x0 x1)\n",
      "area = [area[2], area[3], area[0], area[1]]\n",
      "# Setup the layer (a grid of unit sphere points with density that will be estimated)\n",
      "layer = mesher.PointGrid(area, 150.0, shape) # eq. layer at z=150 in depth (positive downward)\n",
      "# Estimate the density using the PEL (it is faster and more memory efficient\n",
      "# than the traditional equivalent layer).\n",
      "windows=eqwindows # 3*3 = 9 sources per window layer\n",
      "degree=3\n",
      "eqlayer_freeair = PELGravity(utmy, utmx, numpy.zeros(len(utmx)), df['freeair gravity'].values, layer, windows, degree)\n",
      "solver = (eqlayer_freeair + 10**-25*PELSmoothness(layer, windows, degree) ).fit()  \n",
      "layer.addprop('density', solver.estimate_)\n",
      "\n",
      "residuals = solver.residuals()\n",
      "print \"Residuals:\"\n",
      "print \"mean:\", residuals.mean()\n",
      "print \"stddev:\", residuals.std()\n",
      "\n",
      "figure(figsize=(12, 10))\n",
      "colors = solver.predicted()\n",
      "scatter(utmx, utmy, c=colors, marker='<', edgecolor='none', cmap=mpl.cm.RdBu_r, vmin=-50, vmax=50)\n",
      "colorbar()\n",
      "ylabel('gravity (mGal)')\n",
      "\n",
      "import pandas\n",
      "freeair = pandas.DataFrame(solver.residuals())\n",
      "figure(figsize(5,5))\n",
      "freeair.hist(bins=790, figsize=(10,5), grid=True)   \n",
      "pylab.xlim([-150, 150])"
     ],
     "language": "python",
     "metadata": {},
     "outputs": []
    },
    {
     "cell_type": "code",
     "collapsed": false,
     "input": [
      "import pandas\n",
      "freeair = pandas.DataFrame(solver.predicted())\n",
      "freeair.hist(bins=900, figsize=(10,5), grid=True)   \n",
      "pylab.xlim([-100, 100])"
     ],
     "language": "python",
     "metadata": {},
     "outputs": []
    },
    {
     "cell_type": "code",
     "collapsed": false,
     "input": [
      "df['pel'] = solver.predicted()\n",
      "ux = df[ df['lin'] == 178]['utmx'].values\n",
      "uy = df[ df['lin'] == 178]['utmx'].values\n",
      "d = ((ux[1:]-ux[:-1])**2+(uy[1:]-uy[:-1])**2)**0.5 # distance between observations\n",
      "print 'average distance meters', numpy.mean(d)\n",
      "d = numpy.append([0], d)\n",
      "pylab.figure(figsize=(15,4))\n",
      "plot(d.cumsum()*0.001, df[ df['lin'] == 178 ]['freeair gravity'].values, '-k+')\n",
      "xlabel('distance (km)')\n",
      "ylabel('free air gravity (mGal')\n",
      "plot(d.cumsum()*0.001, df[ df['lin'] == 178 ]['pel'].values, '-b,')"
     ],
     "language": "python",
     "metadata": {},
     "outputs": []
    },
    {
     "cell_type": "code",
     "collapsed": false,
     "input": [
      "imshow(layer.props)"
     ],
     "language": "python",
     "metadata": {},
     "outputs": []
    },
    {
     "cell_type": "code",
     "collapsed": false,
     "input": [
      "import pandas\n",
      "freeair = pandas.DataFrame(df['freeair gravity'].values)\n",
      "freeair.hist(bins=50, figsize=(10,5), grid=True)   \n",
      "pylab.xlim([-100, 100])"
     ],
     "language": "python",
     "metadata": {},
     "outputs": []
    },
    {
     "cell_type": "code",
     "collapsed": false,
     "input": [
      "mesher.PointGrid?"
     ],
     "language": "python",
     "metadata": {},
     "outputs": []
    },
    {
     "cell_type": "code",
     "collapsed": false,
     "input": [
      "PELSmoothness?"
     ],
     "language": "python",
     "metadata": {},
     "outputs": []
    },
    {
     "cell_type": "code",
     "collapsed": false,
     "input": [
      "PELGravity?"
     ],
     "language": "python",
     "metadata": {},
     "outputs": []
    },
    {
     "cell_type": "code",
     "collapsed": false,
     "input": [
      "props = {'density':1000}\n",
      "model = [mesher.Prism(-500, 500, -1000, 1000, 500, 4000, props)]"
     ],
     "language": "python",
     "metadata": {},
     "outputs": []
    },
    {
     "cell_type": "code",
     "collapsed": false,
     "input": [
      "mesher.Prism?"
     ],
     "language": "python",
     "metadata": {},
     "outputs": []
    },
    {
     "cell_type": "code",
     "collapsed": false,
     "input": [
      "k = df['freeair gravity'].values"
     ],
     "language": "python",
     "metadata": {},
     "outputs": []
    },
    {
     "cell_type": "code",
     "collapsed": false,
     "input": [
      "len(df['freeair gravity'].values)"
     ],
     "language": "python",
     "metadata": {},
     "outputs": []
    },
    {
     "cell_type": "code",
     "collapsed": false,
     "input": [
      "solver.data?"
     ],
     "language": "python",
     "metadata": {},
     "outputs": []
    },
    {
     "cell_type": "code",
     "collapsed": false,
     "input": [
      "pylab.plot(df['freeair gravity'])"
     ],
     "language": "python",
     "metadata": {},
     "outputs": []
    },
    {
     "cell_type": "code",
     "collapsed": false,
     "input": [
      "df['lin'].unique()"
     ],
     "language": "python",
     "metadata": {},
     "outputs": []
    },
    {
     "cell_type": "code",
     "collapsed": false,
     "input": [
      "layer[0,0]"
     ],
     "language": "python",
     "metadata": {},
     "outputs": []
    },
    {
     "cell_type": "code",
     "collapsed": false,
     "input": [],
     "language": "python",
     "metadata": {},
     "outputs": []
    }
   ],
   "metadata": {}
  }
 ]
}