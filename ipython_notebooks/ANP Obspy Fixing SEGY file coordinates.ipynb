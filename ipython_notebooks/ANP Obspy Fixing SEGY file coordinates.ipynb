{
 "cells": [
  {
   "cell_type": "markdown",
   "metadata": {},
   "source": [
    "**The example bellow uses Obspy to fix bad trace header information in SEGY file**\n",
    "\n",
    "The segyfile bellow had equal values of cmpx and cmpy for subsequente traces. \n",
    "The coordinates just changed at every 2 traces. \n",
    "\n",
    "**OBSPY** was used to get just the not repeated values and than was used a linear function to interpolate new values in between creating a new SEGY file capable of being loaded in ordinary G&G sofware."
   ]
  },
  {
   "cell_type": "code",
   "execution_count": 7,
   "metadata": {
    "collapsed": false
   },
   "outputs": [
    {
     "name": "stdout",
     "output_type": "stream",
     "text": [
      "(bookmark:data) -> /hd0/data\n",
      "/hd0/data\n"
     ]
    }
   ],
   "source": [
    "%cd data\n",
    "stream = utils.obspy.read('R0003_BAHIA_SUL.0231-1496.MIG_FIN.93.sgy', format=\"SEGY\")"
   ]
  },
  {
   "cell_type": "code",
   "execution_count": 3,
   "metadata": {
    "collapsed": false
   },
   "outputs": [
    {
     "name": "stdout",
     "output_type": "stream",
     "text": [
      "/media/andre/KINGDRE/Bahia_Sul\n"
     ]
    }
   ],
   "source": [
    "%cd /media/andre/KINGDRE/Bahia_Sul\n",
    "from obspy.segy.core import readSEGY\n",
    "section = readSEGY('R0003_BAHIA_SUL.0232-0157.MIG_FIN.35.sgy', unpack_trace_headers=True)"
   ]
  },
  {
   "cell_type": "code",
   "execution_count": 4,
   "metadata": {
    "collapsed": false
   },
   "outputs": [
    {
     "data": {
      "text/plain": [
       "['binary_gain_recovered',\n",
       " 'line_number',\n",
       " 'number_of_auxiliary_traces_per_ensemble',\n",
       " 'sample_interval_in_microseconds_of_original_field_recording',\n",
       " 'vibratory_polarity_code',\n",
       " 'taper_type',\n",
       " 'number_of_samples_per_data_trace',\n",
       " 'ensemble_fold',\n",
       " 'reel_number',\n",
       " 'trace_sorting_code',\n",
       " 'sweep_frequency_at_start',\n",
       " 'sample_interval_in_microseconds',\n",
       " 'sweep_frequency_at_end',\n",
       " 'measurement_system',\n",
       " 'seg_y_format_revision_number',\n",
       " 'number_of_data_traces_per_ensemble',\n",
       " 'unassigned_1',\n",
       " 'unassigned_2',\n",
       " 'data_sample_format_code',\n",
       " 'sweep_type_code',\n",
       " 'impulse_signal_polarity',\n",
       " 'sweep_trace_taper_length_in_ms_at_start',\n",
       " 'trace_number_of_sweep_channel',\n",
       " 'number_of_samples_per_data_trace_for_original_field_recording',\n",
       " 'job_identification_number',\n",
       " 'vertical_sum_code',\n",
       " 'amplitude_recovery_method',\n",
       " 'correlated_data_traces',\n",
       " 'sweep_trace_taper_length_in_ms_at_end',\n",
       " 'number_of_3200_byte_ext_file_header_records_following',\n",
       " 'fixed_length_trace_flag',\n",
       " 'endian',\n",
       " 'sweep_length']"
      ]
     },
     "execution_count": 4,
     "metadata": {},
     "output_type": "execute_result"
    }
   ],
   "source": [
    "import obspy.segy.header as segyheaders\n",
    "segyheaders.TRACE_HEADER_FORMAT # trace header keys per byte definition, index zero based (%!definition table!%)\n",
    "section.stats.textual_file_header  # from the segy loaded\n",
    "section.stats.binary_file_header.keys() # from the segy loaded"
   ]
  },
  {
   "cell_type": "code",
   "execution_count": 5,
   "metadata": {
    "collapsed": false
   },
   "outputs": [
    {
     "name": "stdout",
     "output_type": "stream",
     "text": [
      "2057 Trace(s) in Stream:\n",
      "\n",
      "Seq. No. in line:    1 | 1970-01-01T00:00:00.000000Z - 1970-01-01T00:00:11.996000Z | 250.0 Hz, 3000 samples\n",
      "...\n",
      "(2055 other traces)\n",
      "...\n",
      "Seq. No. in line: 2057 | 1970-01-01T00:00:00.000000Z - 1970-01-01T00:00:11.996000Z | 250.0 Hz, 3000 samples\n",
      "\n",
      "[Use \"print(Stream.__str__(extended=True))\" to print all Traces]\n"
     ]
    }
   ],
   "source": [
    "print section"
   ]
  },
  {
   "cell_type": "code",
   "execution_count": 16,
   "metadata": {
    "collapsed": false
   },
   "outputs": [
    {
     "name": "stdout",
     "output_type": "stream",
     "text": [
      "1029 1029 1029 2057 2057\n"
     ]
    },
    {
     "name": "stderr",
     "output_type": "stream",
     "text": [
      "-c:27: DeprecationWarning: using a non-integer number instead of an integer will result in an error in the future\n"
     ]
    }
   ],
   "source": [
    "import numpy, pylab\n",
    "from matplotlib import pyplot\n",
    "from scipy.interpolate import InterpolatedUnivariateSpline\n",
    "from obspy.segy.core import readSEGY\n",
    "# getting just not repeated coordinate values\n",
    "ntr = len(section)\n",
    "sx = numpy.zeros(1)\n",
    "sy = numpy.zeros(1)\n",
    "trc = numpy.zeros(1) # trace index\n",
    "cdpx = numpy.zeros(ntr)\n",
    "cdpy = numpy.zeros(ntr)\n",
    "# 181, 185 cdpx, cdpy (first point allways in)\n",
    "cdpx[0] = section[0].stats.segy.trace_header.x_coordinate_of_ensemble_position_of_this_trace\n",
    "cdpy[0] = section[0].stats.segy.trace_header.y_coordinate_of_ensemble_position_of_this_trace\n",
    "sx[0] = cdpx[0] \n",
    "sy[0] = cdpy[0]\n",
    "trc[0] = 0\n",
    "for i in numpy.arange(1, ntr):\n",
    "    cdpx[i] = section[i].stats.segy.trace_header.x_coordinate_of_ensemble_position_of_this_trace\n",
    "    cdpy[i] = section[i].stats.segy.trace_header.y_coordinate_of_ensemble_position_of_this_trace\n",
    "    if (cdpx[i] != cdpx[i-1]) or (cdpy[i] != cdpy[i-1]) : # just in case (x, y) == (x, y) ignore\n",
    "        sx = numpy.append(sx, cdpx[i])    \n",
    "        sy = numpy.append(sy, cdpy[i])\n",
    "        trc = numpy.append(trc, i)\n",
    "pylab.rcParams['figure.figsize'] = 12, 6 \n",
    "print len(trc), len(sx), len(sy), len(cdpx), len(cdpy), \n",
    "pyplot.plot(trc[:30], sx[:30], '^w', numpy.arange(trc[30]), cdpx[:trc[30]], '+')\n",
    "pyplot.legend(['not duplicated', 'all'], loc='best')\n",
    "pyplot.show()"
   ]
  },
  {
   "cell_type": "code",
   "execution_count": 17,
   "metadata": {
    "collapsed": false
   },
   "outputs": [
    {
     "name": "stderr",
     "output_type": "stream",
     "text": [
      "-c:6: DeprecationWarning: using a non-integer number instead of an integer will result in an error in the future\n",
      "-c:6: DeprecationWarning: using a non-integer number instead of an integer will result in an error in the future\n",
      "-c:6: DeprecationWarning: using a non-integer number instead of an integer will result in an error in the future\n"
     ]
    }
   ],
   "source": [
    "from scipy.interpolate import InterpolatedUnivariateSpline\n",
    "x = trc # not duplicated indexes\n",
    "y = sx # not duplicated coordinates\n",
    "flinear = InterpolatedUnivariateSpline(x, y, bbox=[-3, ntr+2], k=1) # linear iterp function case where spline degree k=1\n",
    "xnew = numpy.arange(0, ntr, 1) # indexes of all traces \n",
    "pyplot.plot(trc[:30], sx[:30], '^w', numpy.arange(trc[30]), cdpx[:trc[30]], '+', xnew[:trc[30]], flinear(xnew[:trc[30]]), 'k.')\n",
    "pyplot.legend(['not duplicated', 'all', 'corrected'], loc='best')\n",
    "pyplot.show()"
   ]
  },
  {
   "cell_type": "code",
   "execution_count": 196,
   "metadata": {
    "collapsed": false
   },
   "outputs": [],
   "source": [
    "from scipy.interpolate import InterpolatedUnivariateSpline\n",
    "from obspy.segy.core import readSEGY\n",
    "section = readSEGY('R0003_BAHIA_SUL.0231-1496.MIG_FIN.93.sgy', unpack_trace_headers=True)\n",
    "# getting just not repeated coordinate values sx, sy\n",
    "ntr = len(section) # number of traces\n",
    "sx = numpy.zeros(1) \n",
    "sy = numpy.zeros(1)\n",
    "trc = numpy.zeros(1) # trace index of not duplicated traces\n",
    "cdpx = numpy.zeros(ntr) # original x coordinate\n",
    "cdpy = numpy.zeros(ntr) # original y coordinate\n",
    "# bytes (181, 185) (cdpx, cdpy) (first point allways in)\n",
    "cdpx[0] = section[0].stats.segy.trace_header.x_coordinate_of_ensemble_position_of_this_trace\n",
    "cdpy[0] = section[0].stats.segy.trace_header.y_coordinate_of_ensemble_position_of_this_trace\n",
    "sx[0] = cdpx[0] \n",
    "sy[0] = cdpy[0]\n",
    "trc[0] = 0\n",
    "for i in numpy.arange(1, ntr): # get just the not duplicated coordinates\n",
    "    cdpx[i] = section[i].stats.segy.trace_header.x_coordinate_of_ensemble_position_of_this_trace\n",
    "    cdpy[i] = section[i].stats.segy.trace_header.y_coordinate_of_ensemble_position_of_this_trace\n",
    "    if (cdpx[i] != cdpx[i-1]) or (cdpy[i] != cdpy[i-1]) : # just in case (x, y) == (x, y) ignore\n",
    "        sx = numpy.append(sx, cdpx[i])    \n",
    "        sy = numpy.append(sy, cdpy[i])\n",
    "        trc = numpy.append(trc, i)\n",
    "#trc (not duplicated indexes = x)\n",
    "#sx, sy not duplicated coordinates\n",
    "flinearsx = InterpolatedUnivariateSpline(trc, sx, bbox=[-3, ntr+2], k=1) # linear iterp function on xcoordinate ; x is trace index\n",
    "flinearsy = InterpolatedUnivariateSpline(trc, sy, bbox=[-3, ntr+2], k=1) # linear iterp function on ycoordinate ; x is trace index\n",
    "# (to enable linear extrapolation that interp1 doesn't do) spline=linear iterp function case where spline degree k=1\n",
    "# uses limits of extrapolation +3 traces before and after\n",
    "for trace_index in numpy.arange(0, ntr, 1): # interpolate for all trace indexes, changing the trace headers on bytes (73, 77)    \n",
    "    section[trace_index].stats.segy.trace_header.source_coordinate_x = int(flinearsx(trace_index))\n",
    "    section[trace_index].stats.segy.trace_header.source_coordinate_y = int(flinearsy(trace_index))      \n",
    "    \n",
    "section.write('R0003_BAHIA_SUL.0231-1496.MIG_FIN.93B.sgy', format='SEGY')"
   ]
  },
  {
   "cell_type": "code",
   "execution_count": 203,
   "metadata": {
    "collapsed": false
   },
   "outputs": [
    {
     "name": "stdout",
     "output_type": "stream",
     "text": [
      "3485 3485 3485 3485 3485\n"
     ]
    },
    {
     "name": "stderr",
     "output_type": "stream",
     "text": [
      "-c:24: DeprecationWarning: using a non-integer number instead of an integer will result in an error in the future\n"
     ]
    },
    {
     "data": {
      "text/plain": [
       "<matplotlib.legend.Legend at 0xa6a1ba8c>"
      ]
     },
     "execution_count": 203,
     "metadata": {},
     "output_type": "execute_result"
    },
    {
     "data": {
      "image/png": "[encoded data removed]",
      "text/plain": [
       "<matplotlib.figure.Figure at 0xa6a3d0cc>"
      ]
     },
     "metadata": {},
     "output_type": "display_data"
    }
   ],
   "source": [
    "# QC of the script\n",
    "ntr = len(section)\n",
    "sx = numpy.zeros(1)\n",
    "sy = numpy.zeros(1)\n",
    "trc = numpy.zeros(1) # trace index\n",
    "cdpx = numpy.zeros(ntr)\n",
    "cdpy = numpy.zeros(ntr)\n",
    "# 181, 185 cdpx, cdpy (first point allways in)\n",
    "cdpx[0] = section[0].stats.segy.trace_header.source_coordinate_x\n",
    "cdpy[0] = section[0].stats.segy.trace_header.source_coordinate_x\n",
    "sx[0] = cdpx[0] \n",
    "sy[0] = cdpy[0]\n",
    "trc[0] = 0\n",
    "for i in numpy.arange(1, ntr):\n",
    "    cdpx[i] = section[i].stats.segy.trace_header.source_coordinate_x\n",
    "    cdpy[i] = section[i].stats.segy.trace_header.source_coordinate_x\n",
    "    if (cdpx[i] != cdpx[i-1]) or (cdpy[i] != cdpy[i-1]) : # just in case (x, y) == (x, y) ignore\n",
    "        sx = numpy.append(sx, cdpx[i])    \n",
    "        sy = numpy.append(sy, cdpy[i])\n",
    "        trc = numpy.append(trc, i)\n",
    "pylab.rcParams['figure.figsize'] = 12, 6 \n",
    "print len(sx), len(cdpx), len(sy), len(cdpy), len(trc)\n",
    "pyplot.plot(trc[:30], sx[:30], '^w', numpy.arange(trc[30]), cdpx[:trc[30]], '+')\n",
    "pyplot.legend(['not duplicated', 'all'], loc='best')"
   ]
  },
  {
   "cell_type": "code",
   "execution_count": 157,
   "metadata": {
    "collapsed": false
   },
   "outputs": [
    {
     "data": {
      "text/plain": [
       "[[4, 'trace_sequence_number_within_line', False, 0],\n",
       " [4, 'trace_sequence_number_within_segy_file', False, 4],\n",
       " [4, 'original_field_record_number', False, 8],\n",
       " [4, 'trace_number_within_the_original_field_record', False, 12],\n",
       " [4, 'energy_source_point_number', False, 16],\n",
       " [4, 'ensemble_number', False, 20],\n",
       " [4, 'trace_number_within_the_ensemble', False, 24],\n",
       " [2, 'trace_identification_code', False, 28],\n",
       " [2, 'number_of_vertically_summed_traces_yielding_this_trace', False, 30],\n",
       " [2, 'number_of_horizontally_stacked_traces_yielding_this_trace', False, 32],\n",
       " [2, 'data_use', False, 34],\n",
       " [4,\n",
       "  'distance_from_center_of_the_source_point_to_the_center_of_the_receiver_group',\n",
       "  False,\n",
       "  36],\n",
       " [4, 'receiver_group_elevation', False, 40],\n",
       " [4, 'surface_elevation_at_source', False, 44],\n",
       " [4, 'source_depth_below_surface', False, 48],\n",
       " [4, 'datum_elevation_at_receiver_group', False, 52],\n",
       " [4, 'datum_elevation_at_source', False, 56],\n",
       " [4, 'water_depth_at_source', False, 60],\n",
       " [4, 'water_depth_at_group', False, 64],\n",
       " [2, 'scalar_to_be_applied_to_all_elevations_and_depths', False, 68],\n",
       " [2, 'scalar_to_be_applied_to_all_coordinates', False, 70],\n",
       " [4, 'source_coordinate_x', False, 72],\n",
       " [4, 'source_coordinate_y', False, 76],\n",
       " [4, 'group_coordinate_x', False, 80],\n",
       " [4, 'group_coordinate_y', False, 84],\n",
       " [2, 'coordinate_units', False, 88],\n",
       " [2, 'weathering_velocity', False, 90],\n",
       " [2, 'subweathering_velocity', False, 92],\n",
       " [2, 'uphole_time_at_source_in_ms', False, 94],\n",
       " [2, 'uphole_time_at_group_in_ms', False, 96],\n",
       " [2, 'source_static_correction_in_ms', False, 98],\n",
       " [2, 'group_static_correction_in_ms', False, 100],\n",
       " [2, 'total_static_applied_in_ms', False, 102],\n",
       " [2, 'lag_time_A', False, 104],\n",
       " [2, 'lag_time_B', False, 106],\n",
       " [2, 'delay_recording_time', False, 108],\n",
       " [2, 'mute_time_start_time_in_ms', False, 110],\n",
       " [2, 'mute_time_end_time_in_ms', False, 112],\n",
       " [2, 'number_of_samples_in_this_trace', 'H', 114],\n",
       " [2, 'sample_interval_in_ms_for_this_trace', 'H', 116],\n",
       " [2, 'gain_type_of_field_instruments', False, 118],\n",
       " [2, 'instrument_gain_constant', False, 120],\n",
       " [2, 'instrument_early_or_initial_gain', False, 122],\n",
       " [2, 'correlated', False, 124],\n",
       " [2, 'sweep_frequency_at_start', False, 126],\n",
       " [2, 'sweep_frequency_at_end', False, 128],\n",
       " [2, 'sweep_length_in_ms', False, 130],\n",
       " [2, 'sweep_type', False, 132],\n",
       " [2, 'sweep_trace_taper_length_at_start_in_ms', False, 134],\n",
       " [2, 'sweep_trace_taper_length_at_end_in_ms', False, 136],\n",
       " [2, 'taper_type', False, 138],\n",
       " [2, 'alias_filter_frequency', False, 140],\n",
       " [2, 'alias_filter_slope', False, 142],\n",
       " [2, 'notch_filter_frequency', False, 144],\n",
       " [2, 'notch_filter_slope', False, 146],\n",
       " [2, 'low_cut_frequency', False, 148],\n",
       " [2, 'high_cut_frequency', False, 150],\n",
       " [2, 'low_cut_slope', False, 152],\n",
       " [2, 'high_cut_slope', False, 154],\n",
       " [2, 'year_data_recorded', False, 156],\n",
       " [2, 'day_of_year', False, 158],\n",
       " [2, 'hour_of_day', False, 160],\n",
       " [2, 'minute_of_hour', False, 162],\n",
       " [2, 'second_of_minute', False, 164],\n",
       " [2, 'time_basis_code', False, 166],\n",
       " [2, 'trace_weighting_factor', False, 168],\n",
       " [2, 'geophone_group_number_of_roll_switch_position_one', False, 170],\n",
       " [2, 'geophone_group_number_of_trace_number_one', False, 172],\n",
       " [2, 'geophone_group_number_of_last_trace', False, 174],\n",
       " [2, 'gap_size', False, 176],\n",
       " [2, 'over_travel_associated_with_taper', False, 178],\n",
       " [4, 'x_coordinate_of_ensemble_position_of_this_trace', False, 180],\n",
       " [4, 'y_coordinate_of_ensemble_position_of_this_trace', False, 184],\n",
       " [4, 'for_3d_poststack_data_this_field_is_for_in_line_number', False, 188],\n",
       " [4, 'for_3d_poststack_data_this_field_is_for_cross_line_number', False, 192],\n",
       " [4, 'shotpoint_number', False, 196],\n",
       " [2, 'scalar_to_be_applied_to_the_shotpoint_number', False, 200],\n",
       " [2, 'trace_value_measurement_unit', False, 202],\n",
       " [4, 'transduction_constant_mantissa', False, 204],\n",
       " [2, 'transduction_constant_exponent', False, 208],\n",
       " [2, 'transduction_units', False, 210],\n",
       " [2, 'device_trace_identifier', False, 212],\n",
       " [2, 'scalar_to_be_applied_to_times', False, 214],\n",
       " [2, 'source_type_orientation', False, 216],\n",
       " [4, 'source_energy_direction_mantissa', False, 218],\n",
       " [2, 'source_energy_direction_exponent', False, 222],\n",
       " [4, 'source_measurement_mantissa', False, 224],\n",
       " [2, 'source_measurement_exponent', False, 228],\n",
       " [2, 'source_measurement_unit', False, 230],\n",
       " [8, 'unassigned', False, 232]]"
      ]
     },
     "execution_count": 157,
     "metadata": {},
     "output_type": "execute_result"
    }
   ],
   "source": [
    "segyheaders.TRACE_HEADER_FORMAT "
   ]
  },
  {
   "cell_type": "code",
   "execution_count": null,
   "metadata": {
    "collapsed": false
   },
   "outputs": [],
   "source": []
  }
 ],
 "metadata": {
  "kernelspec": {
   "display_name": "Python 2",
   "language": "python",
   "name": "python2"
  },
  "language_info": {
   "codemirror_mode": {
    "name": "ipython",
    "version": 2
   },
   "file_extension": ".py",
   "mimetype": "text/x-python",
   "name": "python",
   "nbconvert_exporter": "python",
   "pygments_lexer": "ipython2",
   "version": "2.7.6"
  }
 },
 "nbformat": 4,
 "nbformat_minor": 0
}
