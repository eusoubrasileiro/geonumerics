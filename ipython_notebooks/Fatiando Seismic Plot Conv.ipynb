{
 "cells": [
  {
   "cell_type": "markdown",
   "metadata": {},
   "source": [
    "Obspy wasnt ported was used by a cookbook.\n",
    "\n",
    "The modules seismic_image and seismic_wiggle were used direct in matrix form.\n",
    "\n",
    "here comes the previous cookbook example too much of a convolution to just show plotting utilities "
   ]
  },
  {
   "cell_type": "code",
   "execution_count": 8,
   "metadata": {
    "collapsed": false
   },
   "outputs": [
    {
     "name": "stdout",
     "output_type": "stream",
     "text": [
      "Populating the interactive namespace from numpy and matplotlib\n"
     ]
    }
   ],
   "source": [
    "%pylab inline"
   ]
  },
  {
   "cell_type": "code",
   "execution_count": null,
   "metadata": {
    "collapsed": true
   },
   "outputs": [],
   "source": [
    "ls"
   ]
  },
  {
   "cell_type": "code",
   "execution_count": 16,
   "metadata": {
    "collapsed": false
   },
   "outputs": [],
   "source": [
    "\"\"\"\n",
    "Seismic: Synthetic pinchout tuning effect seismic display\n",
    "\n",
    "Convolve a reflection coeficients from a velocity model with a ricker wavelet\n",
    "showing the frequency tuning effect in a pinchout.\n",
    "Above the lambda/4 we expected to be able to distinguish\n",
    "pinchout top and base.\n",
    "\"\"\"\n",
    "\n",
    "import numpy as np\n",
    "import urllib\n",
    "from scipy import signal\n",
    "from fatiando import utils\n",
    "from fatiando.vis import mpl\n",
    "# Fetch the velocity model image from somewhere\n",
    "#urllib.urlretrieve(\n",
    "#'https://lh4.googleusercontent.com/-LYHZJXCzeac/' +\n",
    "#    'Uuwu_qiyG5I/AAAAAAAADvk/s4eWJgbdUBE/w560-h70-no/pinchout.gif',\n",
    "#    'pinchout.bmp')\n",
    "dt = 0.004  # sample rate\n",
    "ds = 10.  # depth increment\n",
    "f = 30.  # approximated frequency ricker wavelet (scipy a=1/(2.f.dt))\n",
    "disc = 10  # space discretization\n",
    "shp = (70, 560)\n",
    "nz, nx = shp  # bellow load geologic model velociy model\n",
    "vmodel = utils.fromimage('pinchout.bmp', ranges=[2500., 3500.], shape=shp)"
   ]
  },
  {
   "cell_type": "code",
   "execution_count": 17,
   "metadata": {
    "collapsed": false
   },
   "outputs": [],
   "source": [
    "twti = np.cumsum(ds/vmodel, axis=0)*2  # calculate irregular sampled twt times\n",
    "twt = np.arange(0, np.max(twti)+0.10, dt)  # new twt times re-sampled to 4 ms\n",
    "dnx = int(nx/disc)\n",
    "twtvmodel = np.zeros((len(twt), dnx))  # velocity model in time and discretized\n",
    "for i in xrange(0, nx, disc):  # set the time re-sample velocity model\n",
    "    twtvmodel[:, int(i/disc)] = np.interp(twt, twti[:, i], vmodel[:, i])\n",
    "zimp = np.ones(twtvmodel.shape)*1000.*twtvmodel  # create impedance z = rho*v\n",
    "rc = (zimp[1:]-zimp[:-1])/(zimp[1:]+zimp[:-1]) # calculate reflection coefs\n",
    "fig = mpl.figure(figsize=(11, 7))  # plottings\n",
    "mpl.subplots_adjust(right=0.98, left=0.11, hspace=0.4, top=0.93, bottom=0.13)\n",
    "mpl.subplot2grid((3, 4), (0, 0), colspan=4)  # plot rc model\n",
    "mpl.title(\"Zero-offset section reflection coefficients\",\n",
    "          fontsize=13, family='sans-serif', weight='bold')\n"
   ]
  },
  {
   "cell_type": "code",
   "execution_count": 19,
   "metadata": {
    "collapsed": false
   },
   "outputs": [
    {
     "data": {
      "text/plain": [
       "10"
      ]
     },
     "execution_count": 19,
     "metadata": {},
     "output_type": "execute_result"
    }
   ],
   "source": [
    "#rcs = utils.matrix2stream(rc.transpose(), header={'delta': dt})\n",
    "mpl.seismic_wiggle(rcs, normalize=True, scale=1.5, ranges=[0, nx])  # rc model\n",
    "wavelet = signal.ricker(255, 1/(2*f*dt))  # create wavelet\n",
    "samples = signal.filtfilt(wavelet, np.ones(len(wavelet)),\n",
    "                          rc, axis=0, padlen=len(twt)-2)  # convolve rc*wavelet\n",
    "mpl.ylabel('twt (s)')\n",
    "mpl.subplot2grid((3, 4), (1, 0), colspan=4)  # plot zero-offset traces\n",
    "traces = utils.matrix2stream(samples.transpose(), header={'delta': dt}) \n",
    "mpl.seismic_image(traces, cmap=mpl.pyplot.cm.jet, aspect='auto', ranges=[0, nx])\n",
    "mpl.seismic_wiggle(traces, ranges=[0, nx], normalize=True)\n",
    "mpl.ylabel('twt (s)')\n",
    "mpl.title(\"Zero-offset section amplitude\",\n",
    "          fontsize=13, family='sans-serif', weight='bold')\n",
    "ax = mpl.subplot2grid((3, 4), (2, 0), colspan=4)  # plot vmodel\n",
    "mpl.imshow(vmodel, extent=[0, nx, nz*ds, 0],\n",
    "           cmap=mpl.pyplot.cm.bwr, aspect='auto', origin='upper')\n",
    "ax.autoscale(False)\n",
    "mpl.ylabel('depth (m)')\n",
    "stations = [[i, 0] for i in xrange(0, nx, disc)]\n",
    "mpl.points(stations, '^k', size=7)  # zero-offset station points\n",
    "mpl.text(250, 120, '2900 m/s')  # model velocities\n",
    "mpl.text(450, 315, '2500 m/s')\n",
    "mpl.text(250, 550, '3500 m/s')\n",
    "# thickness by lambda/4 2nd axis\n",
    "ax2 = ax.twiny()\n",
    "ax2.set_frame_on(True)\n",
    "ax2.patch.set_visible(False)\n",
    "ax2.xaxis.set_ticks_position('bottom')\n",
    "ax2.xaxis.set_label_position('bottom')\n",
    "ax2.spines['bottom'].set_position(('outward', 20))\n",
    "def thick_function_thicknessbyres(x):\n",
    "    l4 = 3000/(f*4)  # average velocity resolution lambda 4\n",
    "    # pinchout thickness expression\n",
    "    thick = 0\n",
    "    if x > 120:\n",
    "        thick = 10 + (x-120)*0.2247\n",
    "    return thick/l4\n",
    "ax2.set_xticks(np.arange(0., nx, 50.))\n",
    "ax2.set_xticklabels(\n",
    "    [\"%.2f\" % thick_function_thicknessbyres(x) for x in xrange(0, nx, 50)])\n",
    "mpl.title(\"Velocity model (stations black diamonds)\",\n",
    "          fontsize=13, family='sans-serif', weight='bold')\n",
    "ax2.set_xlabel(r\"Pinchout thickness divided by lambda/4\")\n",
    "mpl.show()\n"
   ]
  },
  {
   "cell_type": "code",
   "execution_count": null,
   "metadata": {
    "collapsed": false
   },
   "outputs": [],
   "source": []
  }
 ],
 "metadata": {},
 "nbformat": 4,
 "nbformat_minor": 0
}
