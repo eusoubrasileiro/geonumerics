{
 "metadata": {
  "name": "",
  "signature": "sha256:5b0fccebb68d9970faf23db512aa4cc16d6978133b4fabce81240453dac46837"
 },
 "nbformat": 3,
 "nbformat_minor": 0,
 "worksheets": [
  {
   "cells": [
    {
     "cell_type": "markdown",
     "metadata": {},
     "source": [
      "####This file contains all the number (relational) for the stations in PV 10131.5####"
     ]
    },
    {
     "cell_type": "code",
     "collapsed": false,
     "input": [
      "cd /media/sf_VBShared/Parana_station"
     ],
     "language": "python",
     "metadata": {},
     "outputs": [
      {
       "output_type": "stream",
       "stream": "stdout",
       "text": [
        "/media/sf_VBShared/Parana_station\n"
       ]
      }
     ],
     "prompt_number": 5
    },
    {
     "cell_type": "code",
     "collapsed": false,
     "input": [
      "f = open('10131_5_PV_LINHA_14_JD_114.txt','r')\n",
      "stations = f.readlines()"
     ],
     "language": "python",
     "metadata": {},
     "outputs": [],
     "prompt_number": 6
    },
    {
     "cell_type": "markdown",
     "metadata": {},
     "source": [
      "####This folder contains all stations segy files acquired in the Julian Day where PV 10131.5 was vibrated####"
     ]
    },
    {
     "cell_type": "code",
     "collapsed": false,
     "input": [
      "cd /media/sf_VBShared/Parana_station/SEGY/"
     ],
     "language": "python",
     "metadata": {},
     "outputs": [
      {
       "output_type": "stream",
       "stream": "stdout",
       "text": [
        "/media/sf_VBShared/Parana_station/SEGY\n"
       ]
      }
     ],
     "prompt_number": 7
    },
    {
     "cell_type": "code",
     "collapsed": false,
     "input": [
      "from obspy.segy import segy\n",
      "import glob \n",
      "import os\n",
      "\n",
      "shot_traces = []\n",
      "i = 0\n",
      "\n",
      "for station in stations: # station relational number\n",
      "    try:\n",
      "        sgyfilename = glob.glob('*'+station.strip()+'*')[0] # find the proper sgy file in this folder\n",
      "    except:\n",
      "        print \"Warn: couldn't find station relation segy \", station.strip()\n",
      "        continue\n",
      "    print \"file \", i, \" is \", sgyfilename\n",
      "    i = i + 1\n",
      "    sgy = segy.readSEGY(sgyfilename, headonly=True, unpack_headers=True)  # just headers read       \n",
      "    for trc in sgy.traces: # append just the traces of this VP 10131,5 the decimal part is omitted\n",
      "        if trc.header.trace_value_measurement_unit == 10131:\n",
      "            shot_traces.append(trc.unpack_data())"
     ],
     "language": "python",
     "metadata": {},
     "outputs": [
      {
       "output_type": "stream",
       "stream": "stdout",
       "text": [
        "file i: 0  is  rds_10117112_4_2014-04-25_12-14-43_001.sgy\n",
        "file i:"
       ]
      },
      {
       "output_type": "stream",
       "stream": "stdout",
       "text": [
        " 1  is  rds_10016899_4_2014-04-25_12-14-43_001.sgy\n",
        "file i:"
       ]
      },
      {
       "output_type": "stream",
       "stream": "stdout",
       "text": [
        " 2  is  rds_10116104_4_2014-04-25_12-14-43_001.sgy\n",
        "file i:"
       ]
      },
      {
       "output_type": "stream",
       "stream": "stdout",
       "text": [
        " 3  is  rds_10072443_4_2014-04-25_12-14-43_001.sgy\n",
        "file i:"
       ]
      },
      {
       "output_type": "stream",
       "stream": "stdout",
       "text": [
        " 4  is  rds_10039239_4_2014-04-25_12-14-43_001.sgy\n",
        "file i:"
       ]
      },
      {
       "output_type": "stream",
       "stream": "stdout",
       "text": [
        " 5  is  rds_10120009_4_2014-04-25_12-14-43_001.sgy\n",
        "file i:"
       ]
      },
      {
       "output_type": "stream",
       "stream": "stdout",
       "text": [
        " 6  is  rds_10120797_4_2014-04-25_12-14-43_001.sgy\n",
        "file i:"
       ]
      },
      {
       "output_type": "stream",
       "stream": "stdout",
       "text": [
        " 7  is  rds_10116088_4_2014-04-25_12-14-43_001.sgy\n",
        "file i:"
       ]
      },
      {
       "output_type": "stream",
       "stream": "stdout",
       "text": [
        " 8  is  rds_10073161_4_2014-04-25_12-14-43_001.sgy\n",
        "file i:"
       ]
      },
      {
       "output_type": "stream",
       "stream": "stdout",
       "text": [
        " 9  is  rds_10121851_4_2014-04-25_12-14-43_001.sgy\n",
        "file i:"
       ]
      },
      {
       "output_type": "stream",
       "stream": "stdout",
       "text": [
        " 10  is  rds_10073264_4_2014-04-25_12-14-43_001.sgy\n",
        "file i:"
       ]
      },
      {
       "output_type": "stream",
       "stream": "stdout",
       "text": [
        " 11  is  rds_10072887_4_2014-04-25_12-14-43_001.sgy\n",
        "file i:"
       ]
      },
      {
       "output_type": "stream",
       "stream": "stdout",
       "text": [
        " 12  is  rds_10120651_4_2014-04-25_12-14-43_001.sgy\n",
        "file i:"
       ]
      },
      {
       "output_type": "stream",
       "stream": "stdout",
       "text": [
        " 13  is  rds_10073124_4_2014-04-25_12-14-43_001.sgy\n",
        "file i:"
       ]
      },
      {
       "output_type": "stream",
       "stream": "stdout",
       "text": [
        " 14  is  rds_10115666_4_2014-04-25_12-14-43_001.sgy\n",
        "file i:"
       ]
      },
      {
       "output_type": "stream",
       "stream": "stdout",
       "text": [
        " 15  is  rds_10117907_4_2014-04-25_12-14-43_001.sgy\n",
        "file i:"
       ]
      },
      {
       "output_type": "stream",
       "stream": "stdout",
       "text": [
        " 16  is  rds_10038771_4_2014-04-25_12-14-43_001.sgy\n",
        "file i:"
       ]
      },
      {
       "output_type": "stream",
       "stream": "stdout",
       "text": [
        " 17  is  rds_10121277_4_2014-04-25_12-14-43_001.sgy\n",
        "file i:"
       ]
      },
      {
       "output_type": "stream",
       "stream": "stdout",
       "text": [
        " 18  is  rds_10116395_4_2014-04-25_12-14-43_001.sgy\n",
        "file i:"
       ]
      },
      {
       "output_type": "stream",
       "stream": "stdout",
       "text": [
        " 19  is  rds_10111992_4_2014-04-25_12-14-43_001.sgy\n",
        "file i:"
       ]
      },
      {
       "output_type": "stream",
       "stream": "stdout",
       "text": [
        " 20  is  rds_10118041_4_2014-04-25_12-14-43_001.sgy\n",
        "file i:"
       ]
      },
      {
       "output_type": "stream",
       "stream": "stdout",
       "text": [
        " 21  is  rds_10115872_4_2014-04-25_12-14-43_001.sgy\n",
        "file i:"
       ]
      },
      {
       "output_type": "stream",
       "stream": "stdout",
       "text": [
        " 22  is  rds_10073912_4_2014-04-25_12-14-43_001.sgy\n",
        "file i:"
       ]
      },
      {
       "output_type": "stream",
       "stream": "stdout",
       "text": [
        " 23  is  rds_10073344_4_2014-04-25_12-14-43_001.sgy\n",
        "file i:"
       ]
      },
      {
       "output_type": "stream",
       "stream": "stdout",
       "text": [
        " 24  is  rds_10073596_4_2014-04-25_12-14-43_001.sgy\n",
        "file i:"
       ]
      },
      {
       "output_type": "stream",
       "stream": "stdout",
       "text": [
        " 25  is  rds_10118249_4_2014-04-25_12-14-43_001.sgy\n",
        "file i:"
       ]
      },
      {
       "output_type": "stream",
       "stream": "stdout",
       "text": [
        " 26  is  rds_10073583_4_2014-04-25_12-14-43_001.sgy\n",
        "file i:"
       ]
      },
      {
       "output_type": "stream",
       "stream": "stdout",
       "text": [
        " 27  is  rds_10016374_4_2014-04-25_12-14-43_001.sgy\n",
        "file i:"
       ]
      },
      {
       "output_type": "stream",
       "stream": "stdout",
       "text": [
        " 28  is  rds_10117893_4_2014-04-25_12-14-43_001.sgy\n",
        "file i:"
       ]
      },
      {
       "output_type": "stream",
       "stream": "stdout",
       "text": [
        " 29  is  rds_10119700_4_2014-04-25_12-14-43_001.sgy\n",
        "file i:"
       ]
      },
      {
       "output_type": "stream",
       "stream": "stdout",
       "text": [
        " 30  is  rds_10072583_4_2014-04-25_12-14-43_001.sgy\n",
        "file i:"
       ]
      },
      {
       "output_type": "stream",
       "stream": "stdout",
       "text": [
        " 31  is  rds_10073477_4_2014-04-25_12-14-43_001.sgy\n",
        "file i:"
       ]
      },
      {
       "output_type": "stream",
       "stream": "stdout",
       "text": [
        " 32  is  rds_10116857_4_2014-04-25_12-14-43_001.sgy\n",
        "file i:"
       ]
      },
      {
       "output_type": "stream",
       "stream": "stdout",
       "text": [
        " 33  is  rds_10016905_4_2014-04-25_12-14-43_001.sgy\n",
        "file i:"
       ]
      },
      {
       "output_type": "stream",
       "stream": "stdout",
       "text": [
        " 34  is  rds_10120439_4_2014-04-25_12-14-43_001.sgy\n",
        "file i:"
       ]
      },
      {
       "output_type": "stream",
       "stream": "stdout",
       "text": [
        " 35  is  rds_10111121_4_2014-04-25_12-14-43_001.sgy\n",
        "file i:"
       ]
      },
      {
       "output_type": "stream",
       "stream": "stdout",
       "text": [
        " 36  is  rds_10121085_4_2014-04-25_12-14-43_001.sgy\n",
        "file i:"
       ]
      },
      {
       "output_type": "stream",
       "stream": "stdout",
       "text": [
        " 37  is  rds_10072639_4_2014-04-25_12-14-43_001.sgy\n",
        "file i:"
       ]
      },
      {
       "output_type": "stream",
       "stream": "stdout",
       "text": [
        " 38  is  rds_10072962_4_2014-04-25_12-14-43_001.sgy\n",
        "file i:"
       ]
      },
      {
       "output_type": "stream",
       "stream": "stdout",
       "text": [
        " 39  is  rds_10118810_4_2014-04-25_12-14-43_001.sgy\n",
        "file i:"
       ]
      },
      {
       "output_type": "stream",
       "stream": "stdout",
       "text": [
        " 40  is  rds_10038953_4_2014-04-25_12-14-43_001.sgy\n",
        "file i:"
       ]
      },
      {
       "output_type": "stream",
       "stream": "stdout",
       "text": [
        " 41  is  rds_10072723_4_2014-04-25_12-14-43_001.sgy\n",
        "file i:"
       ]
      },
      {
       "output_type": "stream",
       "stream": "stdout",
       "text": [
        " 42  is  rds_10017049_4_2014-04-25_12-14-43_001.sgy\n",
        "file i:"
       ]
      },
      {
       "output_type": "stream",
       "stream": "stdout",
       "text": [
        " 43  is  rds_10121497_4_2014-04-25_12-14-43_001.sgy\n",
        "file i:"
       ]
      },
      {
       "output_type": "stream",
       "stream": "stdout",
       "text": [
        " 44  is  rds_10118830_4_2014-04-25_12-14-43_001.sgy\n",
        "file i:"
       ]
      },
      {
       "output_type": "stream",
       "stream": "stdout",
       "text": [
        " 45  is  rds_10051636_4_2014-04-25_12-14-43_001.sgy\n",
        "file i:"
       ]
      },
      {
       "output_type": "stream",
       "stream": "stdout",
       "text": [
        " 46  is  rds_10118584_4_2014-04-25_12-14-43_001.sgy\n",
        "file i:"
       ]
      },
      {
       "output_type": "stream",
       "stream": "stdout",
       "text": [
        " 47  is  rds_10073384_4_2014-04-25_12-14-43_001.sgy\n",
        "file i:"
       ]
      },
      {
       "output_type": "stream",
       "stream": "stdout",
       "text": [
        " 48  is  rds_10023931_4_2014-04-25_12-14-43_001.sgy\n",
        "file i:"
       ]
      },
      {
       "output_type": "stream",
       "stream": "stdout",
       "text": [
        " 49  is  rds_10116336_4_2014-04-25_12-14-43_001.sgy\n",
        "file i:"
       ]
      },
      {
       "output_type": "stream",
       "stream": "stdout",
       "text": [
        " 50  is  rds_10039294_4_2014-04-25_12-14-43_001.sgy\n",
        "file i:"
       ]
      },
      {
       "output_type": "stream",
       "stream": "stdout",
       "text": [
        " 51  is  rds_10116043_4_2014-04-25_12-14-43_001.sgy\n",
        "file i:"
       ]
      },
      {
       "output_type": "stream",
       "stream": "stdout",
       "text": [
        " 52  is  rds_10111288_4_2014-04-25_12-14-43_001.sgy\n",
        "file i:"
       ]
      },
      {
       "output_type": "stream",
       "stream": "stdout",
       "text": [
        " 53  is  rds_10120661_4_2014-04-25_12-14-43_001.sgy\n",
        "file i:"
       ]
      },
      {
       "output_type": "stream",
       "stream": "stdout",
       "text": [
        " 54  is  rds_10120254_4_2014-04-25_12-14-43_001.sgy\n",
        "file i:"
       ]
      },
      {
       "output_type": "stream",
       "stream": "stdout",
       "text": [
        " 55  is  rds_10073389_4_2014-04-25_12-14-43_001.sgy\n",
        "file i:"
       ]
      },
      {
       "output_type": "stream",
       "stream": "stdout",
       "text": [
        " 56  is  rds_10112769_4_2014-04-25_12-14-43_001.sgy\n",
        "file i:"
       ]
      },
      {
       "output_type": "stream",
       "stream": "stdout",
       "text": [
        " 57  is  rds_10072423_4_2014-04-25_12-14-43_001.sgy\n",
        "file i:"
       ]
      },
      {
       "output_type": "stream",
       "stream": "stdout",
       "text": [
        " 58  is  rds_10072676_4_2014-04-25_12-14-43_001.sgy\n",
        "file i:"
       ]
      },
      {
       "output_type": "stream",
       "stream": "stdout",
       "text": [
        " 59  is  rds_10116716_4_2014-04-25_12-14-43_001.sgy\n",
        "file i:"
       ]
      },
      {
       "output_type": "stream",
       "stream": "stdout",
       "text": [
        " 60  is  rds_10112231_4_2014-04-25_12-14-43_001.sgy\n",
        "file i:"
       ]
      },
      {
       "output_type": "stream",
       "stream": "stdout",
       "text": [
        " 61  is  rds_10117361_4_2014-04-25_12-14-43_001.sgy\n",
        "file i:"
       ]
      },
      {
       "output_type": "stream",
       "stream": "stdout",
       "text": [
        " 62  is  rds_10072490_4_2014-04-25_12-14-43_001.sgy\n",
        "file i:"
       ]
      },
      {
       "output_type": "stream",
       "stream": "stdout",
       "text": [
        " 63  is  rds_10116757_4_2014-04-25_12-14-43_001.sgy\n",
        "file i:"
       ]
      },
      {
       "output_type": "stream",
       "stream": "stdout",
       "text": [
        " 64  is  rds_10122404_4_2014-04-25_13-06-43_001.sgy\n",
        "file i:"
       ]
      },
      {
       "output_type": "stream",
       "stream": "stdout",
       "text": [
        " 65  is  rds_10114454_4_2014-04-25_12-14-43_001.sgy\n",
        "file i:"
       ]
      },
      {
       "output_type": "stream",
       "stream": "stdout",
       "text": [
        " 66  is  rds_10117029_4_2014-04-25_12-14-43_001.sgy\n",
        "file i:"
       ]
      },
      {
       "output_type": "stream",
       "stream": "stdout",
       "text": [
        " 67  is  rds_10072969_4_2014-04-25_12-14-43_001.sgy\n",
        "file i:"
       ]
      },
      {
       "output_type": "stream",
       "stream": "stdout",
       "text": [
        " 68  is  rds_10073130_4_2014-04-25_12-14-43_001.sgy\n",
        "file i:"
       ]
      },
      {
       "output_type": "stream",
       "stream": "stdout",
       "text": [
        " 69  is  rds_10115545_4_2014-04-25_12-14-43_001.sgy\n",
        "file i:"
       ]
      },
      {
       "output_type": "stream",
       "stream": "stdout",
       "text": [
        " 70  is  rds_10071095_4_2014-04-25_12-14-43_001.sgy\n",
        "file i:"
       ]
      },
      {
       "output_type": "stream",
       "stream": "stdout",
       "text": [
        " 71  is  rds_10051274_4_2014-04-25_12-14-43_001.sgy\n",
        "file i:"
       ]
      },
      {
       "output_type": "stream",
       "stream": "stdout",
       "text": [
        " 72  is  rds_10118856_4_2014-04-25_12-14-43_001.sgy\n",
        "file i:"
       ]
      },
      {
       "output_type": "stream",
       "stream": "stdout",
       "text": [
        " 73  is  rds_10116068_4_2014-04-25_12-14-43_001.sgy\n",
        "file i:"
       ]
      },
      {
       "output_type": "stream",
       "stream": "stdout",
       "text": [
        " 74  is  rds_10115587_4_2014-04-25_12-14-43_001.sgy\n",
        "file i:"
       ]
      },
      {
       "output_type": "stream",
       "stream": "stdout",
       "text": [
        " 75  is  rds_10072389_4_2014-04-25_12-14-43_001.sgy\n",
        "file i:"
       ]
      },
      {
       "output_type": "stream",
       "stream": "stdout",
       "text": [
        " 76  is  rds_10118179_4_2014-04-25_12-14-43_001.sgy\n",
        "file i:"
       ]
      },
      {
       "output_type": "stream",
       "stream": "stdout",
       "text": [
        " 77  is  rds_10115188_4_2014-04-25_12-14-43_001.sgy\n",
        "file i:"
       ]
      },
      {
       "output_type": "stream",
       "stream": "stdout",
       "text": [
        " 78  is  rds_10073406_4_2014-04-25_12-14-43_001.sgy\n",
        "file i:"
       ]
      },
      {
       "output_type": "stream",
       "stream": "stdout",
       "text": [
        " 79  is  rds_10115698_4_2014-04-25_12-14-43_001.sgy\n",
        "file i:"
       ]
      },
      {
       "output_type": "stream",
       "stream": "stdout",
       "text": [
        " 80  is  rds_10072888_4_2014-04-25_12-14-43_001.sgy\n",
        "file i:"
       ]
      },
      {
       "output_type": "stream",
       "stream": "stdout",
       "text": [
        " 81  is  rds_10072698_4_2014-04-25_12-14-43_001.sgy\n",
        "file i:"
       ]
      },
      {
       "output_type": "stream",
       "stream": "stdout",
       "text": [
        " 82  is  rds_10072484_4_2014-04-25_12-14-43_001.sgy\n",
        "file i:"
       ]
      },
      {
       "output_type": "stream",
       "stream": "stdout",
       "text": [
        " 83  is  rds_10111175_4_2014-04-25_12-14-43_001.sgy\n",
        "file i:"
       ]
      },
      {
       "output_type": "stream",
       "stream": "stdout",
       "text": [
        " 84  is  rds_10118441_4_2014-04-25_12-14-43_001.sgy\n",
        "file i:"
       ]
      },
      {
       "output_type": "stream",
       "stream": "stdout",
       "text": [
        " 85  is  rds_10074149_4_2014-04-25_12-14-43_001.sgy\n",
        "file i:"
       ]
      },
      {
       "output_type": "stream",
       "stream": "stdout",
       "text": [
        " 86  is  rds_10111111_4_2014-04-25_12-14-43_001.sgy\n",
        "file i:"
       ]
      },
      {
       "output_type": "stream",
       "stream": "stdout",
       "text": [
        " 87  is  rds_10115799_4_2014-04-25_12-14-43_001.sgy\n",
        "file i:"
       ]
      },
      {
       "output_type": "stream",
       "stream": "stdout",
       "text": [
        " 88  is  rds_10072494_4_2014-04-25_12-14-43_001.sgy\n",
        "file i:"
       ]
      },
      {
       "output_type": "stream",
       "stream": "stdout",
       "text": [
        " 89  is  rds_10016982_4_2014-04-25_12-14-43_001.sgy\n",
        "file i:"
       ]
      },
      {
       "output_type": "stream",
       "stream": "stdout",
       "text": [
        " 90  is  rds_10074092_4_2014-04-25_12-14-43_001.sgy\n",
        "file i:"
       ]
      },
      {
       "output_type": "stream",
       "stream": "stdout",
       "text": [
        " 91  is  rds_10116244_4_2014-04-25_12-14-43_001.sgy\n",
        "file i:"
       ]
      },
      {
       "output_type": "stream",
       "stream": "stdout",
       "text": [
        " 92  is  rds_10029795_4_2014-04-25_12-14-43_001.sgy\n",
        "file i:"
       ]
      },
      {
       "output_type": "stream",
       "stream": "stdout",
       "text": [
        " 93  is  rds_10051731_4_2014-04-25_12-14-43_001.sgy\n",
        "file i:"
       ]
      },
      {
       "output_type": "stream",
       "stream": "stdout",
       "text": [
        " 94  is  rds_10115382_4_2014-04-25_12-14-43_001.sgy\n",
        "file i:"
       ]
      },
      {
       "output_type": "stream",
       "stream": "stdout",
       "text": [
        " 95  is  rds_10053777_4_2014-04-25_12-14-43_001.sgy\n",
        "file i:"
       ]
      },
      {
       "output_type": "stream",
       "stream": "stdout",
       "text": [
        " 96  is  rds_10121753_4_2014-04-25_12-14-43_001.sgy\n",
        "file i:"
       ]
      },
      {
       "output_type": "stream",
       "stream": "stdout",
       "text": [
        " 97  is  rds_10112267_4_2014-04-25_12-14-43_001.sgy\n",
        "file i:"
       ]
      },
      {
       "output_type": "stream",
       "stream": "stdout",
       "text": [
        " 98  is  rds_10072967_4_2014-04-25_12-14-43_001.sgy\n",
        "file i:"
       ]
      },
      {
       "output_type": "stream",
       "stream": "stdout",
       "text": [
        " 99  is  rds_10112620_4_2014-04-25_12-14-43_001.sgy\n",
        "file i:"
       ]
      },
      {
       "output_type": "stream",
       "stream": "stdout",
       "text": [
        " 100  is  rds_10115688_4_2014-04-25_12-14-43_001.sgy\n",
        "file i:"
       ]
      },
      {
       "output_type": "stream",
       "stream": "stdout",
       "text": [
        " 101  is  rds_10120791_4_2014-04-25_12-14-43_001.sgy\n",
        "file i:"
       ]
      },
      {
       "output_type": "stream",
       "stream": "stdout",
       "text": [
        " 102  is  rds_10119832_4_2014-04-25_12-14-43_001.sgy\n",
        "file i:"
       ]
      },
      {
       "output_type": "stream",
       "stream": "stdout",
       "text": [
        " 103  is  rds_10072716_4_2014-04-25_12-14-43_001.sgy\n",
        "file i:"
       ]
      },
      {
       "output_type": "stream",
       "stream": "stdout",
       "text": [
        " 104  is  rds_10120029_4_2014-04-25_12-14-43_001.sgy\n",
        "file i:"
       ]
      },
      {
       "output_type": "stream",
       "stream": "stdout",
       "text": [
        " 105  is  rds_10017421_4_2014-04-25_12-14-43_001.sgy\n",
        "file i:"
       ]
      },
      {
       "output_type": "stream",
       "stream": "stdout",
       "text": [
        " 106  is  rds_10072977_4_2014-04-25_12-14-43_001.sgy\n",
        "file i:"
       ]
      },
      {
       "output_type": "stream",
       "stream": "stdout",
       "text": [
        " 107  is  rds_10072721_4_2014-04-25_12-14-43_001.sgy\n",
        "file i:"
       ]
      },
      {
       "output_type": "stream",
       "stream": "stdout",
       "text": [
        " 108  is  rds_10073576_4_2014-04-25_12-14-43_001.sgy\n",
        "file i:"
       ]
      },
      {
       "output_type": "stream",
       "stream": "stdout",
       "text": [
        " 109  is  rds_10116503_4_2014-04-25_12-14-43_001.sgy\n",
        "file i:"
       ]
      },
      {
       "output_type": "stream",
       "stream": "stdout",
       "text": [
        " 110  is  rds_10051211_4_2014-04-25_12-14-43_001.sgy\n",
        "file i:"
       ]
      },
      {
       "output_type": "stream",
       "stream": "stdout",
       "text": [
        " 111  is  rds_10116633_4_2014-04-25_12-14-43_001.sgy\n",
        "file i:"
       ]
      },
      {
       "output_type": "stream",
       "stream": "stdout",
       "text": [
        " 112  is  rds_10024291_4_2014-04-25_12-14-43_001.sgy\n",
        "file i:"
       ]
      },
      {
       "output_type": "stream",
       "stream": "stdout",
       "text": [
        " 113  is  rds_10118074_4_2014-04-25_12-14-43_001.sgy\n",
        "file i:"
       ]
      },
      {
       "output_type": "stream",
       "stream": "stdout",
       "text": [
        " 114  is  rds_10115119_4_2014-04-25_12-14-43_001.sgy\n",
        "file i:"
       ]
      },
      {
       "output_type": "stream",
       "stream": "stdout",
       "text": [
        " 115  is  rds_10121735_4_2014-04-25_12-14-43_001.sgy\n",
        "file i:"
       ]
      },
      {
       "output_type": "stream",
       "stream": "stdout",
       "text": [
        " 116  is  rds_10017601_4_2014-04-25_12-14-43_001.sgy\n",
        "file i:"
       ]
      },
      {
       "output_type": "stream",
       "stream": "stdout",
       "text": [
        " 117  is  rds_10111147_4_2014-04-25_12-14-43_001.sgy\n",
        "file i:"
       ]
      },
      {
       "output_type": "stream",
       "stream": "stdout",
       "text": [
        " 118  is  rds_10051384_4_2014-04-25_12-14-43_001.sgy\n",
        "file i:"
       ]
      },
      {
       "output_type": "stream",
       "stream": "stdout",
       "text": [
        " 119  is  rds_10072813_4_2014-04-25_12-14-43_001.sgy\n",
        "file i:"
       ]
      },
      {
       "output_type": "stream",
       "stream": "stdout",
       "text": [
        " 120  is  rds_10017496_4_2014-04-25_12-14-43_001.sgy\n",
        "file i:"
       ]
      },
      {
       "output_type": "stream",
       "stream": "stdout",
       "text": [
        " 121  is  rds_10014801_4_2014-04-25_12-14-43_001.sgy\n",
        "file i:"
       ]
      },
      {
       "output_type": "stream",
       "stream": "stdout",
       "text": [
        " 122  is  rds_10072696_4_2014-04-25_12-14-43_001.sgy\n",
        "file i:"
       ]
      },
      {
       "output_type": "stream",
       "stream": "stdout",
       "text": [
        " 123  is  rds_10118994_4_2014-04-25_12-14-43_001.sgy\n",
        "file i:"
       ]
      },
      {
       "output_type": "stream",
       "stream": "stdout",
       "text": [
        " 124  is  rds_10017395_4_2014-04-25_12-14-43_001.sgy\n",
        "file i:"
       ]
      },
      {
       "output_type": "stream",
       "stream": "stdout",
       "text": [
        " 125  is  rds_10122792_4_2014-04-25_12-14-43_001.sgy\n",
        "file i:"
       ]
      },
      {
       "output_type": "stream",
       "stream": "stdout",
       "text": [
        " 126  is  rds_10120715_4_2014-04-25_12-14-43_001.sgy\n",
        "file i:"
       ]
      },
      {
       "output_type": "stream",
       "stream": "stdout",
       "text": [
        " 127  is  rds_10119888_4_2014-04-25_12-14-43_001.sgy\n",
        "file i:"
       ]
      },
      {
       "output_type": "stream",
       "stream": "stdout",
       "text": [
        " 128  is  rds_10017324_4_2014-04-25_12-14-43_001.sgy\n",
        "file i:"
       ]
      },
      {
       "output_type": "stream",
       "stream": "stdout",
       "text": [
        " 129  is  rds_10120315_4_2014-04-25_12-14-43_001.sgy\n",
        "file i:"
       ]
      },
      {
       "output_type": "stream",
       "stream": "stdout",
       "text": [
        " 130  is  rds_10073095_4_2014-04-25_12-14-43_001.sgy\n",
        "file i:"
       ]
      },
      {
       "output_type": "stream",
       "stream": "stdout",
       "text": [
        " 131  is  rds_10121359_4_2014-04-25_12-14-43_001.sgy\n",
        "file i:"
       ]
      },
      {
       "output_type": "stream",
       "stream": "stdout",
       "text": [
        " 132  is  rds_10073338_4_2014-04-25_12-14-43_001.sgy\n",
        "file i:"
       ]
      },
      {
       "output_type": "stream",
       "stream": "stdout",
       "text": [
        " 133  is  rds_10120136_4_2014-04-25_12-14-43_001.sgy\n",
        "file i:"
       ]
      },
      {
       "output_type": "stream",
       "stream": "stdout",
       "text": [
        " 134  is  rds_10073511_4_2014-04-25_12-14-43_001.sgy\n",
        "file i:"
       ]
      },
      {
       "output_type": "stream",
       "stream": "stdout",
       "text": [
        " 135  is  rds_10052077_4_2014-04-25_12-14-43_001.sgy\n",
        "file i:"
       ]
      },
      {
       "output_type": "stream",
       "stream": "stdout",
       "text": [
        " 136  is  rds_10015446_4_2014-04-25_12-14-43_001.sgy\n",
        "file i:"
       ]
      },
      {
       "output_type": "stream",
       "stream": "stdout",
       "text": [
        " 137  is  rds_10072634_4_2014-04-25_12-14-43_001.sgy\n",
        "file i:"
       ]
      },
      {
       "output_type": "stream",
       "stream": "stdout",
       "text": [
        " 138  is  rds_10015614_4_2014-04-25_12-14-43_001.sgy\n",
        "file i:"
       ]
      },
      {
       "output_type": "stream",
       "stream": "stdout",
       "text": [
        " 139  is  rds_10073053_4_2014-04-25_12-14-43_001.sgy\n",
        "file i:"
       ]
      },
      {
       "output_type": "stream",
       "stream": "stdout",
       "text": [
        " 140  is  rds_10073092_4_2014-04-25_12-14-43_001.sgy\n",
        "file i:"
       ]
      },
      {
       "output_type": "stream",
       "stream": "stdout",
       "text": [
        " 141  is  rds_10024396_4_2014-04-25_12-14-43_001.sgy\n",
        "file i:"
       ]
      },
      {
       "output_type": "stream",
       "stream": "stdout",
       "text": [
        " 142  is  rds_10072814_4_2014-04-25_12-14-43_001.sgy\n",
        "file i:"
       ]
      },
      {
       "output_type": "stream",
       "stream": "stdout",
       "text": [
        " 143  is  rds_10115788_4_2014-04-25_12-14-43_001.sgy\n",
        "file i:"
       ]
      },
      {
       "output_type": "stream",
       "stream": "stdout",
       "text": [
        " 144  is  rds_10073371_4_2014-04-25_12-14-43_001.sgy\n",
        "file i:"
       ]
      },
      {
       "output_type": "stream",
       "stream": "stdout",
       "text": [
        " 145  is  rds_10051737_4_2014-04-25_12-14-43_001.sgy\n",
        "file i:"
       ]
      },
      {
       "output_type": "stream",
       "stream": "stdout",
       "text": [
        " 146  is  rds_10116800_4_2014-04-25_12-14-43_001.sgy\n",
        "file i:"
       ]
      },
      {
       "output_type": "stream",
       "stream": "stdout",
       "text": [
        " 147  is  rds_10112064_4_2014-04-25_12-14-43_001.sgy\n",
        "file i:"
       ]
      },
      {
       "output_type": "stream",
       "stream": "stdout",
       "text": [
        " 148  is  rds_10051385_4_2014-04-25_12-14-43_001.sgy\n",
        "file i:"
       ]
      },
      {
       "output_type": "stream",
       "stream": "stdout",
       "text": [
        " 149  is  rds_10073051_4_2014-04-25_12-14-43_001.sgy\n",
        "file i:"
       ]
      },
      {
       "output_type": "stream",
       "stream": "stdout",
       "text": [
        " 150  is  rds_10121270_4_2014-04-25_12-14-43_001.sgy\n",
        "file i:"
       ]
      },
      {
       "output_type": "stream",
       "stream": "stdout",
       "text": [
        " 151  is  rds_10118913_4_2014-04-25_12-14-43_001.sgy\n",
        "file i:"
       ]
      },
      {
       "output_type": "stream",
       "stream": "stdout",
       "text": [
        " 152  is  rds_10122233_4_2014-04-25_12-14-43_001.sgy\n",
        "file i:"
       ]
      },
      {
       "output_type": "stream",
       "stream": "stdout",
       "text": [
        " 153  is  rds_10112796_4_2014-04-25_12-14-43_001.sgy\n",
        "file i:"
       ]
      },
      {
       "output_type": "stream",
       "stream": "stdout",
       "text": [
        " 154  is  rds_10072982_4_2014-04-25_12-14-43_001.sgy\n",
        "file i:"
       ]
      },
      {
       "output_type": "stream",
       "stream": "stdout",
       "text": [
        " 155  is  rds_10073094_4_2014-04-25_12-14-43_001.sgy\n",
        "file i:"
       ]
      },
      {
       "output_type": "stream",
       "stream": "stdout",
       "text": [
        " 156  is  rds_10118123_4_2014-04-25_12-14-43_001.sgy\n",
        "file i:"
       ]
      },
      {
       "output_type": "stream",
       "stream": "stdout",
       "text": [
        " 157  is  rds_10118478_4_2014-04-25_12-14-43_001.sgy\n",
        "file i:"
       ]
      },
      {
       "output_type": "stream",
       "stream": "stdout",
       "text": [
        " 158  is  rds_10073552_4_2014-04-25_12-14-43_001.sgy\n",
        "file i:"
       ]
      },
      {
       "output_type": "stream",
       "stream": "stdout",
       "text": [
        " 159  is  rds_10120810_4_2014-04-25_12-14-43_001.sgy\n",
        "file i:"
       ]
      },
      {
       "output_type": "stream",
       "stream": "stdout",
       "text": [
        " 160  is  rds_10116241_4_2014-04-25_12-14-43_001.sgy\n",
        "file i:"
       ]
      },
      {
       "output_type": "stream",
       "stream": "stdout",
       "text": [
        " 161  is  rds_10039087_4_2014-04-25_12-14-43_001.sgy\n",
        "file i:"
       ]
      },
      {
       "output_type": "stream",
       "stream": "stdout",
       "text": [
        " 162  is  rds_10073886_4_2014-04-25_12-14-43_001.sgy\n",
        "file i:"
       ]
      },
      {
       "output_type": "stream",
       "stream": "stdout",
       "text": [
        " 163  is  rds_10112343_4_2014-04-25_12-14-43_001.sgy\n",
        "file i:"
       ]
      },
      {
       "output_type": "stream",
       "stream": "stdout",
       "text": [
        " 164  is  rds_10072699_4_2014-04-25_12-14-43_001.sgy\n",
        "file i:"
       ]
      },
      {
       "output_type": "stream",
       "stream": "stdout",
       "text": [
        " 165  is  rds_10044561_4_2014-04-25_12-14-43_001.sgy\n",
        "file i:"
       ]
      },
      {
       "output_type": "stream",
       "stream": "stdout",
       "text": [
        " 166  is  rds_10051496_4_2014-04-25_12-14-43_001.sgy\n",
        "file i:"
       ]
      },
      {
       "output_type": "stream",
       "stream": "stdout",
       "text": [
        " 167  is  rds_10112373_4_2014-04-25_12-14-43_001.sgy\n",
        "file i:"
       ]
      },
      {
       "output_type": "stream",
       "stream": "stdout",
       "text": [
        " 168  is  rds_10120533_4_2014-04-25_12-14-43_001.sgy\n",
        "file i:"
       ]
      },
      {
       "output_type": "stream",
       "stream": "stdout",
       "text": [
        " 169  is  rds_10118012_4_2014-04-25_12-14-43_001.sgy\n",
        "file i:"
       ]
      },
      {
       "output_type": "stream",
       "stream": "stdout",
       "text": [
        " 170  is  rds_10072550_4_2014-04-25_12-14-43_001.sgy\n",
        "file i:"
       ]
      },
      {
       "output_type": "stream",
       "stream": "stdout",
       "text": [
        " 171  is  rds_10039102_4_2014-04-25_12-14-43_001.sgy\n",
        "file i:"
       ]
      },
      {
       "output_type": "stream",
       "stream": "stdout",
       "text": [
        " 172  is  rds_10072788_4_2014-04-25_12-14-43_001.sgy\n",
        "file i:"
       ]
      },
      {
       "output_type": "stream",
       "stream": "stdout",
       "text": [
        " 173  is  rds_10116987_4_2014-04-25_12-14-43_001.sgy\n",
        "file i:"
       ]
      },
      {
       "output_type": "stream",
       "stream": "stdout",
       "text": [
        " 174  is  rds_10112153_4_2014-04-25_12-14-43_001.sgy\n",
        "file i:"
       ]
      },
      {
       "output_type": "stream",
       "stream": "stdout",
       "text": [
        " 175  is  rds_10115965_4_2014-04-25_12-14-43_001.sgy\n",
        "file i:"
       ]
      },
      {
       "output_type": "stream",
       "stream": "stdout",
       "text": [
        " 176  is  rds_10031026_4_2014-04-25_12-14-43_001.sgy\n",
        "file i:"
       ]
      },
      {
       "output_type": "stream",
       "stream": "stdout",
       "text": [
        " 177  is  rds_10122132_4_2014-04-25_12-14-43_001.sgy\n",
        "file i:"
       ]
      },
      {
       "output_type": "stream",
       "stream": "stdout",
       "text": [
        " 178  is  rds_10117369_4_2014-04-25_12-14-43_001.sgy\n",
        "file i:"
       ]
      },
      {
       "output_type": "stream",
       "stream": "stdout",
       "text": [
        " 179  is  rds_10073625_4_2014-04-25_12-14-43_001.sgy\n",
        "file i:"
       ]
      },
      {
       "output_type": "stream",
       "stream": "stdout",
       "text": [
        " 180  is  rds_10122204_4_2014-04-25_12-14-43_001.sgy\n",
        "file i:"
       ]
      },
      {
       "output_type": "stream",
       "stream": "stdout",
       "text": [
        " 181  is  rds_10073518_4_2014-04-25_12-14-43_001.sgy\n",
        "file i:"
       ]
      },
      {
       "output_type": "stream",
       "stream": "stdout",
       "text": [
        " 182  is  rds_10116892_4_2014-04-25_12-14-43_001.sgy\n",
        "file i:"
       ]
      },
      {
       "output_type": "stream",
       "stream": "stdout",
       "text": [
        " 183  is  rds_10112081_4_2014-04-25_12-14-43_001.sgy\n",
        "file i:"
       ]
      },
      {
       "output_type": "stream",
       "stream": "stdout",
       "text": [
        " 184  is  rds_10117114_4_2014-04-25_12-14-43_001.sgy\n",
        "file i:"
       ]
      },
      {
       "output_type": "stream",
       "stream": "stdout",
       "text": [
        " 185  is  rds_10073590_4_2014-04-25_12-14-43_001.sgy\n",
        "file i:"
       ]
      },
      {
       "output_type": "stream",
       "stream": "stdout",
       "text": [
        " 186  is  rds_10118029_4_2014-04-25_12-14-43_001.sgy\n",
        "file i:"
       ]
      },
      {
       "output_type": "stream",
       "stream": "stdout",
       "text": [
        " 187  is  rds_10115242_4_2014-04-25_12-14-43_001.sgy\n",
        "file i:"
       ]
      },
      {
       "output_type": "stream",
       "stream": "stdout",
       "text": [
        " 188  is  rds_10111324_4_2014-04-25_12-14-43_001.sgy\n",
        "file i:"
       ]
      },
      {
       "output_type": "stream",
       "stream": "stdout",
       "text": [
        " 189  is  rds_10051694_4_2014-04-25_12-14-43_001.sgy\n",
        "file i:"
       ]
      },
      {
       "output_type": "stream",
       "stream": "stdout",
       "text": [
        " 190  is  rds_10117725_4_2014-04-25_12-14-43_001.sgy\n",
        "file i:"
       ]
      },
      {
       "output_type": "stream",
       "stream": "stdout",
       "text": [
        " 191  is  rds_10051669_4_2014-04-25_12-14-43_001.sgy\n",
        "file i:"
       ]
      },
      {
       "output_type": "stream",
       "stream": "stdout",
       "text": [
        " 192  is  rds_10017540_4_2014-04-25_12-14-43_001.sgy\n",
        "file i:"
       ]
      },
      {
       "output_type": "stream",
       "stream": "stdout",
       "text": [
        " 193  is  rds_10016746_4_2014-04-25_12-14-43_001.sgy\n",
        "file i:"
       ]
      },
      {
       "output_type": "stream",
       "stream": "stdout",
       "text": [
        " 194  is  rds_10017275_4_2014-04-25_12-14-43_001.sgy\n",
        "file i:"
       ]
      },
      {
       "output_type": "stream",
       "stream": "stdout",
       "text": [
        " 195  is  rds_10119131_4_2014-04-25_12-14-43_001.sgy\n",
        "file i:"
       ]
      },
      {
       "output_type": "stream",
       "stream": "stdout",
       "text": [
        " 196  is  rds_10119309_4_2014-04-25_12-14-43_001.sgy\n",
        "file i:"
       ]
      },
      {
       "output_type": "stream",
       "stream": "stdout",
       "text": [
        " 197  is  rds_10110819_4_2014-04-25_12-14-43_001.sgy\n",
        "file i:"
       ]
      },
      {
       "output_type": "stream",
       "stream": "stdout",
       "text": [
        " 198  is  rds_10017600_4_2014-04-25_12-14-43_001.sgy\n",
        "file i:"
       ]
      },
      {
       "output_type": "stream",
       "stream": "stdout",
       "text": [
        " 199  is  rds_10117347_4_2014-04-25_12-14-43_001.sgy\n",
        "file i:"
       ]
      },
      {
       "output_type": "stream",
       "stream": "stdout",
       "text": [
        " 200  is  rds_10016542_4_2014-04-25_12-14-43_001.sgy\n",
        "file i:"
       ]
      },
      {
       "output_type": "stream",
       "stream": "stdout",
       "text": [
        " 201  is  rds_10118247_4_2014-04-25_12-14-43_001.sgy\n",
        "file i:"
       ]
      },
      {
       "output_type": "stream",
       "stream": "stdout",
       "text": [
        " 202  is  rds_10118276_4_2014-04-25_12-14-43_001.sgy\n",
        "file i:"
       ]
      },
      {
       "output_type": "stream",
       "stream": "stdout",
       "text": [
        " 203  is  rds_10121607_4_2014-04-25_12-14-43_001.sgy\n",
        "file i:"
       ]
      },
      {
       "output_type": "stream",
       "stream": "stdout",
       "text": [
        " 204  is  rds_10122138_4_2014-04-25_12-14-43_001.sgy\n",
        "file i:"
       ]
      },
      {
       "output_type": "stream",
       "stream": "stdout",
       "text": [
        " 205  is  rds_10073041_4_2014-04-25_12-14-43_001.sgy\n",
        "file i:"
       ]
      },
      {
       "output_type": "stream",
       "stream": "stdout",
       "text": [
        " 206  is  rds_10118676_4_2014-04-25_12-14-43_001.sgy\n",
        "file i:"
       ]
      },
      {
       "output_type": "stream",
       "stream": "stdout",
       "text": [
        " 207  is  rds_10119502_4_2014-04-25_12-14-43_001.sgy\n",
        "file i:"
       ]
      },
      {
       "output_type": "stream",
       "stream": "stdout",
       "text": [
        " 208  is  rds_10112420_4_2014-04-25_12-14-43_001.sgy\n",
        "file i:"
       ]
      },
      {
       "output_type": "stream",
       "stream": "stdout",
       "text": [
        " 209  is  rds_10112411_4_2014-04-25_12-14-43_001.sgy\n",
        "file i:"
       ]
      },
      {
       "output_type": "stream",
       "stream": "stdout",
       "text": [
        " 210  is  rds_10112061_4_2014-04-25_12-14-43_001.sgy\n",
        "file i:"
       ]
      },
      {
       "output_type": "stream",
       "stream": "stdout",
       "text": [
        " 211  is  rds_10122285_4_2014-04-25_12-14-43_001.sgy\n",
        "file i:"
       ]
      },
      {
       "output_type": "stream",
       "stream": "stdout",
       "text": [
        " 212  is  rds_10072531_4_2014-04-25_12-14-43_001.sgy\n",
        "file i:"
       ]
      },
      {
       "output_type": "stream",
       "stream": "stdout",
       "text": [
        " 213  is  rds_10072104_4_2014-04-25_12-14-43_001.sgy\n",
        "file i:"
       ]
      },
      {
       "output_type": "stream",
       "stream": "stdout",
       "text": [
        " 214  is  rds_10119442_4_2014-04-25_12-14-43_001.sgy\n",
        "file i:"
       ]
      },
      {
       "output_type": "stream",
       "stream": "stdout",
       "text": [
        " 215  is  rds_10073075_4_2014-04-25_12-14-43_001.sgy\n",
        "file i:"
       ]
      },
      {
       "output_type": "stream",
       "stream": "stdout",
       "text": [
        " 216  is  rds_10116747_4_2014-04-25_12-14-43_001.sgy\n",
        "file i:"
       ]
      },
      {
       "output_type": "stream",
       "stream": "stdout",
       "text": [
        " 217  is  rds_10072974_4_2014-04-25_12-14-43_001.sgy\n",
        "file i:"
       ]
      },
      {
       "output_type": "stream",
       "stream": "stdout",
       "text": [
        " 218  is  rds_10072915_4_2014-04-25_12-14-43_001.sgy\n",
        "file i:"
       ]
      },
      {
       "output_type": "stream",
       "stream": "stdout",
       "text": [
        " 219  is  rds_10072057_4_2014-04-25_12-14-43_001.sgy\n",
        "file i:"
       ]
      },
      {
       "output_type": "stream",
       "stream": "stdout",
       "text": [
        " 220  is  rds_10073445_4_2014-04-25_12-14-43_001.sgy\n",
        "file i:"
       ]
      },
      {
       "output_type": "stream",
       "stream": "stdout",
       "text": [
        " 221  is  rds_10117622_4_2014-04-25_12-14-43_001.sgy\n",
        "file i:"
       ]
      },
      {
       "output_type": "stream",
       "stream": "stdout",
       "text": [
        " 222  is  rds_10072642_4_2014-04-25_12-14-43_001.sgy\n",
        "file i:"
       ]
      },
      {
       "output_type": "stream",
       "stream": "stdout",
       "text": [
        " 223  is  rds_10117597_4_2014-04-25_12-14-43_001.sgy\n",
        "file i:"
       ]
      },
      {
       "output_type": "stream",
       "stream": "stdout",
       "text": [
        " 224  is  rds_10072881_4_2014-04-25_12-14-43_001.sgy\n",
        "file i:"
       ]
      },
      {
       "output_type": "stream",
       "stream": "stdout",
       "text": [
        " 225  is  rds_10122720_4_2014-04-25_12-14-43_001.sgy\n",
        "file i:"
       ]
      },
      {
       "output_type": "stream",
       "stream": "stdout",
       "text": [
        " 226  is  rds_10072753_4_2014-04-25_12-14-43_001.sgy\n",
        "file i:"
       ]
      },
      {
       "output_type": "stream",
       "stream": "stdout",
       "text": [
        " 227  is  rds_10038982_4_2014-04-25_12-14-43_001.sgy\n",
        "file i:"
       ]
      },
      {
       "output_type": "stream",
       "stream": "stdout",
       "text": [
        " 228  is  rds_10112849_4_2014-04-25_12-14-43_001.sgy\n",
        "file i:"
       ]
      },
      {
       "output_type": "stream",
       "stream": "stdout",
       "text": [
        " 229  is  rds_10121395_4_2014-04-25_12-14-43_001.sgy\n",
        "file i:"
       ]
      },
      {
       "output_type": "stream",
       "stream": "stdout",
       "text": [
        " 230  is  rds_10052369_4_2014-04-25_12-14-43_001.sgy\n",
        "file i:"
       ]
      },
      {
       "output_type": "stream",
       "stream": "stdout",
       "text": [
        " 231  is  rds_10117881_4_2014-04-25_12-14-43_001.sgy\n",
        "file i:"
       ]
      },
      {
       "output_type": "stream",
       "stream": "stdout",
       "text": [
        " 232  is  rds_10016267_4_2014-04-25_12-14-43_001.sgy\n",
        "file i:"
       ]
      },
      {
       "output_type": "stream",
       "stream": "stdout",
       "text": [
        " 233  is  rds_10072769_4_2014-04-25_12-14-43_001.sgy\n",
        "file i:"
       ]
      },
      {
       "output_type": "stream",
       "stream": "stdout",
       "text": [
        " 234  is  rds_10120045_4_2014-04-25_12-14-43_001.sgy\n",
        "file i:"
       ]
      },
      {
       "output_type": "stream",
       "stream": "stdout",
       "text": [
        " 235  is  rds_10072936_4_2014-04-25_12-14-43_001.sgy\n",
        "file i:"
       ]
      },
      {
       "output_type": "stream",
       "stream": "stdout",
       "text": [
        " 236  is  rds_10051417_4_2014-04-25_12-14-43_001.sgy\n",
        "file i:"
       ]
      },
      {
       "output_type": "stream",
       "stream": "stdout",
       "text": [
        " 237  is  rds_10112294_4_2014-04-25_12-14-43_001.sgy\n",
        "file i:"
       ]
      },
      {
       "output_type": "stream",
       "stream": "stdout",
       "text": [
        " 238  is  rds_10119794_4_2014-04-25_12-14-43_001.sgy\n",
        "file i:"
       ]
      },
      {
       "output_type": "stream",
       "stream": "stdout",
       "text": [
        " 239  is  rds_10117798_4_2014-04-25_12-14-43_001.sgy\n",
        "file i:"
       ]
      },
      {
       "output_type": "stream",
       "stream": "stdout",
       "text": [
        " 240  is  rds_10072240_4_2014-04-25_12-14-43_001.sgy\n",
        "file i:"
       ]
      },
      {
       "output_type": "stream",
       "stream": "stdout",
       "text": [
        " 241  is  rds_10072990_4_2014-04-25_12-14-43_001.sgy\n",
        "file i:"
       ]
      },
      {
       "output_type": "stream",
       "stream": "stdout",
       "text": [
        " 242  is  rds_10029282_4_2014-04-25_12-14-43_001.sgy\n",
        "file i:"
       ]
      },
      {
       "output_type": "stream",
       "stream": "stdout",
       "text": [
        " 243  is  rds_10112516_4_2014-04-25_12-14-43_001.sgy\n",
        "file i:"
       ]
      },
      {
       "output_type": "stream",
       "stream": "stdout",
       "text": [
        " 244  is  rds_10120559_4_2014-04-25_12-14-43_001.sgy\n",
        "file i:"
       ]
      },
      {
       "output_type": "stream",
       "stream": "stdout",
       "text": [
        " 245  is  rds_10015350_4_2014-04-25_12-14-43_001.sgy\n",
        "file i:"
       ]
      },
      {
       "output_type": "stream",
       "stream": "stdout",
       "text": [
        " 246  is  rds_10112595_4_2014-04-25_12-14-43_001.sgy\n",
        "file i:"
       ]
      },
      {
       "output_type": "stream",
       "stream": "stdout",
       "text": [
        " 247  is  rds_10073887_4_2014-04-25_12-14-43_001.sgy\n",
        "file i:"
       ]
      },
      {
       "output_type": "stream",
       "stream": "stdout",
       "text": [
        " 248  is  rds_10024279_4_2014-04-25_12-14-43_001.sgy\n",
        "file i:"
       ]
      },
      {
       "output_type": "stream",
       "stream": "stdout",
       "text": [
        " 249  is  rds_10117273_4_2014-04-25_12-14-43_001.sgy\n",
        "file i:"
       ]
      },
      {
       "output_type": "stream",
       "stream": "stdout",
       "text": [
        " 250  is  rds_10072032_4_2014-04-25_12-14-43_001.sgy\n",
        "file i:"
       ]
      },
      {
       "output_type": "stream",
       "stream": "stdout",
       "text": [
        " 251  is  rds_10039039_4_2014-04-25_12-14-43_001.sgy\n",
        "file i:"
       ]
      },
      {
       "output_type": "stream",
       "stream": "stdout",
       "text": [
        " 252  is  rds_10072552_4_2014-04-25_12-14-43_001.sgy\n",
        "file i:"
       ]
      },
      {
       "output_type": "stream",
       "stream": "stdout",
       "text": [
        " 253  is  rds_10118555_4_2014-04-25_12-14-43_001.sgy\n",
        "file i:"
       ]
      },
      {
       "output_type": "stream",
       "stream": "stdout",
       "text": [
        " 254  is  rds_10115627_4_2014-04-25_12-14-43_001.sgy\n",
        "file i:"
       ]
      },
      {
       "output_type": "stream",
       "stream": "stdout",
       "text": [
        " 255  is  rds_10115207_4_2014-04-25_12-14-43_001.sgy\n",
        "file i:"
       ]
      },
      {
       "output_type": "stream",
       "stream": "stdout",
       "text": [
        " 256  is  rds_10017566_4_2014-04-25_12-14-43_001.sgy\n",
        "file i:"
       ]
      },
      {
       "output_type": "stream",
       "stream": "stdout",
       "text": [
        " 257  is  rds_10112657_4_2014-04-25_12-14-43_001.sgy\n",
        "file i:"
       ]
      },
      {
       "output_type": "stream",
       "stream": "stdout",
       "text": [
        " 258  is  rds_10115996_4_2014-04-25_12-14-43_001.sgy\n",
        "file i:"
       ]
      },
      {
       "output_type": "stream",
       "stream": "stdout",
       "text": [
        " 259  is  rds_10118391_4_2014-04-25_12-14-43_001.sgy\n",
        "file i:"
       ]
      },
      {
       "output_type": "stream",
       "stream": "stdout",
       "text": [
        " 260  is  rds_10017502_4_2014-04-25_12-14-43_001.sgy\n",
        "file i:"
       ]
      },
      {
       "output_type": "stream",
       "stream": "stdout",
       "text": [
        " 261  is  rds_10115744_4_2014-04-25_12-14-43_001.sgy\n",
        "file i:"
       ]
      },
      {
       "output_type": "stream",
       "stream": "stdout",
       "text": [
        " 262  is  rds_10072325_4_2014-04-25_12-14-43_001.sgy\n",
        "file i:"
       ]
      },
      {
       "output_type": "stream",
       "stream": "stdout",
       "text": [
        " 263  is  rds_10072316_4_2014-04-25_12-14-43_001.sgy\n",
        "file i:"
       ]
      },
      {
       "output_type": "stream",
       "stream": "stdout",
       "text": [
        " 264  is  rds_10014866_4_2014-04-25_12-14-43_001.sgy\n",
        "file i:"
       ]
      },
      {
       "output_type": "stream",
       "stream": "stdout",
       "text": [
        " 265  is  rds_10017486_4_2014-04-25_12-14-43_001.sgy\n",
        "file i:"
       ]
      },
      {
       "output_type": "stream",
       "stream": "stdout",
       "text": [
        " 266  is  rds_10118434_4_2014-04-25_12-14-43_001.sgy\n",
        "file i:"
       ]
      },
      {
       "output_type": "stream",
       "stream": "stdout",
       "text": [
        " 267  is  rds_10072768_4_2014-04-25_12-14-43_001.sgy\n",
        "file i:"
       ]
      },
      {
       "output_type": "stream",
       "stream": "stdout",
       "text": [
        " 268  is  rds_10072591_4_2014-04-25_12-14-43_001.sgy\n",
        "file i:"
       ]
      },
      {
       "output_type": "stream",
       "stream": "stdout",
       "text": [
        " 269  is  rds_10074095_4_2014-04-25_12-14-43_001.sgy\n",
        "file i:"
       ]
      },
      {
       "output_type": "stream",
       "stream": "stdout",
       "text": [
        " 270  is  rds_10072722_4_2014-04-25_12-14-43_001.sgy\n",
        "file i:"
       ]
      },
      {
       "output_type": "stream",
       "stream": "stdout",
       "text": [
        " 271  is  rds_10119973_4_2014-04-25_12-14-43_001.sgy\n",
        "file i:"
       ]
      },
      {
       "output_type": "stream",
       "stream": "stdout",
       "text": [
        " 272  is  rds_10112159_4_2014-04-25_12-14-43_001.sgy\n",
        "file i:"
       ]
      },
      {
       "output_type": "stream",
       "stream": "stdout",
       "text": [
        " 273  is  rds_10115375_4_2014-04-25_12-14-43_001.sgy\n",
        "file i:"
       ]
      },
      {
       "output_type": "stream",
       "stream": "stdout",
       "text": [
        " 274  is  rds_10120143_4_2014-04-25_12-14-43_001.sgy\n",
        "file i:"
       ]
      },
      {
       "output_type": "stream",
       "stream": "stdout",
       "text": [
        " 275  is  rds_10073333_4_2014-04-25_12-14-43_001.sgy\n",
        "file i:"
       ]
      },
      {
       "output_type": "stream",
       "stream": "stdout",
       "text": [
        " 276  is  rds_10073077_4_2014-04-25_12-14-43_001.sgy\n",
        "file i:"
       ]
      },
      {
       "output_type": "stream",
       "stream": "stdout",
       "text": [
        " 277  is  rds_10051605_4_2014-04-25_12-14-43_001.sgy\n",
        "file i:"
       ]
      },
      {
       "output_type": "stream",
       "stream": "stdout",
       "text": [
        " 278  is  rds_10074145_4_2014-04-25_12-14-43_001.sgy\n",
        "file i:"
       ]
      },
      {
       "output_type": "stream",
       "stream": "stdout",
       "text": [
        " 279  is  rds_10015536_4_2014-04-25_12-14-43_001.sgy\n",
        "file i:"
       ]
      },
      {
       "output_type": "stream",
       "stream": "stdout",
       "text": [
        " 280  is  rds_10112369_4_2014-04-25_12-14-43_001.sgy\n",
        "file i:"
       ]
      },
      {
       "output_type": "stream",
       "stream": "stdout",
       "text": [
        " 281  is  rds_10116971_4_2014-04-25_12-14-43_001.sgy\n",
        "file i:"
       ]
      },
      {
       "output_type": "stream",
       "stream": "stdout",
       "text": [
        " 282  is  rds_10072846_4_2014-04-25_12-14-43_001.sgy\n",
        "file i:"
       ]
      },
      {
       "output_type": "stream",
       "stream": "stdout",
       "text": [
        " 283  is  rds_10118881_4_2014-04-25_12-14-43_001.sgy\n",
        "file i:"
       ]
      },
      {
       "output_type": "stream",
       "stream": "stdout",
       "text": [
        " 284  is  rds_10073225_4_2014-04-25_12-14-43_001.sgy\n",
        "file i:"
       ]
      },
      {
       "output_type": "stream",
       "stream": "stdout",
       "text": [
        " 285  is  rds_10117918_4_2014-04-25_12-14-43_001.sgy\n",
        "file i:"
       ]
      },
      {
       "output_type": "stream",
       "stream": "stdout",
       "text": [
        " 286  is  rds_10072999_4_2014-04-25_12-14-43_001.sgy\n",
        "file i:"
       ]
      },
      {
       "output_type": "stream",
       "stream": "stdout",
       "text": [
        " 287  is  rds_10121671_4_2014-04-25_12-14-43_001.sgy\n",
        "file i:"
       ]
      },
      {
       "output_type": "stream",
       "stream": "stdout",
       "text": [
        " 288  is  rds_10072606_4_2014-04-25_12-14-43_001.sgy\n",
        "file i:"
       ]
      },
      {
       "output_type": "stream",
       "stream": "stdout",
       "text": [
        " 289  is  rds_10117310_4_2014-04-25_12-14-43_001.sgy\n",
        "file i:"
       ]
      },
      {
       "output_type": "stream",
       "stream": "stdout",
       "text": [
        " 290  is  rds_10024349_4_2014-04-25_12-14-43_001.sgy\n",
        "file i:"
       ]
      },
      {
       "output_type": "stream",
       "stream": "stdout",
       "text": [
        " 291  is  rds_10118251_4_2014-04-25_12-14-43_001.sgy\n",
        "file i:"
       ]
      },
      {
       "output_type": "stream",
       "stream": "stdout",
       "text": [
        " 292  is  rds_10111020_4_2014-04-25_12-14-43_001.sgy\n",
        "file i:"
       ]
      },
      {
       "output_type": "stream",
       "stream": "stdout",
       "text": [
        " 293  is  rds_10115092_4_2014-04-25_12-14-43_001.sgy\n",
        "file i:"
       ]
      },
      {
       "output_type": "stream",
       "stream": "stdout",
       "text": [
        " 294  is  rds_10122380_4_2014-04-25_12-14-43_001.sgy\n",
        "file i:"
       ]
      },
      {
       "output_type": "stream",
       "stream": "stdout",
       "text": [
        " 295  is  rds_10072864_4_2014-04-25_12-14-43_001.sgy\n",
        "file i:"
       ]
      },
      {
       "output_type": "stream",
       "stream": "stdout",
       "text": [
        " 296  is  rds_10118516_4_2014-04-25_12-14-43_001.sgy\n",
        "file i:"
       ]
      },
      {
       "output_type": "stream",
       "stream": "stdout",
       "text": [
        " 297  is  rds_10116441_4_2014-04-25_12-14-43_001.sgy\n",
        "file i:"
       ]
      },
      {
       "output_type": "stream",
       "stream": "stdout",
       "text": [
        " 298  is  rds_10118404_4_2014-04-25_12-14-43_001.sgy\n",
        "file i:"
       ]
      },
      {
       "output_type": "stream",
       "stream": "stdout",
       "text": [
        " 299  is  rds_10072896_4_2014-04-25_12-14-43_001.sgy\n",
        "file i:"
       ]
      },
      {
       "output_type": "stream",
       "stream": "stdout",
       "text": [
        " 300  is  rds_10116363_4_2014-04-25_12-14-43_001.sgy\n",
        "file i:"
       ]
      },
      {
       "output_type": "stream",
       "stream": "stdout",
       "text": [
        " 301  is  rds_10029317_4_2014-04-25_12-14-43_001.sgy\n",
        "file i:"
       ]
      },
      {
       "output_type": "stream",
       "stream": "stdout",
       "text": [
        " 302  is  rds_10117598_4_2014-04-25_12-14-43_001.sgy\n",
        "file i:"
       ]
      },
      {
       "output_type": "stream",
       "stream": "stdout",
       "text": [
        " 303  is  rds_10073515_4_2014-04-25_12-14-43_001.sgy\n",
        "file i:"
       ]
      },
      {
       "output_type": "stream",
       "stream": "stdout",
       "text": [
        " 304  is  rds_10121228_4_2014-04-25_12-14-43_001.sgy\n",
        "file i:"
       ]
      },
      {
       "output_type": "stream",
       "stream": "stdout",
       "text": [
        " 305  is  rds_10117765_4_2014-04-25_12-14-43_001.sgy\n",
        "file i:"
       ]
      },
      {
       "output_type": "stream",
       "stream": "stdout",
       "text": [
        " 306  is  rds_10073043_4_2014-04-25_12-14-43_001.sgy\n",
        "file i:"
       ]
      },
      {
       "output_type": "stream",
       "stream": "stdout",
       "text": [
        " 307  is  rds_10072595_4_2014-04-25_12-14-43_001.sgy\n",
        "file i:"
       ]
      },
      {
       "output_type": "stream",
       "stream": "stdout",
       "text": [
        " 308  is  rds_10118519_4_2014-04-25_12-14-43_001.sgy\n",
        "file i:"
       ]
      },
      {
       "output_type": "stream",
       "stream": "stdout",
       "text": [
        " 309  is  rds_10117660_4_2014-04-25_12-14-43_001.sgy\n",
        "file i:"
       ]
      },
      {
       "output_type": "stream",
       "stream": "stdout",
       "text": [
        " 310  is  rds_10074231_4_2014-04-25_12-14-43_001.sgy\n",
        "file i:"
       ]
      },
      {
       "output_type": "stream",
       "stream": "stdout",
       "text": [
        " 311  is  rds_10073026_4_2014-04-25_12-14-43_001.sgy\n",
        "file i:"
       ]
      },
      {
       "output_type": "stream",
       "stream": "stdout",
       "text": [
        " 312  is  rds_10017327_4_2014-04-25_12-14-43_001.sgy\n",
        "file i:"
       ]
      },
      {
       "output_type": "stream",
       "stream": "stdout",
       "text": [
        " 313  is  rds_10118701_4_2014-04-25_12-14-43_001.sgy\n",
        "file i:"
       ]
      },
      {
       "output_type": "stream",
       "stream": "stdout",
       "text": [
        " 314  is  rds_10120001_4_2014-04-25_12-14-43_001.sgy\n",
        "file i:"
       ]
      },
      {
       "output_type": "stream",
       "stream": "stdout",
       "text": [
        " 315  is  rds_10118133_4_2014-04-25_12-14-43_001.sgy\n",
        "file i:"
       ]
      },
      {
       "output_type": "stream",
       "stream": "stdout",
       "text": [
        " 316  is  rds_10051434_4_2014-04-25_12-14-43_001.sgy\n",
        "file i:"
       ]
      },
      {
       "output_type": "stream",
       "stream": "stdout",
       "text": [
        " 317  is  rds_10121549_4_2014-04-25_12-14-43_001.sgy\n",
        "file i:"
       ]
      },
      {
       "output_type": "stream",
       "stream": "stdout",
       "text": [
        " 318  is  rds_10111183_4_2014-04-25_12-14-43_001.sgy\n",
        "Warn: couldn't find station relation segy "
       ]
      },
      {
       "output_type": "stream",
       "stream": "stdout",
       "text": [
        " 10023615\n",
        "file i: 319  is  rds_10115762_4_2014-04-25_12-14-43_001.sgy\n",
        "file i:"
       ]
      },
      {
       "output_type": "stream",
       "stream": "stdout",
       "text": [
        " 320  is  rds_10121830_4_2014-04-25_12-14-43_001.sgy\n",
        "file i:"
       ]
      },
      {
       "output_type": "stream",
       "stream": "stdout",
       "text": [
        " 321  is  rds_10121960_4_2014-04-25_12-14-43_001.sgy\n",
        "file i:"
       ]
      },
      {
       "output_type": "stream",
       "stream": "stdout",
       "text": [
        " 322  is  rds_10121814_4_2014-04-25_12-14-43_001.sgy\n",
        "file i:"
       ]
      },
      {
       "output_type": "stream",
       "stream": "stdout",
       "text": [
        " 323  is  rds_10119591_4_2014-04-25_12-14-43_001.sgy\n",
        "file i:"
       ]
      },
      {
       "output_type": "stream",
       "stream": "stdout",
       "text": [
        " 324  is  rds_10072706_4_2014-04-25_12-14-43_001.sgy\n",
        "file i:"
       ]
      },
      {
       "output_type": "stream",
       "stream": "stdout",
       "text": [
        " 325  is  rds_10120022_4_2014-04-25_12-14-43_001.sgy\n",
        "file i:"
       ]
      },
      {
       "output_type": "stream",
       "stream": "stdout",
       "text": [
        " 326  is  rds_10072651_4_2014-04-25_12-14-43_001.sgy\n",
        "file i:"
       ]
      },
      {
       "output_type": "stream",
       "stream": "stdout",
       "text": [
        " 327  is  rds_10016381_4_2014-04-25_12-14-43_001.sgy\n",
        "file i:"
       ]
      },
      {
       "output_type": "stream",
       "stream": "stdout",
       "text": [
        " 328  is  rds_10072686_4_2014-04-25_12-14-43_001.sgy\n",
        "file i:"
       ]
      },
      {
       "output_type": "stream",
       "stream": "stdout",
       "text": [
        " 329  is  rds_10115239_4_2014-04-25_12-14-43_001.sgy\n",
        "file i:"
       ]
      },
      {
       "output_type": "stream",
       "stream": "stdout",
       "text": [
        " 330  is  rds_10119424_4_2014-04-25_12-14-43_001.sgy\n",
        "file i:"
       ]
      },
      {
       "output_type": "stream",
       "stream": "stdout",
       "text": [
        " 331  is  rds_10115492_4_2014-04-25_12-14-43_001.sgy\n",
        "file i:"
       ]
      },
      {
       "output_type": "stream",
       "stream": "stdout",
       "text": [
        " 332  is  rds_10072728_4_2014-04-25_12-14-43_001.sgy\n",
        "file i:"
       ]
      },
      {
       "output_type": "stream",
       "stream": "stdout",
       "text": [
        " 333  is  rds_10120227_4_2014-04-25_12-14-43_001.sgy\n",
        "file i:"
       ]
      },
      {
       "output_type": "stream",
       "stream": "stdout",
       "text": [
        " 334  is  rds_10121818_4_2014-04-25_12-14-43_001.sgy\n",
        "file i:"
       ]
      },
      {
       "output_type": "stream",
       "stream": "stdout",
       "text": [
        " 335  is  rds_10015404_4_2014-04-25_12-14-43_001.sgy\n",
        "file i:"
       ]
      },
      {
       "output_type": "stream",
       "stream": "stdout",
       "text": [
        " 336  is  rds_10074003_4_2014-04-25_12-14-43_001.sgy\n",
        "file i:"
       ]
      },
      {
       "output_type": "stream",
       "stream": "stdout",
       "text": [
        " 337  is  rds_10073399_4_2014-04-25_12-14-43_001.sgy\n",
        "file i:"
       ]
      },
      {
       "output_type": "stream",
       "stream": "stdout",
       "text": [
        " 338  is  rds_10016747_4_2014-04-25_12-14-43_001.sgy\n",
        "file i:"
       ]
      },
      {
       "output_type": "stream",
       "stream": "stdout",
       "text": [
        " 339  is  rds_10016934_4_2014-04-25_12-14-43_001.sgy\n",
        "file i:"
       ]
      },
      {
       "output_type": "stream",
       "stream": "stdout",
       "text": [
        " 340  is  rds_10121241_4_2014-04-25_12-14-43_001.sgy\n",
        "file i:"
       ]
      },
      {
       "output_type": "stream",
       "stream": "stdout",
       "text": [
        " 341  is  rds_10073299_4_2014-04-25_12-14-43_001.sgy\n",
        "file i:"
       ]
      },
      {
       "output_type": "stream",
       "stream": "stdout",
       "text": [
        " 342  is  rds_10118940_4_2014-04-25_12-14-43_001.sgy\n",
        "file i:"
       ]
      },
      {
       "output_type": "stream",
       "stream": "stdout",
       "text": [
        " 343  is  rds_10072685_4_2014-04-25_12-14-43_001.sgy\n",
        "file i:"
       ]
      },
      {
       "output_type": "stream",
       "stream": "stdout",
       "text": [
        " 344  is  rds_10073481_4_2014-04-25_12-14-43_001.sgy\n",
        "file i:"
       ]
      },
      {
       "output_type": "stream",
       "stream": "stdout",
       "text": [
        " 345  is  rds_10122252_4_2014-04-25_12-14-43_001.sgy\n",
        "file i:"
       ]
      },
      {
       "output_type": "stream",
       "stream": "stdout",
       "text": [
        " 346  is  rds_10119121_4_2014-04-25_12-14-43_001.sgy\n",
        "file i:"
       ]
      },
      {
       "output_type": "stream",
       "stream": "stdout",
       "text": [
        " 347  is  rds_10072627_4_2014-04-25_12-14-43_001.sgy\n",
        "file i:"
       ]
      },
      {
       "output_type": "stream",
       "stream": "stdout",
       "text": [
        " 348  is  rds_10116458_4_2014-04-25_12-14-43_001.sgy\n",
        "file i:"
       ]
      },
      {
       "output_type": "stream",
       "stream": "stdout",
       "text": [
        " 349  is  rds_10115486_4_2014-04-25_12-14-43_001.sgy\n",
        "file i:"
       ]
      },
      {
       "output_type": "stream",
       "stream": "stdout",
       "text": [
        " 350  is  rds_10120693_4_2014-04-25_12-14-43_001.sgy\n",
        "file i:"
       ]
      },
      {
       "output_type": "stream",
       "stream": "stdout",
       "text": [
        " 351  is  rds_10072795_4_2014-04-25_12-14-43_001.sgy\n",
        "file i:"
       ]
      },
      {
       "output_type": "stream",
       "stream": "stdout",
       "text": [
        " 352  is  rds_10039977_4_2014-04-25_12-14-43_001.sgy\n",
        "file i:"
       ]
      },
      {
       "output_type": "stream",
       "stream": "stdout",
       "text": [
        " 353  is  rds_10073470_4_2014-04-25_12-14-43_001.sgy\n",
        "file i:"
       ]
      },
      {
       "output_type": "stream",
       "stream": "stdout",
       "text": [
        " 354  is  rds_10115462_4_2014-04-25_12-14-43_001.sgy\n",
        "file i:"
       ]
      },
      {
       "output_type": "stream",
       "stream": "stdout",
       "text": [
        " 355  is  rds_10038907_4_2014-04-25_12-14-43_001.sgy\n",
        "file i:"
       ]
      },
      {
       "output_type": "stream",
       "stream": "stdout",
       "text": [
        " 356  is  rds_10073645_4_2014-04-25_12-14-43_001.sgy\n",
        "file i:"
       ]
      },
      {
       "output_type": "stream",
       "stream": "stdout",
       "text": [
        " 357  is  rds_10116299_4_2014-04-25_12-14-43_001.sgy\n",
        "file i:"
       ]
      },
      {
       "output_type": "stream",
       "stream": "stdout",
       "text": [
        " 358  is  rds_10072588_4_2014-04-25_12-14-43_001.sgy\n",
        "file i:"
       ]
      },
      {
       "output_type": "stream",
       "stream": "stdout",
       "text": [
        " 359  is  rds_10117130_4_2014-04-25_13-06-43_001.sgy\n",
        "file i:"
       ]
      },
      {
       "output_type": "stream",
       "stream": "stdout",
       "text": [
        " 360  is  rds_10051774_4_2014-04-25_12-14-43_001.sgy\n",
        "file i:"
       ]
      },
      {
       "output_type": "stream",
       "stream": "stdout",
       "text": [
        " 361  is  rds_10117073_4_2014-04-25_12-14-43_001.sgy\n",
        "file i:"
       ]
      },
      {
       "output_type": "stream",
       "stream": "stdout",
       "text": [
        " 362  is  rds_10072641_4_2014-04-25_12-14-43_001.sgy\n",
        "file i:"
       ]
      },
      {
       "output_type": "stream",
       "stream": "stdout",
       "text": [
        " 363  is  rds_10073103_4_2014-04-25_12-14-43_001.sgy\n",
        "file i:"
       ]
      },
      {
       "output_type": "stream",
       "stream": "stdout",
       "text": [
        " 364  is  rds_10015427_4_2014-04-25_12-14-43_001.sgy\n",
        "file i:"
       ]
      },
      {
       "output_type": "stream",
       "stream": "stdout",
       "text": [
        " 365  is  rds_10072954_4_2014-04-25_12-14-43_001.sgy\n",
        "file i:"
       ]
      },
      {
       "output_type": "stream",
       "stream": "stdout",
       "text": [
        " 366  is  rds_10073972_4_2014-04-25_12-14-43_001.sgy\n",
        "file i:"
       ]
      },
      {
       "output_type": "stream",
       "stream": "stdout",
       "text": [
        " 367  is  rds_10114975_4_2014-04-25_12-14-43_001.sgy\n",
        "file i:"
       ]
      },
      {
       "output_type": "stream",
       "stream": "stdout",
       "text": [
        " 368  is  rds_10119500_4_2014-04-25_12-14-43_001.sgy\n",
        "file i:"
       ]
      },
      {
       "output_type": "stream",
       "stream": "stdout",
       "text": [
        " 369  is  rds_10122626_4_2014-04-25_12-14-43_001.sgy\n",
        "file i:"
       ]
      },
      {
       "output_type": "stream",
       "stream": "stdout",
       "text": [
        " 370  is  rds_10115673_4_2014-04-25_12-14-43_001.sgy\n",
        "file i:"
       ]
      },
      {
       "output_type": "stream",
       "stream": "stdout",
       "text": [
        " 371  is  rds_10072726_4_2014-04-25_12-14-43_001.sgy\n",
        "file i:"
       ]
      },
      {
       "output_type": "stream",
       "stream": "stdout",
       "text": [
        " 372  is  rds_10112448_4_2014-04-25_12-14-43_001.sgy\n",
        "file i:"
       ]
      },
      {
       "output_type": "stream",
       "stream": "stdout",
       "text": [
        " 373  is  rds_10122795_4_2014-04-25_12-14-43_001.sgy\n",
        "file i:"
       ]
      },
      {
       "output_type": "stream",
       "stream": "stdout",
       "text": [
        " 374  is  rds_10117631_4_2014-04-25_12-14-43_001.sgy\n",
        "file i:"
       ]
      },
      {
       "output_type": "stream",
       "stream": "stdout",
       "text": [
        " 375  is  rds_10122090_4_2014-04-25_12-14-43_001.sgy\n",
        "file i:"
       ]
      },
      {
       "output_type": "stream",
       "stream": "stdout",
       "text": [
        " 376  is  rds_10118822_4_2014-04-25_12-14-43_001.sgy\n",
        "file i:"
       ]
      },
      {
       "output_type": "stream",
       "stream": "stdout",
       "text": [
        " 377  is  rds_10122151_4_2014-04-25_12-14-43_001.sgy\n",
        "file i:"
       ]
      },
      {
       "output_type": "stream",
       "stream": "stdout",
       "text": [
        " 378  is  rds_10032199_4_2014-04-25_12-14-43_001.sgy\n",
        "file i:"
       ]
      },
      {
       "output_type": "stream",
       "stream": "stdout",
       "text": [
        " 379  is  rds_10052154_4_2014-04-25_12-14-43_001.sgy\n",
        "file i:"
       ]
      },
      {
       "output_type": "stream",
       "stream": "stdout",
       "text": [
        " 380  is  rds_10073998_4_2014-04-25_12-14-43_001.sgy\n",
        "file i:"
       ]
      },
      {
       "output_type": "stream",
       "stream": "stdout",
       "text": [
        " 381  is  rds_10117592_4_2014-04-25_12-14-43_001.sgy\n",
        "file i:"
       ]
      },
      {
       "output_type": "stream",
       "stream": "stdout",
       "text": [
        " 382  is  rds_10118161_4_2014-04-25_12-14-43_001.sgy\n",
        "file i:"
       ]
      },
      {
       "output_type": "stream",
       "stream": "stdout",
       "text": [
        " 383  is  rds_10115646_4_2014-04-25_12-14-43_001.sgy\n",
        "file i:"
       ]
      },
      {
       "output_type": "stream",
       "stream": "stdout",
       "text": [
        " 384  is  rds_10122367_4_2014-04-25_12-14-43_001.sgy\n",
        "file i:"
       ]
      },
      {
       "output_type": "stream",
       "stream": "stdout",
       "text": [
        " 385  is  rds_10121273_4_2014-04-25_12-14-43_001.sgy\n",
        "file i:"
       ]
      },
      {
       "output_type": "stream",
       "stream": "stdout",
       "text": [
        " 386  is  rds_10121259_4_2014-04-25_12-14-43_001.sgy\n",
        "file i:"
       ]
      },
      {
       "output_type": "stream",
       "stream": "stdout",
       "text": [
        " 387  is  rds_10073047_4_2014-04-25_12-14-43_001.sgy\n",
        "file i:"
       ]
      },
      {
       "output_type": "stream",
       "stream": "stdout",
       "text": [
        " 388  is  rds_10112829_4_2014-04-25_12-14-43_001.sgy\n",
        "file i:"
       ]
      },
      {
       "output_type": "stream",
       "stream": "stdout",
       "text": [
        " 389  is  rds_10015060_4_2014-04-25_12-14-43_001.sgy\n",
        "file i:"
       ]
      },
      {
       "output_type": "stream",
       "stream": "stdout",
       "text": [
        " 390  is  rds_10118073_4_2014-04-25_12-14-43_001.sgy\n",
        "file i:"
       ]
      },
      {
       "output_type": "stream",
       "stream": "stdout",
       "text": [
        " 391  is  rds_10023824_4_2014-04-25_12-14-43_001.sgy\n",
        "file i:"
       ]
      },
      {
       "output_type": "stream",
       "stream": "stdout",
       "text": [
        " 392  is  rds_10112269_4_2014-04-25_12-14-43_001.sgy\n",
        "file i:"
       ]
      },
      {
       "output_type": "stream",
       "stream": "stdout",
       "text": [
        " 393  is  rds_10116593_4_2014-04-25_12-14-43_001.sgy\n",
        "file i:"
       ]
      },
      {
       "output_type": "stream",
       "stream": "stdout",
       "text": [
        " 394  is  rds_10118127_4_2014-04-25_12-14-43_001.sgy\n",
        "file i:"
       ]
      },
      {
       "output_type": "stream",
       "stream": "stdout",
       "text": [
        " 395  is  rds_10117941_4_2014-04-25_12-14-43_001.sgy\n",
        "file i:"
       ]
      },
      {
       "output_type": "stream",
       "stream": "stdout",
       "text": [
        " 396  is  rds_10120765_4_2014-04-25_12-14-43_001.sgy\n",
        "file i:"
       ]
      },
      {
       "output_type": "stream",
       "stream": "stdout",
       "text": [
        " 397  is  rds_10072649_4_2014-04-25_12-14-43_001.sgy\n",
        "file i:"
       ]
      },
      {
       "output_type": "stream",
       "stream": "stdout",
       "text": [
        " 398  is  rds_10073936_4_2014-04-25_12-14-43_001.sgy\n",
        "file i:"
       ]
      },
      {
       "output_type": "stream",
       "stream": "stdout",
       "text": [
        " 399  is  rds_10112180_4_2014-04-25_12-14-43_001.sgy\n",
        "file i:"
       ]
      },
      {
       "output_type": "stream",
       "stream": "stdout",
       "text": [
        " 400  is  rds_10118488_4_2014-04-25_12-14-43_001.sgy\n",
        "file i:"
       ]
      },
      {
       "output_type": "stream",
       "stream": "stdout",
       "text": [
        " 401  is  rds_10072324_4_2014-04-25_12-14-43_001.sgy\n",
        "file i:"
       ]
      },
      {
       "output_type": "stream",
       "stream": "stdout",
       "text": [
        " 402  is  rds_10072643_4_2014-04-25_12-14-43_001.sgy\n",
        "file i:"
       ]
      },
      {
       "output_type": "stream",
       "stream": "stdout",
       "text": [
        " 403  is  rds_10073463_4_2014-04-25_12-14-43_001.sgy\n",
        "file i:"
       ]
      },
      {
       "output_type": "stream",
       "stream": "stdout",
       "text": [
        " 404  is  rds_10072543_4_2014-04-25_12-14-43_001.sgy\n",
        "file i:"
       ]
      },
      {
       "output_type": "stream",
       "stream": "stdout",
       "text": [
        " 405  is  rds_10110943_4_2014-04-25_12-14-43_001.sgy\n",
        "file i:"
       ]
      },
      {
       "output_type": "stream",
       "stream": "stdout",
       "text": [
        " 406  is  rds_10122316_4_2014-04-25_12-14-43_001.sgy\n",
        "file i:"
       ]
      },
      {
       "output_type": "stream",
       "stream": "stdout",
       "text": [
        " 407  is  rds_10016255_4_2014-04-25_12-14-43_001.sgy\n",
        "file i:"
       ]
      },
      {
       "output_type": "stream",
       "stream": "stdout",
       "text": [
        " 408  is  rds_10072652_4_2014-04-25_12-14-43_001.sgy\n",
        "file i:"
       ]
      },
      {
       "output_type": "stream",
       "stream": "stdout",
       "text": [
        " 409  is  rds_10044615_4_2014-04-25_12-14-43_001.sgy\n",
        "file i:"
       ]
      },
      {
       "output_type": "stream",
       "stream": "stdout",
       "text": [
        " 410  is  rds_10117370_4_2014-04-25_12-14-43_001.sgy\n",
        "file i:"
       ]
      },
      {
       "output_type": "stream",
       "stream": "stdout",
       "text": [
        " 411  is  rds_10073472_4_2014-04-25_12-14-43_001.sgy\n",
        "file i:"
       ]
      },
      {
       "output_type": "stream",
       "stream": "stdout",
       "text": [
        " 412  is  rds_10117683_4_2014-04-25_12-14-43_001.sgy\n",
        "file i:"
       ]
      },
      {
       "output_type": "stream",
       "stream": "stdout",
       "text": [
        " 413  is  rds_10074126_4_2014-04-25_12-14-43_001.sgy\n"
       ]
      }
     ],
     "prompt_number": 8
    },
    {
     "cell_type": "code",
     "collapsed": false,
     "input": [
      "import numpy \n",
      "pvshot = numpy.array(shot_traces)"
     ],
     "language": "python",
     "metadata": {},
     "outputs": [],
     "prompt_number": 9
    },
    {
     "cell_type": "code",
     "collapsed": false,
     "input": [
      "cd /media/sf_VBShared/Parana_station"
     ],
     "language": "python",
     "metadata": {},
     "outputs": [
      {
       "output_type": "stream",
       "stream": "stdout",
       "text": [
        "/media/sf_VBShared/Parana_station\n"
       ]
      }
     ],
     "prompt_number": 12
    },
    {
     "cell_type": "code",
     "collapsed": false,
     "input": [
      "numpy.save('PV10131_raw.np', pvshot)"
     ],
     "language": "python",
     "metadata": {},
     "outputs": [],
     "prompt_number": 14
    },
    {
     "cell_type": "code",
     "collapsed": false,
     "input": [],
     "language": "python",
     "metadata": {},
     "outputs": []
    }
   ],
   "metadata": {}
  }
 ]
}