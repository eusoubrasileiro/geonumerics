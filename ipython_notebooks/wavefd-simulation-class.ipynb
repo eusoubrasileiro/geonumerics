{
 "metadata": {
  "name": "",
  "signature": "sha256:30b2d9baa9e9d29042fde188b32e5f8cd580d2f17174eeeb714bae811cb5f26c"
 },
 "nbformat": 3,
 "nbformat_minor": 0,
 "worksheets": [
  {
   "cells": [
    {
     "cell_type": "markdown",
     "metadata": {},
     "source": [
      "### Writing documentation, tests and testing for PR ###"
     ]
    },
    {
     "cell_type": "code",
     "collapsed": false,
     "input": [
      "%pylab inline\n",
      "%cd Fatiando"
     ],
     "language": "python",
     "metadata": {},
     "outputs": []
    },
    {
     "cell_type": "code",
     "collapsed": false,
     "input": [
      "from fatiando.seismic import wavefd"
     ],
     "language": "python",
     "metadata": {},
     "outputs": []
    },
    {
     "cell_type": "markdown",
     "metadata": {},
     "source": [
      "### Ricker replaces MexHat source, Gauss also added  ###"
     ]
    },
    {
     "cell_type": "code",
     "collapsed": false,
     "input": [
      "w = wavefd.Ricker(amp=5, cf=10, delay=3.5/10.)\n",
      "w"
     ],
     "language": "python",
     "metadata": {},
     "outputs": []
    },
    {
     "cell_type": "markdown",
     "metadata": {},
     "source": [
      "Documentation from the base class copied by hand on the derived classes."
     ]
    },
    {
     "cell_type": "code",
     "collapsed": false,
     "input": [
      "import numpy as np\n",
      "shape = (150, 150)\n",
      "velocity = 1500*np.ones(shape)\n",
      "density = 2200*np.ones(shape)"
     ],
     "language": "python",
     "metadata": {},
     "outputs": []
    },
    {
     "cell_type": "code",
     "collapsed": false,
     "input": [
      "sim = wavefd.ElasticSH(velocity, density, (5,5))                       \n",
      "sim.add_point_source((shape[0]//2, shape[1]//2), wavefd.Ricker(5, 10.))"
     ],
     "language": "python",
     "metadata": {},
     "outputs": []
    },
    {
     "cell_type": "code",
     "collapsed": false,
     "input": [
      "sim.run(300)"
     ],
     "language": "python",
     "metadata": {},
     "outputs": []
    },
    {
     "cell_type": "code",
     "collapsed": false,
     "input": [
      "sim"
     ],
     "language": "python",
     "metadata": {},
     "outputs": []
    },
    {
     "cell_type": "code",
     "collapsed": false,
     "input": [
      "sim.explore()"
     ],
     "language": "python",
     "metadata": {},
     "outputs": []
    },
    {
     "cell_type": "code",
     "collapsed": false,
     "input": [
      "sim.animate(every=5, cutoff=1, blit=True, fps=20, dpi=50, embed=True)"
     ],
     "language": "python",
     "metadata": {},
     "outputs": []
    },
    {
     "cell_type": "code",
     "collapsed": false,
     "input": [
      "import numpy\n",
      "from numpy.testing import assert_almost_equal"
     ],
     "language": "python",
     "metadata": {},
     "outputs": []
    },
    {
     "cell_type": "code",
     "collapsed": false,
     "input": [
      "assert_almost_equal(w(0), 0.0, decimal=3, err_msg=\"\")"
     ],
     "language": "python",
     "metadata": {},
     "outputs": []
    },
    {
     "cell_type": "code",
     "collapsed": false,
     "input": [
      "fname = sim.cachefile\n",
      "del sim\n",
      "reloaded = wavefd.ElasticSH.from_cache(fname)"
     ],
     "language": "python",
     "metadata": {},
     "outputs": []
    },
    {
     "cell_type": "code",
     "collapsed": false,
     "input": [
      "reloaded"
     ],
     "language": "python",
     "metadata": {},
     "outputs": []
    },
    {
     "cell_type": "code",
     "collapsed": false,
     "input": [
      "reloaded.run(100)\n",
      "reloaded"
     ],
     "language": "python",
     "metadata": {},
     "outputs": []
    },
    {
     "cell_type": "code",
     "collapsed": false,
     "input": [
      "reloaded.animate(embed=True, fps=10, dpi=50)"
     ],
     "language": "python",
     "metadata": {},
     "outputs": []
    },
    {
     "cell_type": "code",
     "collapsed": false,
     "input": [
      "shape = (50, 50)\n",
      "pvel = 4000*np.ones(shape)\n",
      "svel = 3000*np.ones(shape)\n",
      "density = 2200*np.ones(shape)\n",
      "sim = wavefd.ElasticPSV(pvel, svel, density, spacing=10)\n",
      "sim.add_point_source((shape[0]//2, shape[1]//2), dip=45, source=wavefd.Ricker(5, 10, 1./10))\n",
      "sim.cachefile\n",
      "sim.run(180)"
     ],
     "language": "python",
     "metadata": {},
     "outputs": []
    },
    {
     "cell_type": "code",
     "collapsed": false,
     "input": [
      "sim"
     ],
     "language": "python",
     "metadata": {},
     "outputs": []
    },
    {
     "cell_type": "code",
     "collapsed": false,
     "input": [
      "sim.explore()"
     ],
     "language": "python",
     "metadata": {},
     "outputs": []
    },
    {
     "cell_type": "code",
     "collapsed": false,
     "input": [],
     "language": "python",
     "metadata": {},
     "outputs": []
    }
   ],
   "metadata": {}
  }
 ]
}