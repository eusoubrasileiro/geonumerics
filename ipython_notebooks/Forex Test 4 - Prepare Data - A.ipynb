{
 "cells": [
  {
   "cell_type": "markdown",
   "metadata": {},
   "source": [
    "## Prepare data to RandomForest ##\n",
    "\n",
    "### Due limitations we are going to use 5 quotes of currency-pairs ###"
   ]
  },
  {
   "cell_type": "markdown",
   "metadata": {},
   "source": [
    "Time and data are rather interesting from this method's perspective. There have always been attempts to use time and data in trading systems. In our models, taking into account some hidden data on the quotes dependency on the time of day and day of the week can be revealed by the classification models automatically. The only thing to do here is to convert these two variables into the categorical form. The time is to become a category with 24 levels and the date is to become a categorical variable with five levels to match the number of week days.\n",
    "\n",
    "Besides the source predictors, we are going to create additional predictors, which, in my opinion reveal existence of trends in the source quotes. We are going to use well known indicators to create additional predictors.\n",
    "\n",
    "The following indicators are going to be employed: 5,10 and 15 EMA; MACD(12,26,9), RSI with periods 14,21,28. On top of them we are going to use increments of quotes and moving averages. All of these conversions are to be applied to all six quotes of the currency pairs."
   ]
  },
  {
   "cell_type": "markdown",
   "metadata": {},
   "source": [
    "I will use:\n",
    "    1. (3) 5, 10 and 15 EMA\n",
    "    2. (3) quotes-EMAs\n",
    "    3. (1) MACD(12, 26)\n",
    "    4. (3) RSI with periods 5, 20, 30\n",
    "    5. (4) quotes sum A+B, B+C, C+D, D+E    "
   ]
  },
  {
   "cell_type": "code",
   "execution_count": 7,
   "metadata": {
    "collapsed": false
   },
   "outputs": [],
   "source": [
    "import numpy as np\n",
    "from scipy.signal import argrelextrema\n",
    "from matplotlib import pyplot\n",
    "import pandas as pd\n",
    "%matplotlib inline"
   ]
  },
  {
   "cell_type": "code",
   "execution_count": 8,
   "metadata": {
    "collapsed": true
   },
   "outputs": [],
   "source": [
    "target_quote = 'EUR/GBP'\n",
    "target_variable = target_quote"
   ]
  },
  {
   "cell_type": "code",
   "execution_count": 9,
   "metadata": {
    "collapsed": false
   },
   "outputs": [
    {
     "name": "stdout",
     "output_type": "stream",
     "text": [
      "Index(['EUR/USD', 'AUD/USD', 'GBP/USD', 'EUR/GBP', 'USD/CHF', 'USD/CAD',\n",
      "       'EUR/CHF'],\n",
      "      dtype='object')\n"
     ]
    }
   ],
   "source": [
    "# sample interval is of 30 seconds\n",
    "df = pd.read_pickle('real_time_quotes.pandas') \n",
    "df = df.set_index(pd.DatetimeIndex(df['time']))\n",
    "del df['time'] #not need anymore\n",
    "print(df.columns)"
   ]
  },
  {
   "cell_type": "code",
   "execution_count": 10,
   "metadata": {
    "collapsed": false
   },
   "outputs": [],
   "source": [
    "def MACD(y, a=26, b=12):\n",
    "    return pd.ewma(y, span=12) - pd.ewma(y, span=26) #12-26"
   ]
  },
  {
   "cell_type": "code",
   "execution_count": 11,
   "metadata": {
    "collapsed": false
   },
   "outputs": [],
   "source": [
    "def RSI(y, windown=14):\n",
    "    dy = y.diff()\n",
    "    dy.iat[0] = dy.iat[1]\n",
    "    u = dy.apply(lambda x: x if (x > 0) else 0) # uptrend 0 with where it goes down\n",
    "    d = dy.apply(lambda x: -x if (x < 0) else 0) # downtred 0 with where it goes up\n",
    "    # simple exponential moving average\n",
    "    rs = pd.ewma(u, span=windown)/pd.ewma(d, span=windown)\n",
    "    return 100 - (100/(1+rs))"
   ]
  },
  {
   "cell_type": "code",
   "execution_count": 13,
   "metadata": {
    "collapsed": false
   },
   "outputs": [],
   "source": [
    "def create_indicators(df, target_variable):\n",
    "    del df[target_variable] # TARGET VARIABLE!!\n",
    "    quotes = df.columns\n",
    "    for quote in quotes:\n",
    "        df['ema_5 '+quote] = pd.ewma(df[quote],span=5)\n",
    "        df['ema_10 '+quote] = pd.ewma(df[quote],span=10)\n",
    "        df['ema_15 '+quote] = pd.ewma(df[quote],span=15)\n",
    "        df['dema_5 '+quote] = df[quote] - df['ema_5 '+quote]\n",
    "        df['dema_10 '+quote] = df[quote] - df['ema_10 '+quote]\n",
    "        df['dema_15 '+quote] = df[quote] - df['ema_15 '+quote]\n",
    "        df['macd '+quote] = MACD(df[quote])\n",
    "        df['rsi_5 '+quote] = RSI(df[quote], 5)\n",
    "        df['rsi_20 '+quote] = RSI(df[quote], 20)\n",
    "        df['rsi_30 '+quote] = RSI(df[quote], 30)\n",
    "    for i in range(len(quotes)-1):\n",
    "        df[quotes[i]+'+'+quotes[i+1]] = df[quotes[i]]+df[quotes[i+1]]"
   ]
  },
  {
   "cell_type": "code",
   "execution_count": 14,
   "metadata": {
    "collapsed": false
   },
   "outputs": [
    {
     "name": "stderr",
     "output_type": "stream",
     "text": [
      "/home/andre/anaconda3/lib/python3.5/site-packages/ipykernel/__main__.py:5: FutureWarning: pd.ewm_mean is deprecated for Series and will be removed in a future version, replace with \n",
      "\tSeries.ewm(min_periods=0,ignore_na=False,span=5,adjust=True).mean()\n",
      "/home/andre/anaconda3/lib/python3.5/site-packages/ipykernel/__main__.py:6: FutureWarning: pd.ewm_mean is deprecated for Series and will be removed in a future version, replace with \n",
      "\tSeries.ewm(min_periods=0,ignore_na=False,span=10,adjust=True).mean()\n",
      "/home/andre/anaconda3/lib/python3.5/site-packages/ipykernel/__main__.py:7: FutureWarning: pd.ewm_mean is deprecated for Series and will be removed in a future version, replace with \n",
      "\tSeries.ewm(min_periods=0,ignore_na=False,span=15,adjust=True).mean()\n",
      "/home/andre/anaconda3/lib/python3.5/site-packages/ipykernel/__main__.py:2: FutureWarning: pd.ewm_mean is deprecated for Series and will be removed in a future version, replace with \n",
      "\tSeries.ewm(min_periods=0,ignore_na=False,span=12,adjust=True).mean()\n",
      "  from ipykernel import kernelapp as app\n",
      "/home/andre/anaconda3/lib/python3.5/site-packages/ipykernel/__main__.py:2: FutureWarning: pd.ewm_mean is deprecated for Series and will be removed in a future version, replace with \n",
      "\tSeries.ewm(min_periods=0,ignore_na=False,span=26,adjust=True).mean()\n",
      "  from ipykernel import kernelapp as app\n",
      "/home/andre/anaconda3/lib/python3.5/site-packages/ipykernel/__main__.py:7: FutureWarning: pd.ewm_mean is deprecated for Series and will be removed in a future version, replace with \n",
      "\tSeries.ewm(min_periods=0,ignore_na=False,span=5,adjust=True).mean()\n",
      "/home/andre/anaconda3/lib/python3.5/site-packages/ipykernel/__main__.py:7: FutureWarning: pd.ewm_mean is deprecated for Series and will be removed in a future version, replace with \n",
      "\tSeries.ewm(min_periods=0,ignore_na=False,span=20,adjust=True).mean()\n",
      "/home/andre/anaconda3/lib/python3.5/site-packages/ipykernel/__main__.py:7: FutureWarning: pd.ewm_mean is deprecated for Series and will be removed in a future version, replace with \n",
      "\tSeries.ewm(min_periods=0,ignore_na=False,span=30,adjust=True).mean()\n"
     ]
    }
   ],
   "source": [
    "create_indicators(df, target_variable)"
   ]
  },
  {
   "cell_type": "code",
   "execution_count": 15,
   "metadata": {
    "collapsed": false
   },
   "outputs": [],
   "source": [
    "# normalize 0 to 1\n",
    "df = df.apply(lambda x: (x - np.mean(x)) / (np.max(x) - np.min(x)))"
   ]
  },
  {
   "cell_type": "code",
   "execution_count": 16,
   "metadata": {
    "collapsed": false
   },
   "outputs": [
    {
     "data": {
      "text/html": [
       "<div>\n",
       "<table border=\"1\" class=\"dataframe\">\n",
       "  <thead>\n",
       "    <tr style=\"text-align: right;\">\n",
       "      <th></th>\n",
       "      <th>EUR/USD</th>\n",
       "      <th>AUD/USD</th>\n",
       "      <th>GBP/USD</th>\n",
       "      <th>USD/CHF</th>\n",
       "      <th>USD/CAD</th>\n",
       "      <th>EUR/CHF</th>\n",
       "      <th>ema_5 EUR/USD</th>\n",
       "      <th>ema_10 EUR/USD</th>\n",
       "      <th>ema_15 EUR/USD</th>\n",
       "      <th>dema_5 EUR/USD</th>\n",
       "      <th>...</th>\n",
       "      <th>dema_15 EUR/CHF</th>\n",
       "      <th>macd EUR/CHF</th>\n",
       "      <th>rsi_5 EUR/CHF</th>\n",
       "      <th>rsi_20 EUR/CHF</th>\n",
       "      <th>rsi_30 EUR/CHF</th>\n",
       "      <th>EUR/USD+AUD/USD</th>\n",
       "      <th>AUD/USD+GBP/USD</th>\n",
       "      <th>GBP/USD+USD/CHF</th>\n",
       "      <th>USD/CHF+USD/CAD</th>\n",
       "      <th>USD/CAD+EUR/CHF</th>\n",
       "    </tr>\n",
       "  </thead>\n",
       "  <tbody>\n",
       "    <tr>\n",
       "      <th>2016-05-31 09:21:20.981075</th>\n",
       "      <td>0.057720</td>\n",
       "      <td>0.511997</td>\n",
       "      <td>-0.237415</td>\n",
       "      <td>-0.471842</td>\n",
       "      <td>-0.677477</td>\n",
       "      <td>-0.241043</td>\n",
       "      <td>0.063190</td>\n",
       "      <td>0.067910</td>\n",
       "      <td>0.072244</td>\n",
       "      <td>-0.005452</td>\n",
       "      <td>...</td>\n",
       "      <td>-0.054255</td>\n",
       "      <td>-0.113219</td>\n",
       "      <td>NaN</td>\n",
       "      <td>NaN</td>\n",
       "      <td>NaN</td>\n",
       "      <td>0.442329</td>\n",
       "      <td>0.161887</td>\n",
       "      <td>-0.470470</td>\n",
       "      <td>-0.709676</td>\n",
       "      <td>-0.659365</td>\n",
       "    </tr>\n",
       "    <tr>\n",
       "      <th>2016-05-31 09:21:36.619171</th>\n",
       "      <td>0.057720</td>\n",
       "      <td>0.517745</td>\n",
       "      <td>-0.266629</td>\n",
       "      <td>-0.458508</td>\n",
       "      <td>-0.675576</td>\n",
       "      <td>-0.241043</td>\n",
       "      <td>0.063190</td>\n",
       "      <td>0.067910</td>\n",
       "      <td>0.072244</td>\n",
       "      <td>-0.005452</td>\n",
       "      <td>...</td>\n",
       "      <td>-0.054255</td>\n",
       "      <td>-0.113219</td>\n",
       "      <td>NaN</td>\n",
       "      <td>NaN</td>\n",
       "      <td>NaN</td>\n",
       "      <td>0.446905</td>\n",
       "      <td>0.137333</td>\n",
       "      <td>-0.499803</td>\n",
       "      <td>-0.706053</td>\n",
       "      <td>-0.657654</td>\n",
       "    </tr>\n",
       "    <tr>\n",
       "      <th>2016-05-31 09:21:42.940439</th>\n",
       "      <td>0.088254</td>\n",
       "      <td>0.511997</td>\n",
       "      <td>-0.268876</td>\n",
       "      <td>-0.485175</td>\n",
       "      <td>-0.673675</td>\n",
       "      <td>-0.216147</td>\n",
       "      <td>0.078685</td>\n",
       "      <td>0.081661</td>\n",
       "      <td>0.085643</td>\n",
       "      <td>0.063864</td>\n",
       "      <td>...</td>\n",
       "      <td>0.023898</td>\n",
       "      <td>-0.105219</td>\n",
       "      <td>0.483027</td>\n",
       "      <td>0.612632</td>\n",
       "      <td>0.654319</td>\n",
       "      <td>0.460635</td>\n",
       "      <td>0.130637</td>\n",
       "      <td>-0.513136</td>\n",
       "      <td>-0.707865</td>\n",
       "      <td>-0.650811</td>\n",
       "    </tr>\n",
       "    <tr>\n",
       "      <th>2016-05-31 09:21:48.560504</th>\n",
       "      <td>0.084437</td>\n",
       "      <td>0.511997</td>\n",
       "      <td>-0.266629</td>\n",
       "      <td>-0.471842</td>\n",
       "      <td>-0.673675</td>\n",
       "      <td>-0.216147</td>\n",
       "      <td>0.084138</td>\n",
       "      <td>0.086991</td>\n",
       "      <td>0.090947</td>\n",
       "      <td>0.025447</td>\n",
       "      <td>...</td>\n",
       "      <td>0.000291</td>\n",
       "      <td>-0.101777</td>\n",
       "      <td>0.483027</td>\n",
       "      <td>0.612632</td>\n",
       "      <td>0.654319</td>\n",
       "      <td>0.458347</td>\n",
       "      <td>0.132869</td>\n",
       "      <td>-0.505136</td>\n",
       "      <td>-0.706053</td>\n",
       "      <td>-0.650811</td>\n",
       "    </tr>\n",
       "    <tr>\n",
       "      <th>2016-05-31 09:21:54.385702</th>\n",
       "      <td>0.072987</td>\n",
       "      <td>0.517745</td>\n",
       "      <td>-0.219438</td>\n",
       "      <td>-0.445175</td>\n",
       "      <td>-0.678428</td>\n",
       "      <td>-0.207848</td>\n",
       "      <td>0.082375</td>\n",
       "      <td>0.086423</td>\n",
       "      <td>0.090687</td>\n",
       "      <td>-0.016843</td>\n",
       "      <td>...</td>\n",
       "      <td>0.017463</td>\n",
       "      <td>-0.096725</td>\n",
       "      <td>0.483027</td>\n",
       "      <td>0.612632</td>\n",
       "      <td>0.654319</td>\n",
       "      <td>0.456059</td>\n",
       "      <td>0.184208</td>\n",
       "      <td>-0.438470</td>\n",
       "      <td>-0.706959</td>\n",
       "      <td>-0.653377</td>\n",
       "    </tr>\n",
       "  </tbody>\n",
       "</table>\n",
       "<p>5 rows × 71 columns</p>\n",
       "</div>"
      ],
      "text/plain": [
       "                             EUR/USD   AUD/USD   GBP/USD   USD/CHF   USD/CAD  \\\n",
       "2016-05-31 09:21:20.981075  0.057720  0.511997 -0.237415 -0.471842 -0.677477   \n",
       "2016-05-31 09:21:36.619171  0.057720  0.517745 -0.266629 -0.458508 -0.675576   \n",
       "2016-05-31 09:21:42.940439  0.088254  0.511997 -0.268876 -0.485175 -0.673675   \n",
       "2016-05-31 09:21:48.560504  0.084437  0.511997 -0.266629 -0.471842 -0.673675   \n",
       "2016-05-31 09:21:54.385702  0.072987  0.517745 -0.219438 -0.445175 -0.678428   \n",
       "\n",
       "                             EUR/CHF  ema_5 EUR/USD  ema_10 EUR/USD  \\\n",
       "2016-05-31 09:21:20.981075 -0.241043       0.063190        0.067910   \n",
       "2016-05-31 09:21:36.619171 -0.241043       0.063190        0.067910   \n",
       "2016-05-31 09:21:42.940439 -0.216147       0.078685        0.081661   \n",
       "2016-05-31 09:21:48.560504 -0.216147       0.084138        0.086991   \n",
       "2016-05-31 09:21:54.385702 -0.207848       0.082375        0.086423   \n",
       "\n",
       "                            ema_15 EUR/USD  dema_5 EUR/USD       ...         \\\n",
       "2016-05-31 09:21:20.981075        0.072244       -0.005452       ...          \n",
       "2016-05-31 09:21:36.619171        0.072244       -0.005452       ...          \n",
       "2016-05-31 09:21:42.940439        0.085643        0.063864       ...          \n",
       "2016-05-31 09:21:48.560504        0.090947        0.025447       ...          \n",
       "2016-05-31 09:21:54.385702        0.090687       -0.016843       ...          \n",
       "\n",
       "                            dema_15 EUR/CHF  macd EUR/CHF  rsi_5 EUR/CHF  \\\n",
       "2016-05-31 09:21:20.981075        -0.054255     -0.113219            NaN   \n",
       "2016-05-31 09:21:36.619171        -0.054255     -0.113219            NaN   \n",
       "2016-05-31 09:21:42.940439         0.023898     -0.105219       0.483027   \n",
       "2016-05-31 09:21:48.560504         0.000291     -0.101777       0.483027   \n",
       "2016-05-31 09:21:54.385702         0.017463     -0.096725       0.483027   \n",
       "\n",
       "                            rsi_20 EUR/CHF  rsi_30 EUR/CHF  EUR/USD+AUD/USD  \\\n",
       "2016-05-31 09:21:20.981075             NaN             NaN         0.442329   \n",
       "2016-05-31 09:21:36.619171             NaN             NaN         0.446905   \n",
       "2016-05-31 09:21:42.940439        0.612632        0.654319         0.460635   \n",
       "2016-05-31 09:21:48.560504        0.612632        0.654319         0.458347   \n",
       "2016-05-31 09:21:54.385702        0.612632        0.654319         0.456059   \n",
       "\n",
       "                            AUD/USD+GBP/USD  GBP/USD+USD/CHF  USD/CHF+USD/CAD  \\\n",
       "2016-05-31 09:21:20.981075         0.161887        -0.470470        -0.709676   \n",
       "2016-05-31 09:21:36.619171         0.137333        -0.499803        -0.706053   \n",
       "2016-05-31 09:21:42.940439         0.130637        -0.513136        -0.707865   \n",
       "2016-05-31 09:21:48.560504         0.132869        -0.505136        -0.706053   \n",
       "2016-05-31 09:21:54.385702         0.184208        -0.438470        -0.706959   \n",
       "\n",
       "                            USD/CAD+EUR/CHF  \n",
       "2016-05-31 09:21:20.981075        -0.659365  \n",
       "2016-05-31 09:21:36.619171        -0.657654  \n",
       "2016-05-31 09:21:42.940439        -0.650811  \n",
       "2016-05-31 09:21:48.560504        -0.650811  \n",
       "2016-05-31 09:21:54.385702        -0.653377  \n",
       "\n",
       "[5 rows x 71 columns]"
      ]
     },
     "execution_count": 16,
     "metadata": {},
     "output_type": "execute_result"
    }
   ],
   "source": [
    "df.head(5)"
   ]
  },
  {
   "cell_type": "markdown",
   "metadata": {},
   "source": [
    "### READ TARGET VARIABLE AND EVALUATE  CORRELATION ###"
   ]
  },
  {
   "cell_type": "code",
   "execution_count": 17,
   "metadata": {
    "collapsed": false,
    "scrolled": true
   },
   "outputs": [
    {
     "name": "stdout",
     "output_type": "stream",
     "text": [
      "EUR/GBP\n"
     ]
    }
   ],
   "source": [
    "print(target_quote)"
   ]
  },
  {
   "cell_type": "code",
   "execution_count": 19,
   "metadata": {
    "collapsed": false
   },
   "outputs": [],
   "source": [
    "#tgpd = pd.read_pickle('target_variable_dup.pandas')"
   ]
  },
  {
   "cell_type": "code",
   "execution_count": 50,
   "metadata": {
    "collapsed": false
   },
   "outputs": [],
   "source": [
    "#df['target_variable_dup'] = pd.Series(tgpd, index=df.index)"
   ]
  },
  {
   "cell_type": "markdown",
   "metadata": {},
   "source": [
    "### CORRELATION BETTWEEN INDICATORS AND TARGET VARIABLE ###"
   ]
  },
  {
   "cell_type": "code",
   "execution_count": 52,
   "metadata": {
    "collapsed": false
   },
   "outputs": [
    {
     "data": {
      "text/html": [
       "<div>\n",
       "<table border=\"1\" class=\"dataframe\">\n",
       "  <thead>\n",
       "    <tr style=\"text-align: right;\">\n",
       "      <th></th>\n",
       "      <th>EUR/USD</th>\n",
       "      <th>GBP/USD</th>\n",
       "      <th>USD/CHF</th>\n",
       "      <th>USD/CAD</th>\n",
       "      <th>ema_5 EUR/USD</th>\n",
       "      <th>ema_10 EUR/USD</th>\n",
       "      <th>ema_15 EUR/USD</th>\n",
       "      <th>dema_5 EUR/USD</th>\n",
       "      <th>dema_10 EUR/USD</th>\n",
       "      <th>dema_15 EUR/USD</th>\n",
       "      <th>...</th>\n",
       "      <th>dema_10 USD/CAD</th>\n",
       "      <th>dema_15 USD/CAD</th>\n",
       "      <th>macd USD/CAD</th>\n",
       "      <th>rsi_5 USD/CAD</th>\n",
       "      <th>rsi_20 USD/CAD</th>\n",
       "      <th>rsi_30 USD/CAD</th>\n",
       "      <th>EUR/USD+GBP/USD</th>\n",
       "      <th>GBP/USD+USD/CHF</th>\n",
       "      <th>USD/CHF+USD/CAD</th>\n",
       "      <th>target_variable_dup</th>\n",
       "    </tr>\n",
       "  </thead>\n",
       "  <tbody>\n",
       "    <tr>\n",
       "      <th>0</th>\n",
       "      <td>0.124169</td>\n",
       "      <td>-0.058249</td>\n",
       "      <td>0.05158</td>\n",
       "      <td>-0.617411</td>\n",
       "      <td>0.136002</td>\n",
       "      <td>0.142731</td>\n",
       "      <td>0.150453</td>\n",
       "      <td>-0.002463</td>\n",
       "      <td>-0.003767</td>\n",
       "      <td>-0.00508</td>\n",
       "      <td>...</td>\n",
       "      <td>-0.011715</td>\n",
       "      <td>-0.015433</td>\n",
       "      <td>-0.03777</td>\n",
       "      <td>-0.530555</td>\n",
       "      <td>-0.58853</td>\n",
       "      <td>-0.626984</td>\n",
       "      <td>-0.010826</td>\n",
       "      <td>-0.041888</td>\n",
       "      <td>-0.527556</td>\n",
       "      <td>1.0</td>\n",
       "    </tr>\n",
       "  </tbody>\n",
       "</table>\n",
       "<p>1 rows × 48 columns</p>\n",
       "</div>"
      ],
      "text/plain": [
       "    EUR/USD   GBP/USD  USD/CHF   USD/CAD  ema_5 EUR/USD  ema_10 EUR/USD  \\\n",
       "0  0.124169 -0.058249  0.05158 -0.617411       0.136002        0.142731   \n",
       "\n",
       "   ema_15 EUR/USD  dema_5 EUR/USD  dema_10 EUR/USD  dema_15 EUR/USD  \\\n",
       "0        0.150453       -0.002463        -0.003767         -0.00508   \n",
       "\n",
       "          ...           dema_10 USD/CAD  dema_15 USD/CAD  macd USD/CAD  \\\n",
       "0         ...                 -0.011715        -0.015433      -0.03777   \n",
       "\n",
       "   rsi_5 USD/CAD  rsi_20 USD/CAD  rsi_30 USD/CAD  EUR/USD+GBP/USD  \\\n",
       "0      -0.530555        -0.58853       -0.626984        -0.010826   \n",
       "\n",
       "   GBP/USD+USD/CHF  USD/CHF+USD/CAD  target_variable_dup  \n",
       "0        -0.041888        -0.527556                  1.0  \n",
       "\n",
       "[1 rows x 48 columns]"
      ]
     },
     "execution_count": 52,
     "metadata": {},
     "output_type": "execute_result"
    }
   ],
   "source": [
    "df.head(1)"
   ]
  },
  {
   "cell_type": "code",
   "execution_count": 22,
   "metadata": {
    "collapsed": false
   },
   "outputs": [],
   "source": [
    "def calculate_corr_and_remove(df, serie_binary_class, plot=True):\n",
    "    \"\"\"\n",
    "    calculate correlation with binary classification serie\n",
    "    collumns less then 5% are removed and wont be used on\n",
    "    random forest\n",
    "    \"\"\"\n",
    "    df['target_variable_dup'] = serie_binary_class\n",
    "    corr = df.corr().ix['target_variable_dup', :-1]\n",
    "    corr = p.apply(lambda x: np.abs(x))\n",
    "    p.sort_values(ascending=False, inplace=True)\n",
    "    if plot:\n",
    "        print(p)\n",
    "    df.drop(p.index[p < 0.05], axis='columns', inplace=True)\n",
    "    df.drop('target_varible_dup', axis='columns', inplace=True)"
   ]
  },
  {
   "cell_type": "markdown",
   "metadata": {},
   "source": [
    "### We will use everything above 5% correlation ###\n",
    "\n",
    "Correlation of indicator variables should be rule of thumb:\n",
    "\n",
    "At least 5%.\n",
    "\n",
    "Remove those bellow 5%"
   ]
  },
  {
   "cell_type": "code",
   "execution_count": 55,
   "metadata": {
    "collapsed": false
   },
   "outputs": [],
   "source": [
    "toremove = p.index[p < 0.05]"
   ]
  },
  {
   "cell_type": "code",
   "execution_count": 56,
   "metadata": {
    "collapsed": false,
    "scrolled": true
   },
   "outputs": [
    {
     "data": {
      "text/html": [
       "<div>\n",
       "<table border=\"1\" class=\"dataframe\">\n",
       "  <thead>\n",
       "    <tr style=\"text-align: right;\">\n",
       "      <th></th>\n",
       "      <th>GBP/USD</th>\n",
       "      <th>rsi_5 EUR/USD</th>\n",
       "      <th>rsi_20 EUR/USD</th>\n",
       "      <th>ema_5 GBP/USD</th>\n",
       "      <th>ema_10 GBP/USD</th>\n",
       "      <th>ema_15 GBP/USD</th>\n",
       "      <th>macd GBP/USD</th>\n",
       "      <th>rsi_20 GBP/USD</th>\n",
       "      <th>rsi_30 GBP/USD</th>\n",
       "      <th>rsi_5 USD/CHF</th>\n",
       "      <th>...</th>\n",
       "      <th>dema_5 USD/CAD</th>\n",
       "      <th>dema_10 USD/CAD</th>\n",
       "      <th>dema_15 USD/CAD</th>\n",
       "      <th>macd USD/CAD</th>\n",
       "      <th>rsi_5 USD/CAD</th>\n",
       "      <th>rsi_20 USD/CAD</th>\n",
       "      <th>rsi_30 USD/CAD</th>\n",
       "      <th>EUR/USD+GBP/USD</th>\n",
       "      <th>GBP/USD+USD/CHF</th>\n",
       "      <th>target_variable_dup</th>\n",
       "    </tr>\n",
       "  </thead>\n",
       "  <tbody>\n",
       "    <tr>\n",
       "      <th>0</th>\n",
       "      <td>-0.058249</td>\n",
       "      <td>0.493197</td>\n",
       "      <td>0.585257</td>\n",
       "      <td>-0.058964</td>\n",
       "      <td>-0.061132</td>\n",
       "      <td>-0.063162</td>\n",
       "      <td>-0.007538</td>\n",
       "      <td>0.529163</td>\n",
       "      <td>0.569762</td>\n",
       "      <td>-0.526991</td>\n",
       "      <td>...</td>\n",
       "      <td>-0.007795</td>\n",
       "      <td>-0.011715</td>\n",
       "      <td>-0.015433</td>\n",
       "      <td>-0.037770</td>\n",
       "      <td>-0.530555</td>\n",
       "      <td>-0.58853</td>\n",
       "      <td>-0.626984</td>\n",
       "      <td>-0.010826</td>\n",
       "      <td>-0.041888</td>\n",
       "      <td>1.0</td>\n",
       "    </tr>\n",
       "    <tr>\n",
       "      <th>1</th>\n",
       "      <td>-0.034520</td>\n",
       "      <td>0.493197</td>\n",
       "      <td>0.585257</td>\n",
       "      <td>-0.044384</td>\n",
       "      <td>-0.047091</td>\n",
       "      <td>-0.048944</td>\n",
       "      <td>-0.004611</td>\n",
       "      <td>0.529163</td>\n",
       "      <td>0.569762</td>\n",
       "      <td>-0.526991</td>\n",
       "      <td>...</td>\n",
       "      <td>-0.019317</td>\n",
       "      <td>-0.020187</td>\n",
       "      <td>-0.022652</td>\n",
       "      <td>-0.038531</td>\n",
       "      <td>-0.530555</td>\n",
       "      <td>-0.58853</td>\n",
       "      <td>-0.626984</td>\n",
       "      <td>0.016952</td>\n",
       "      <td>-0.052758</td>\n",
       "      <td>1.0</td>\n",
       "    </tr>\n",
       "  </tbody>\n",
       "</table>\n",
       "<p>2 rows × 22 columns</p>\n",
       "</div>"
      ],
      "text/plain": [
       "    GBP/USD  rsi_5 EUR/USD  rsi_20 EUR/USD  ema_5 GBP/USD  ema_10 GBP/USD  \\\n",
       "0 -0.058249       0.493197        0.585257      -0.058964       -0.061132   \n",
       "1 -0.034520       0.493197        0.585257      -0.044384       -0.047091   \n",
       "\n",
       "   ema_15 GBP/USD  macd GBP/USD  rsi_20 GBP/USD  rsi_30 GBP/USD  \\\n",
       "0       -0.063162     -0.007538        0.529163        0.569762   \n",
       "1       -0.048944     -0.004611        0.529163        0.569762   \n",
       "\n",
       "   rsi_5 USD/CHF         ...           dema_5 USD/CAD  dema_10 USD/CAD  \\\n",
       "0      -0.526991         ...                -0.007795        -0.011715   \n",
       "1      -0.526991         ...                -0.019317        -0.020187   \n",
       "\n",
       "   dema_15 USD/CAD  macd USD/CAD  rsi_5 USD/CAD  rsi_20 USD/CAD  \\\n",
       "0        -0.015433     -0.037770      -0.530555        -0.58853   \n",
       "1        -0.022652     -0.038531      -0.530555        -0.58853   \n",
       "\n",
       "   rsi_30 USD/CAD  EUR/USD+GBP/USD  GBP/USD+USD/CHF  target_variable_dup  \n",
       "0       -0.626984        -0.010826        -0.041888                  1.0  \n",
       "1       -0.626984         0.016952        -0.052758                  1.0  \n",
       "\n",
       "[2 rows x 22 columns]"
      ]
     },
     "execution_count": 56,
     "metadata": {},
     "output_type": "execute_result"
    }
   ],
   "source": [
    "df.drop(p.index[p < 0.05], axis='columns', inplace=True)\n",
    "df.tail(2)"
   ]
  },
  {
   "cell_type": "markdown",
   "metadata": {},
   "source": [
    "## SAVE ##"
   ]
  },
  {
   "cell_type": "code",
   "execution_count": 57,
   "metadata": {
    "collapsed": true
   },
   "outputs": [],
   "source": [
    "df.to_pickle('data_for_classification.pandas')"
   ]
  },
  {
   "cell_type": "code",
   "execution_count": null,
   "metadata": {
    "collapsed": true
   },
   "outputs": [],
   "source": []
  }
 ],
 "metadata": {
  "kernelspec": {
   "display_name": "Python 3",
   "language": "python",
   "name": "python3"
  },
  "language_info": {
   "codemirror_mode": {
    "name": "ipython",
    "version": 3
   },
   "file_extension": ".py",
   "mimetype": "text/x-python",
   "name": "python",
   "nbconvert_exporter": "python",
   "pygments_lexer": "ipython3",
   "version": "3.5.1"
  }
 },
 "nbformat": 4,
 "nbformat_minor": 0
}
