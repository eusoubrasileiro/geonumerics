{
 "metadata": {
  "name": ""
 },
 "nbformat": 3,
 "nbformat_minor": 0,
 "worksheets": [
  {
   "cells": [
    {
     "cell_type": "markdown",
     "metadata": {},
     "source": [
      "Trying to port the old code of *obspy_integration* branch and PR \n",
      "to not use **OBSPY** inside fatiando. \n",
      "\n",
      "Not seeing any reason to do so."
     ]
    },
    {
     "cell_type": "code",
     "collapsed": false,
     "input": [
      "import obspy\n",
      "%pylab inline\n",
      "import numpy"
     ],
     "language": "python",
     "metadata": {},
     "outputs": [
      {
       "output_type": "stream",
       "stream": "stdout",
       "text": [
        "Populating the interactive namespace from numpy and matplotlib\n"
       ]
      }
     ],
     "prompt_number": 8
    },
    {
     "cell_type": "code",
     "collapsed": false,
     "input": [
      "def seismic_image(section, ranges=None, dt=0.004, cmap=pyplot.cm.gray, aspect=None, vmin=None, vmax=None):\n",
      "    \"\"\"\n",
      "    Plot a seismic section (numpy 2D array matrix) as an image.\n",
      "\n",
      "    Parameters:\n",
      "\n",
      "    * section :  2D array\n",
      "        matrix of traces\n",
      "    * ranges : (x1, x2)\n",
      "        min and max horizontal values (default trace number)\n",
      "    * dt: float\n",
      "        sample rate \n",
      "    * cmap : colormap\n",
      "        color map to be used. (see pyplot.cm module)\n",
      "    * aspect : float\n",
      "        matplotlib imshow aspect parameter, ratio between axes\n",
      "    * vmin, vmax : float\n",
      "        min and max values for imshow\n",
      "\n",
      "    \"\"\"\n",
      "    maxtraces = len(section)\n",
      "    if maxtraces < 1 :\n",
      "        raise IndexError(\"Nothing to plot\")\n",
      "    npts = len(section[0].data)\n",
      "    if npts < 1 :\n",
      "        raise IndexError(\"Nothing to plot\")\n",
      "    t = section[0].times()\n",
      "    data = section\n",
      "    if ranges == None:\n",
      "        ranges = (0, maxtraces)\n",
      "    x0, x1 = ranges\n",
      "    extent = (x0, x1, t[-1:], t[0])\n",
      "    if aspect == None: # guarantee a rectangular picture\n",
      "        aspect = numpy.round((x1-x0)/numpy.max(t))\n",
      "        aspect -= aspect*0.2\n",
      "    pyplot.imshow(data, aspect=aspect, cmap=cmap, origin='upper',\n",
      "                  extent=extent, vmin=vmin, vmax=vmax)\n"
     ],
     "language": "python",
     "metadata": {},
     "outputs": [],
     "prompt_number": 16
    },
    {
     "cell_type": "code",
     "collapsed": false,
     "input": [
      "data = numpy.random.rand(10,10)"
     ],
     "language": "python",
     "metadata": {},
     "outputs": [],
     "prompt_number": 17
    },
    {
     "cell_type": "code",
     "collapsed": false,
     "input": [
      "len(data)\n"
     ],
     "language": "python",
     "metadata": {},
     "outputs": [
      {
       "metadata": {},
       "output_type": "pyout",
       "prompt_number": 19,
       "text": [
        "10"
       ]
      }
     ],
     "prompt_number": 19
    },
    {
     "cell_type": "code",
     "collapsed": false,
     "input": [],
     "language": "python",
     "metadata": {},
     "outputs": []
    }
   ],
   "metadata": {}
  }
 ]
}