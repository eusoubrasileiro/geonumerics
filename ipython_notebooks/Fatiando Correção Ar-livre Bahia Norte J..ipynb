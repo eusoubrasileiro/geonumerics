{
 "metadata": {
  "name": "",
  "signature": "sha256:64222e47ff561b2d02336f92ade16bd1bf5e6b4d0fff7ecf4b5bcf68b5afdbc1"
 },
 "nbformat": 3,
 "nbformat_minor": 0,
 "worksheets": [
  {
   "cells": [
    {
     "cell_type": "code",
     "collapsed": false,
     "input": [
      "%pylab inline\n",
      "import numpy"
     ],
     "language": "python",
     "metadata": {},
     "outputs": []
    },
    {
     "cell_type": "markdown",
     "metadata": {},
     "source": [
      "###Load csv data###\n",
      "\n",
      "From bahia norte marine acquisiton just csv file "
     ]
    },
    {
     "cell_type": "code",
     "collapsed": false,
     "input": [
      "import pandas\n",
      "%cd /home/andre/Documents/grav_mag/\n",
      "data = pandas.read_csv('Jacuipe_csv_potenciais.csv')\n",
      "%cd Fatiando"
     ],
     "language": "python",
     "metadata": {},
     "outputs": []
    },
    {
     "cell_type": "code",
     "collapsed": false,
     "input": [
      "data.columns"
     ],
     "language": "python",
     "metadata": {},
     "outputs": []
    },
    {
     "cell_type": "markdown",
     "metadata": {},
     "source": [
      "####Number of seismic lines / surveys of grav/mag####\n",
      "\n",
      "####Get the number of seismic lines in this data set####\n",
      "\n",
      "**And its line name numbers**"
     ]
    },
    {
     "cell_type": "code",
     "collapsed": false,
     "input": [
      "data['lin'].unique()\n",
      "print data['lin'].nunique()"
     ],
     "language": "python",
     "metadata": {},
     "outputs": []
    },
    {
     "cell_type": "markdown",
     "metadata": {},
     "source": [
      "Just reviewing the field names by Ribamar\n",
      "\n",
      "* eq : equisition team\n",
      "* line : line number\n",
      "* pt : shot point\n",
      "* cotabati : seabottom depth\n",
      "* magbruto : mag readings instrument\n",
      "* magigrf : igrf correctiong for mag\n",
      "* maganomn : mag anomally \n",
      "* grvbruta : raw gravity readings instrument\n",
      "* grvobser : raw gravity value\n",
      "* creotvos : etvos correction\n",
      "* crlatitu : normal gravity model correction\n",
      "* Anom. Ar-livre : free air anomally\n",
      "* crboug2d : corre\u00e7\u00e3o Bouguer por modelagem 2D\n",
      "* grvbougc : gravidade Bouguer calculada\n",
      "* grvbouga : gravidade Bouguer nivelada\n",
      "* longsad69 : longitude in SAD60 datum\n",
      "* latsad69 : latitude in SAD60 datum"
     ]
    },
    {
     "cell_type": "code",
     "collapsed": false,
     "input": [
      "print data[data['lin'] == 202.][:5]"
     ],
     "language": "python",
     "metadata": {},
     "outputs": []
    },
    {
     "cell_type": "markdown",
     "metadata": {},
     "source": [
      "#### Overview of data, removing gross outliers ####\n",
      "\n",
      "#### After summing eotvos correction ####\n",
      "Correct the gravity summing its eotvos correction\n",
      "\n",
      "* latitude correction is useless"
     ]
    },
    {
     "cell_type": "code",
     "collapsed": false,
     "input": [
      "pylab.figure(figsize=(15,2))\n",
      "#plot(data['grvbruta'], 'k') # i cant use it\n",
      "plot(data['grvobser'], 'b') # raw observed gravity\n",
      "ylabel('measured gravity (mGal)')\n",
      "# removing 974000 less values (fast clean)\n",
      "pylab.figure(figsize=(15,2))\n",
      "data[ np.abs(data['grvobser']) < 974000 ] = numpy.nan\n",
      "plot(data['grvobser'], 'b') # raw observed gravity\n",
      "ylabel('measured gravity clean (mGal)')\n",
      "pylab.figure(figsize=(15,2))\n",
      "plot(data['creotvos'], 'g') # etvos correction\n",
      "ylabel('eotvos correction (mGal)')\n",
      "#plot(data['crlatitu'], 'r') useless\n",
      "#plot(data['Anom. Ar-livre'],'y')\n",
      "#plot(data['grvbougc'], 'b')\n",
      "#plot(data['grvbouga'], 'g')\n",
      "# create eotvos corrected gravity \n",
      "data['eotvos gravity'] = data['grvobser'] + data['creotvos']\n",
      "pylab.figure(figsize=(15,2))\n",
      "plot(data['eotvos gravity'])\n",
      "ylabel('eotvos gravity (mGal)')"
     ],
     "language": "python",
     "metadata": {},
     "outputs": []
    },
    {
     "cell_type": "markdown",
     "metadata": {},
     "source": [
      "### make the normal earth correction ###\n",
      "\n",
      "Since this data is all marine it's equivalent to **Free-air anomaly**\n",
      "\n",
      "Compare with the free-air from the original data. It's identical means we might be okay.\n",
      "\n",
      "*Have to make coordinate transformation of my data SAD69.\n",
      "It's SAD 69 while normal gravity in fatiando uses WGS84*"
     ]
    },
    {
     "cell_type": "code",
     "collapsed": false,
     "input": [
      "%cd Fatiando\n",
      "from fatiando.gravmag import normal_gravity\n",
      "# We'll do this using the closed form of the normal gravity for the WGS84, at sea-leavel\n",
      "# create normal earth correction gravity \n",
      "data['gamma'] = normal_gravity.gamma_closed_form(data['latsad69'].values, numpy.zeros(len(data)))\n",
      "pylab.figure(figsize=(15,2))\n",
      "plot(data['gamma'])\n",
      "ylabel('normal gravity correction (mGal)')\n",
      "# correct data\n",
      "data['freeair gravity'] = data['eotvos gravity'] - data['gamma'] \n",
      "pylab.figure(figsize=(15,2))\n",
      "plot(data['freeair gravity'],'b')\n",
      "plot(data['Anom. Ar-livre'], 'r')\n",
      "ylabel('gravity gamma corrected (mGal)')"
     ],
     "language": "python",
     "metadata": {},
     "outputs": []
    },
    {
     "cell_type": "markdown",
     "metadata": {},
     "source": [
      "**Make analysis by lines**\n",
      "\n",
      "lines bellow\n"
     ]
    },
    {
     "cell_type": "code",
     "collapsed": false,
     "input": [
      "data['lin'].unique()"
     ],
     "language": "python",
     "metadata": {},
     "outputs": []
    },
    {
     "cell_type": "markdown",
     "metadata": {},
     "source": [
      "don't run it due many pictures. To avoid saving it on the notebook too many."
     ]
    },
    {
     "cell_type": "code",
     "collapsed": false,
     "input": [
      "#for line in data['lin'].unique():    \n",
      "#    figure(figsize(15,1))\n",
      "#    df = data.ix[data['lin'] == line, 'freeair gravity']\n",
      "#    plot(df.index, df.values,'.b')\n",
      "#    ylabel(str(line))"
     ],
     "language": "python",
     "metadata": {},
     "outputs": []
    },
    {
     "cell_type": "markdown",
     "metadata": {},
     "source": [
      "Gross spike/staircase problems with lines:\n",
      "* 192[1400:1450]\n",
      "* 181[3825:3875]\n",
      "* 149[9820:9860] \n",
      "* 143[10640:10680] #stair\n",
      "\n",
      "Remove 'em"
     ]
    },
    {
     "cell_type": "code",
     "collapsed": false,
     "input": [
      "data.ix[1400:1450, 'freeair gravity'] = numpy.nan \n",
      "data.ix[3825:3875, 'freeair gravity'] = numpy.nan \n",
      "data.ix[9820:9860, 'freeair gravity'] = numpy.nan \n",
      "data.ix[10640:10680, 'freeair gravity'] = numpy.nan "
     ],
     "language": "python",
     "metadata": {},
     "outputs": []
    },
    {
     "cell_type": "markdown",
     "metadata": {},
     "source": [
      "And lets use also a moving average size 50\n",
      "\n",
      "I am not using due the fact it seams to be increasing the number of nan's "
     ]
    },
    {
     "cell_type": "code",
     "collapsed": false,
     "input": [
      "#for line in data['lin'].unique():    \n",
      "#    figure(figsize(15,1))       \n",
      "#    mvags = data.ix[data['lin'] == line, 'freeair gravity']\n",
      "#    mvags = pandas.rolling_mean(mvags, 10)\n",
      "#    data.ix[data['lin'] == line, 'freeair gravity'] = mvags\n",
      "#    df = data.ix[data['lin'] == line, 'freeair gravity']\n",
      "#    plot(df.index, df.values,'.b')\n",
      "#    ylabel(str(line))"
     ],
     "language": "python",
     "metadata": {},
     "outputs": []
    },
    {
     "cell_type": "code",
     "collapsed": false,
     "input": [
      "figure(figsize=(12, 10))\n",
      "lon, lat = data['longsad69'].values, data['latsad69'].values\n",
      "area = (np.nanmin(lon), np.nanmax(lon), np.nanmin(lat), np.nanmax(lat))\n",
      "colors = (data['freeair gravity'].values)\n",
      "scatter(lon, lat, c=colors, marker='<', edgecolor='none', cmap=mpl.cm.RdBu_r)\n",
      "colorbar()\n",
      "ylabel('gravity (mGal)')"
     ],
     "language": "python",
     "metadata": {},
     "outputs": []
    },
    {
     "cell_type": "code",
     "collapsed": false,
     "input": [
      "#data = data.fillna(-999.99) # this is problably the problem nan values on coordinates\n",
      "df = data[ (data.latsad69 > -14) & (data.longsad69 > -39)]\n",
      "# the coordinate slice used to work don't know why...."
     ],
     "language": "python",
     "metadata": {},
     "outputs": []
    },
    {
     "cell_type": "code",
     "collapsed": false,
     "input": [
      "def cmap_discretize(cmap, N):\n",
      "    \"\"\"Return a discrete colormap from the continuous colormap cmap.\n",
      "    \n",
      "        cmap: colormap instance, eg. cm.jet. \n",
      "        N: number of colors.\n",
      "    \n",
      "    Example\n",
      "        x = resize(arange(100), (5,100))\n",
      "        djet = cmap_discretize(cm.jet, 5)\n",
      "        imshow(x, cmap=djet)\n",
      "    \"\"\"\n",
      "\n",
      "    if type(cmap) == str:\n",
      "        cmap = get_cmap(cmap)\n",
      "    colors_i = concatenate((linspace(0, 1., N), (0.,0.,0.,0.)))\n",
      "    colors_rgba = cmap(colors_i)\n",
      "    indices = linspace(0, 1., N+1)\n",
      "    cdict = {}\n",
      "    for ki,key in enumerate(('red','green','blue')):\n",
      "        cdict[key] = [ (indices[i], colors_rgba[i-1,ki], colors_rgba[i,ki]) for i in xrange(N+1) ]\n",
      "    # Return colormap object.\n",
      "    return matplotlib.colors.LinearSegmentedColormap(cmap.name + \"_%d\"%N, cdict, 1024)"
     ],
     "language": "python",
     "metadata": {},
     "outputs": []
    },
    {
     "cell_type": "code",
     "collapsed": false,
     "input": [
      "import scipy\n",
      "from scipy.interpolate import Rbf\n",
      "import matplotlib\n",
      "from pyproj import Proj\n",
      "from mpl_toolkits.axes_grid1 import make_axes_locatable\n",
      "\n",
      "myProj = Proj(init='EPSG:29194') # SAD69 UTM 24S\n",
      "\n",
      "utmx, utmy = myProj(df['longsad69'].values, df['latsad69'].values)\n",
      "area = (np.min(utmx), np.max(utmx), np.min(utmy), np.max(utmy))\n",
      "\n",
      "print area\n",
      "\n",
      "x = np.linspace(area[0], area[1], 200) # lon, lon\n",
      "y = np.linspace(area[2], area[3], 200) # lat, lat\n",
      "xv, yv = meshgrid(x, y)\n",
      "\n",
      "gridded = scipy.interpolate.griddata((utmx, utmy), df['freeair gravity'].values, (xv, yv), method='linear')\n",
      "#rbfi = Rbf(lon, lat, df['freeair gravity'].values, function='linear')  # radial basis function interpolator instance\n",
      "#gridded = rbfi(x, y)   # interpolated values\n",
      "\n",
      "zz = ma.masked_where(isnan(gridded), gridded)\n",
      "xv = ma.masked_where(isnan(gridded), xv)\n",
      "yv = ma.masked_where(isnan(gridded), yv)\n",
      "\n",
      "fig = figure(figsize=(10, 10))\n",
      "ax1 = fig.add_subplot(111)\n",
      "\n",
      "cNorm = matplotlib.colors.Normalize(vmin=131, vmax=202)\n",
      "\n",
      "im1 = ax1.pcolormesh(xv, yv, zz, cmap=mpl.cm.RdBu_r, vmin=-45, vmax=45) # shading='gouraud' mpl.cm.jet_r\n",
      "\n",
      "ylim = im1.axes.get_ylim()\n",
      "xlim = im1.axes.get_xlim()\n",
      "\n",
      "divider = make_axes_locatable(ax1)\n",
      "cax1 = divider.append_axes(\"bottom\", \"5%\", pad=\"5%\")\n",
      "cb1 = colorbar(im1, orientation='horizontal', cax=cax1)\n",
      "cb1.set_label('free-air gravity (mGal)')\n",
      "\n",
      "im2 = ax1.scatter(utmx, utmy, s=2, c=df['lin'], norm=cNorm, edgecolors='none', cmap=cmap_discretize(mpl.cm.jet, 32))\n",
      "\n",
      "cax2 = divider.append_axes(\"bottom\", \"5%\", pad=\"6%\")\n",
      "cb2 = colorbar(im2, orientation='horizontal', cax=cax2)\n",
      "cb2.set_label('seismic line number')\n",
      "\n",
      "im2.axes.set_ylim(ylim)\n",
      "im2.axes.set_xlim(xlim)\n",
      "\n",
      "tight_layout()"
     ],
     "language": "python",
     "metadata": {},
     "outputs": []
    },
    {
     "cell_type": "code",
     "collapsed": false,
     "input": [],
     "language": "python",
     "metadata": {},
     "outputs": []
    }
   ],
   "metadata": {}
  }
 ]
}