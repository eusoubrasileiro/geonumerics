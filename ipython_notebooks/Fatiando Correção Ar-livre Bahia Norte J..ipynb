{
 "metadata": {
  "name": "",
  "signature": "sha256:1f633cb7a5bad63f4d62b374c43c142508ec19c95aa088f2bdc89834da471076"
 },
 "nbformat": 3,
 "nbformat_minor": 0,
 "worksheets": [
  {
   "cells": [
    {
     "cell_type": "code",
     "collapsed": false,
     "input": [
      "%pylab inline\n",
      "import numpy"
     ],
     "language": "python",
     "metadata": {},
     "outputs": []
    },
    {
     "cell_type": "markdown",
     "metadata": {},
     "source": [
      "###Load csv data###\n",
      "\n",
      "From bahia norte marine acquisiton just csv file "
     ]
    },
    {
     "cell_type": "code",
     "collapsed": false,
     "input": [
      "import pandas\n",
      "%cd /media/sf_VBShared/GRAVIMETRIA_MAGNETOMETRIA/\n",
      "data = pandas.read_csv('Jacuipe_csv_potenciais.csv')\n",
      "%cd Fatiando"
     ],
     "language": "python",
     "metadata": {},
     "outputs": []
    },
    {
     "cell_type": "code",
     "collapsed": false,
     "input": [
      "data.columns"
     ],
     "language": "python",
     "metadata": {},
     "outputs": []
    },
    {
     "cell_type": "markdown",
     "metadata": {},
     "source": [
      "####Number of seismic lines / surveys of grav/mag####\n",
      "\n",
      "####Get the number of seismic lines in this data set####\n",
      "\n",
      "**And its line name numbers**"
     ]
    },
    {
     "cell_type": "code",
     "collapsed": false,
     "input": [
      "data['lin'].unique()"
     ],
     "language": "python",
     "metadata": {},
     "outputs": []
    },
    {
     "cell_type": "markdown",
     "metadata": {},
     "source": [
      "Just reviewing the field names by Ribamar\n",
      "\n",
      "* eq : equisition team\n",
      "* line : line number\n",
      "* pt : shot point\n",
      "* cotabati : seabottom depth\n",
      "* magbruto : mag readings instrument\n",
      "* magigrf : igrf correctiong for mag\n",
      "* maganomn : mag anomally \n",
      "* grvbruta : raw gravity readings instrument\n",
      "* grvobser : raw gravity value\n",
      "* creotvos : etvos correction\n",
      "* crlatitu : normal gravity model correction\n",
      "* Anom. Ar-livre : free air anomally\n",
      "* crboug2d : corre\u00e7\u00e3o Bouguer por modelagem 2D\n",
      "* grvbougc : gravidade Bouguer calculada\n",
      "* grvbouga : gravidade Bouguer nivelada\n",
      "* longsad69 : longitude in SAD60 datum\n",
      "* latsad69 : latitude in SAD60 datum"
     ]
    },
    {
     "cell_type": "code",
     "collapsed": false,
     "input": [
      "print data[data['lin'] == 202.][:5]"
     ],
     "language": "python",
     "metadata": {},
     "outputs": []
    },
    {
     "cell_type": "markdown",
     "metadata": {},
     "source": [
      "#### Overview of data, removing gross outliers ####\n",
      "\n",
      "#### After summing eotvos correction ####\n",
      "Correct the gravity summing its eotvos correction\n",
      "\n",
      "* latitude correction is useless"
     ]
    },
    {
     "cell_type": "code",
     "collapsed": false,
     "input": [
      "pylab.figure(figsize=(15,2))\n",
      "#plot(data['grvbruta'], 'k') # i cant use it\n",
      "plot(data['grvobser'], 'b') # raw observed gravity\n",
      "ylabel('measured gravity (mGal)')\n",
      "# removing 974000 less values (fast clean)\n",
      "pylab.figure(figsize=(15,2))\n",
      "data[ np.abs(data['grvobser']) < 974000 ] = numpy.nan\n",
      "plot(data['grvobser'], 'b') # raw observed gravity\n",
      "ylabel('measured gravity clean (mGal)')\n",
      "pylab.figure(figsize=(15,2))\n",
      "plot(data['creotvos'], 'g') # etvos correction\n",
      "ylabel('eotvos correction (mGal)')\n",
      "#plot(data['crlatitu'], 'r') useless\n",
      "#plot(data['Anom. Ar-livre'],'y')\n",
      "#plot(data['grvbougc'], 'b')\n",
      "#plot(data['grvbouga'], 'g')\n",
      "# create eotvos corrected gravity \n",
      "data['eotvos gravity'] = data['grvobser'] + data['creotvos']\n",
      "pylab.figure(figsize=(15,2))\n",
      "plot(data['eotvos gravity'])\n",
      "ylabel('eotvos gravity (mGal)')"
     ],
     "language": "python",
     "metadata": {},
     "outputs": []
    },
    {
     "cell_type": "markdown",
     "metadata": {},
     "source": [
      "### make the normal earth correction ###\n",
      "\n",
      "Since this data is all marine it's equivalent to **Free-air anomaly**\n",
      "\n",
      "Compare with the free-air from the original data. It's identical means we might be okay.\n",
      "\n",
      "*Have to make coordinate transformation of my data SAD69.\n",
      "It's SAD 69 while normal gravity in fatiando uses WGS84*"
     ]
    },
    {
     "cell_type": "code",
     "collapsed": false,
     "input": [
      "%cd Fatiando\n",
      "%cd fatiando\n",
      "from fatiando.gravmag import normal_gravity\n",
      "# We'll do this using the closed form of the normal gravity for the WGS84, at sea-leavel\n",
      "# create normal earth correction gravity \n",
      "data['gamma'] = normal_gravity.gamma_closed_form(data['latsad69'].values, numpy.zeros(len(data)))\n",
      "pylab.figure(figsize=(15,2))\n",
      "plot(data['gamma'])\n",
      "ylabel('normal gravity correction (mGal)')\n",
      "# correct data\n",
      "data['freeair gravity'] = data['eotvos gravity'] - data['gamma'] \n",
      "pylab.figure(figsize=(15,2))\n",
      "plot(data['freeair gravity'],'b')\n",
      "plot(data['Anom. Ar-livre'], 'r')\n",
      "ylabel('gravity gamma corrected (mGal)')"
     ],
     "language": "python",
     "metadata": {},
     "outputs": []
    },
    {
     "cell_type": "markdown",
     "metadata": {},
     "source": [
      "**Make analysis by lines**\n",
      "\n",
      "lines bellow\n"
     ]
    },
    {
     "cell_type": "code",
     "collapsed": false,
     "input": [
      "data['lin'].unique()"
     ],
     "language": "python",
     "metadata": {},
     "outputs": []
    },
    {
     "cell_type": "markdown",
     "metadata": {},
     "source": [
      "don't run it due many pictures. To avoid saving it on the notebook too many."
     ]
    },
    {
     "cell_type": "code",
     "collapsed": false,
     "input": [
      "#for line in data['lin'].unique():    \n",
      "#    figure(figsize(15,1))\n",
      "#    df = data.ix[data['lin'] == line, 'freeair gravity']\n",
      "#    plot(df.index, df.values,'+b')\n",
      "#    ylabel(str(line))"
     ],
     "language": "python",
     "metadata": {},
     "outputs": []
    },
    {
     "cell_type": "markdown",
     "metadata": {},
     "source": [
      "Gross spike/staircase problems with lines:\n",
      "* 192[1400:1450]\n",
      "* 181[3825:3875]\n",
      "* 149[9820:9860] \n",
      "* 143[10640:10680] #stair\n",
      "\n",
      "Remove 'em"
     ]
    },
    {
     "cell_type": "code",
     "collapsed": false,
     "input": [
      "data.ix[1400:1450, 'freeair gravity'] = numpy.nan \n",
      "data.ix[3825:3875, 'freeair gravity'] = numpy.nan \n",
      "data.ix[9820:9860, 'freeair gravity'] = numpy.nan \n",
      "data.ix[10640:10680, 'freeair gravity'] = numpy.nan "
     ],
     "language": "python",
     "metadata": {},
     "outputs": []
    },
    {
     "cell_type": "markdown",
     "metadata": {},
     "source": [
      "And lets use also a moving average size 50"
     ]
    },
    {
     "cell_type": "code",
     "collapsed": false,
     "input": [
      "figure(figsize=(12, 10))\n",
      "lon, lat = data['longsad69'].values, data['latsad69'].values\n",
      "area = (np.nanmin(lon), np.nanmax(lon), np.nanmin(lat), np.nanmax(lat))\n",
      "colors = (data['freeair gravity'].values)\n",
      "scatter(lon, lat, c=colors, marker='<', edgecolor='none', cmap=mpl.cm.RdBu_r)\n",
      "colorbar()\n",
      "ylabel('gravity (mGal)')"
     ],
     "language": "python",
     "metadata": {},
     "outputs": []
    },
    {
     "cell_type": "code",
     "collapsed": false,
     "input": [
      "#data = data.fillna(-999.99) # this is problably the problem nan values on coordinates\n",
      "df = data[ (data.latsad69 != numpy.nan) & (data.longsad69 != numpy.nan) & (data['freeair gravity'] != numpy.nan)]\n",
      "# the coordinate slice used to work don't know why...."
     ],
     "language": "python",
     "metadata": {},
     "outputs": []
    },
    {
     "cell_type": "code",
     "collapsed": false,
     "input": [
      "import scipy\n",
      "lon, lat = df['longsad69'].values, df['latsad69'].values\n",
      "area = (np.min(lon), np.max(lon), np.min(lat), np.max(lat))\n",
      "print area\n",
      "x = np.linspace(area[0], area[1], 200) # lon, lon\n",
      "y = np.linspace(area[2], area[3], 200) # lat, lat\n",
      "xv, yv = meshgrid(x, y)\n",
      "gridded = scipy.interpolate.griddata((lon, lat), df['freeair gravity'].values, (xv, yv), method='linear')\n",
      "zz = ma.masked_where(isnan(gridded), gridded)\n",
      "xv = ma.masked_where(isnan(gridded), xv)\n",
      "yv = ma.masked_where(isnan(gridded), yv)\n",
      "figure(figsize=(15, 10))\n",
      "pcolormesh(xv, yv, zz, cmap=mpl.cm.RdBu_r) # shading='gouraud' mpl.cm.jet_r\n",
      "plot(lon, lat, 'k,')\n",
      "axis('tight')\n",
      "colorbar()"
     ],
     "language": "python",
     "metadata": {},
     "outputs": []
    },
    {
     "cell_type": "code",
     "collapsed": false,
     "input": [
      "lon, lat = data['longsad69'].values, data['latsad69'].values\n",
      "area = (np.nanmin(lon), np.nanmax(lon), np.nanmin(lat), np.nanmax(lat))\n",
      "print area"
     ],
     "language": "python",
     "metadata": {},
     "outputs": []
    },
    {
     "cell_type": "code",
     "collapsed": false,
     "input": [
      "df?"
     ],
     "language": "python",
     "metadata": {},
     "outputs": []
    },
    {
     "cell_type": "code",
     "collapsed": false,
     "input": [],
     "language": "python",
     "metadata": {},
     "outputs": []
    }
   ],
   "metadata": {}
  }
 ]
}